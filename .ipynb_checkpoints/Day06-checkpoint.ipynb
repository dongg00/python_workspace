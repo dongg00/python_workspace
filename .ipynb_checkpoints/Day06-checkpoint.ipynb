{
 "cells": [
  {
   "cell_type": "code",
   "execution_count": 3,
   "id": "333e5aae-e017-40ff-b15e-0bce613fcba6",
   "metadata": {},
   "outputs": [
    {
     "data": {
      "text/plain": [
       "'{\"results\":{\"sunrise\":\"5:34:00 AM\",\"sunset\":\"6:58:40 PM\",\"solar_noon\":\"12:16:20 PM\",\"day_length\":\"13:24:40\",\"civil_twilight_begin\":\"5:08:17 AM\",\"civil_twilight_end\":\"7:24:22 PM\",\"nautical_twilight_begin\":\"4:35:52 AM\",\"nautical_twilight_end\":\"7:56:47 PM\",\"astronomical_twilight_begin\":\"4:01:56 AM\",\"astronomical_twilight_end\":\"8:30:44 PM\"},\"status\":\"OK\",\"tzid\":\"UTC\"}'"
      ]
     },
     "execution_count": 3,
     "metadata": {},
     "output_type": "execute_result"
    }
   ],
   "source": [
    "import requests\n",
    "\n",
    "url = 'https://api.sunrise-sunset.org/json?lat=36.7201600&lng=-4.4203400'\n",
    "data = requests.get(url)\n",
    "data.text"
   ]
  },
  {
   "cell_type": "code",
   "execution_count": 5,
   "id": "1a567cfd-41de-41e7-8c38-d37a31271928",
   "metadata": {},
   "outputs": [
    {
     "data": {
      "text/plain": [
       "{'results': {'sunrise': '5:34:00 AM',\n",
       "  'sunset': '6:58:40 PM',\n",
       "  'solar_noon': '12:16:20 PM',\n",
       "  'day_length': '13:24:40',\n",
       "  'civil_twilight_begin': '5:08:17 AM',\n",
       "  'civil_twilight_end': '7:24:22 PM',\n",
       "  'nautical_twilight_begin': '4:35:52 AM',\n",
       "  'nautical_twilight_end': '7:56:47 PM',\n",
       "  'astronomical_twilight_begin': '4:01:56 AM',\n",
       "  'astronomical_twilight_end': '8:30:44 PM'},\n",
       " 'status': 'OK',\n",
       " 'tzid': 'UTC'}"
      ]
     },
     "execution_count": 5,
     "metadata": {},
     "output_type": "execute_result"
    }
   ],
   "source": [
    "url = 'https://api.sunrise-sunset.org/json?lat=36.7201600&lng=-4.4203400'\n",
    "data = requests.get(url).json()\n",
    "data"
   ]
  },
  {
   "cell_type": "code",
   "execution_count": 6,
   "id": "420552da-4fe2-4523-9e19-1797625b7b88",
   "metadata": {},
   "outputs": [
    {
     "name": "stdout",
     "output_type": "stream",
     "text": [
      "6:58:40 PM\n",
      "13:24:40\n"
     ]
    }
   ],
   "source": [
    "print(data['results']['sunset'])\n",
    "print(data['results']['day_length'])"
   ]
  },
  {
   "cell_type": "code",
   "execution_count": 8,
   "id": "325763e5-3b07-4abb-9dff-ac9edda88072",
   "metadata": {},
   "outputs": [
    {
     "data": {
      "text/plain": [
       "{'results': {'sunrise': '8:46:07 PM',\n",
       "  'sunset': '10:09:46 AM',\n",
       "  'solar_noon': '3:27:56 AM',\n",
       "  'day_length': '13:23:39',\n",
       "  'civil_twilight_begin': '8:20:28 PM',\n",
       "  'civil_twilight_end': '10:35:25 AM',\n",
       "  'nautical_twilight_begin': '7:48:08 PM',\n",
       "  'nautical_twilight_end': '11:07:45 AM',\n",
       "  'astronomical_twilight_begin': '7:14:18 PM',\n",
       "  'astronomical_twilight_end': '11:41:35 AM'},\n",
       " 'status': 'OK',\n",
       " 'tzid': 'UTC'}"
      ]
     },
     "execution_count": 8,
     "metadata": {},
     "output_type": "execute_result"
    }
   ],
   "source": [
    "date = '2025-04-21'\n",
    "\n",
    "url = f'https://api.sunrise-sunset.org/json?lat=36.638392&lng=127.6961188&date={date}'\n",
    "data = requests.get(url).json()\n",
    "data"
   ]
  },
  {
   "cell_type": "code",
   "execution_count": 9,
   "id": "ef5b437b-893f-470f-834a-11b38a793bad",
   "metadata": {},
   "outputs": [
    {
     "name": "stdout",
     "output_type": "stream",
     "text": [
      "10:09:46 AM\n",
      "13:23:39\n"
     ]
    }
   ],
   "source": [
    "print(data['results']['sunset'])\n",
    "print(data['results']['day_length'])"
   ]
  },
  {
   "cell_type": "code",
   "execution_count": 10,
   "id": "9c73db43-37dc-4697-aebb-c4696f383fdd",
   "metadata": {},
   "outputs": [],
   "source": [
    "def by_date(date):\n",
    "    url = f'https://api.sunrise-sunset.org/json?lat=36.7201600&lng=-4.4203400&date={date}'\n",
    "    return requests.get(url).json()['results']"
   ]
  },
  {
   "cell_type": "code",
   "execution_count": 12,
   "id": "fdc9106d-e034-4137-84c3-ac81280c74e3",
   "metadata": {},
   "outputs": [
    {
     "data": {
      "text/plain": [
       "{'sunrise': '5:34:00 AM',\n",
       " 'sunset': '6:58:40 PM',\n",
       " 'solar_noon': '12:16:20 PM',\n",
       " 'day_length': '13:24:40',\n",
       " 'civil_twilight_begin': '5:08:17 AM',\n",
       " 'civil_twilight_end': '7:24:22 PM',\n",
       " 'nautical_twilight_begin': '4:35:52 AM',\n",
       " 'nautical_twilight_end': '7:56:47 PM',\n",
       " 'astronomical_twilight_begin': '4:01:56 AM',\n",
       " 'astronomical_twilight_end': '8:30:44 PM'}"
      ]
     },
     "execution_count": 12,
     "metadata": {},
     "output_type": "execute_result"
    }
   ],
   "source": [
    "by_date('2025-04-21')"
   ]
  },
  {
   "cell_type": "code",
   "execution_count": 21,
   "id": "5d5e2871-b411-48a2-bdaa-9bdafaf2687a",
   "metadata": {},
   "outputs": [
    {
     "ename": "NameError",
     "evalue": "name 'sample_list' is not defined",
     "output_type": "error",
     "traceback": [
      "\u001b[1;31m---------------------------------------------------------------------------\u001b[0m",
      "\u001b[1;31mNameError\u001b[0m                                 Traceback (most recent call last)",
      "Cell \u001b[1;32mIn[21], line 2\u001b[0m\n\u001b[0;32m      1\u001b[0m \u001b[38;5;28;01mimport\u001b[39;00m \u001b[38;5;21;01mpandas\u001b[39;00m \u001b[38;5;28;01mas\u001b[39;00m \u001b[38;5;21;01mpd\u001b[39;00m\n\u001b[1;32m----> 2\u001b[0m df\u001b[38;5;241m=\u001b[39mpd\u001b[38;5;241m.\u001b[39mDataFrame(sample_list)\n",
      "\u001b[1;31mNameError\u001b[0m: name 'sample_list' is not defined"
     ]
    }
   ],
   "source": [
    "import pandas as pd\n",
    "df=pd.DataFrame(sample_list)"
   ]
  },
  {
   "cell_type": "markdown",
   "id": "3ea35a5f-4d6f-47b8-b7a5-47c699192e81",
   "metadata": {},
   "source": [
    "웹 크롤링"
   ]
  },
  {
   "cell_type": "code",
   "execution_count": null,
   "id": "0a0ad934-f47d-429d-a279-8faae5cd1877",
   "metadata": {},
   "outputs": [],
   "source": []
  }
 ],
 "metadata": {
  "kernelspec": {
   "display_name": "Python 3 (ipykernel)",
   "language": "python",
   "name": "python3"
  },
  "language_info": {
   "codemirror_mode": {
    "name": "ipython",
    "version": 3
   },
   "file_extension": ".py",
   "mimetype": "text/x-python",
   "name": "python",
   "nbconvert_exporter": "python",
   "pygments_lexer": "ipython3",
   "version": "3.12.9"
  }
 },
 "nbformat": 4,
 "nbformat_minor": 5
}
