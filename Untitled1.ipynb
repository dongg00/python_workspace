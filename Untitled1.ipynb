{
 "cells": [
  {
   "cell_type": "markdown",
   "id": "bd6bbb6b-21f6-429a-8ae2-87685b97082c",
   "metadata": {},
   "source": [
    "웹 스크래핑"
   ]
  },
  {
   "cell_type": "code",
   "execution_count": 1,
   "id": "5a57ac90-791d-4a4b-be81-1a11bf85cb85",
   "metadata": {},
   "outputs": [],
   "source": [
    "import sys\n",
    "from selenium import webdriver\n",
    "from selenium.webdriver.common.keys import Keys"
   ]
  },
  {
   "cell_type": "code",
   "execution_count": 2,
   "id": "7f99b194-669e-44b7-a9db-bd90eb3ea070",
   "metadata": {},
   "outputs": [],
   "source": [
    "driver = webdriver.Chrome()"
   ]
  },
  {
   "cell_type": "code",
   "execution_count": 4,
   "id": "be64ab69-f443-4638-9c27-e4687aa3f9fe",
   "metadata": {},
   "outputs": [
    {
     "name": "stdout",
     "output_type": "stream",
     "text": [
      "None\n"
     ]
    }
   ],
   "source": [
    "url = 'https://ncov.kdca.go.kr/pot/index.do'\n",
    "ncov = driver.get(url)\n",
    "print(ncov)"
   ]
  },
  {
   "cell_type": "code",
   "execution_count": null,
   "id": "a3d430c4-469a-4978-816b-84a210b977a0",
   "metadata": {},
   "outputs": [],
   "source": [
    "topnews = driver.find_element('xpath',"
   ]
  }
 ],
 "metadata": {
  "kernelspec": {
   "display_name": "Python 3 (ipykernel)",
   "language": "python",
   "name": "python3"
  },
  "language_info": {
   "codemirror_mode": {
    "name": "ipython",
    "version": 3
   },
   "file_extension": ".py",
   "mimetype": "text/x-python",
   "name": "python",
   "nbconvert_exporter": "python",
   "pygments_lexer": "ipython3",
   "version": "3.12.9"
  }
 },
 "nbformat": 4,
 "nbformat_minor": 5
}
