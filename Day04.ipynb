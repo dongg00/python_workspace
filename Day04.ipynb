{
 "cells": [
  {
   "cell_type": "code",
   "execution_count": 7,
   "id": "6c8139b6-8298-4b1b-a007-d2293093dc0c",
   "metadata": {},
   "outputs": [],
   "source": [
    "import pandas"
   ]
  },
  {
   "cell_type": "code",
   "execution_count": 9,
   "id": "77e47239-e1e2-4d96-abf8-e694d1cd4da8",
   "metadata": {},
   "outputs": [],
   "source": [
    "import pandas as pd"
   ]
  },
  {
   "cell_type": "code",
   "execution_count": 17,
   "id": "923bbf8a-1186-4755-baf3-9b5f5cd836ca",
   "metadata": {},
   "outputs": [],
   "source": [
    "df = pandas.read_csv('C:/Users/asia/Downloads/codes/data/gapminder.tsv', sep='\\t')\n"
   ]
  },
  {
   "cell_type": "code",
   "execution_count": 18,
   "id": "12b68eaa-78b5-4203-ba18-7d2a7df8c10f",
   "metadata": {},
   "outputs": [
    {
     "name": "stdout",
     "output_type": "stream",
     "text": [
      "          country continent  year  lifeExp       pop   gdpPercap\n",
      "0     Afghanistan      Asia  1952   28.801   8425333  779.445314\n",
      "1     Afghanistan      Asia  1957   30.332   9240934  820.853030\n",
      "2     Afghanistan      Asia  1962   31.997  10267083  853.100710\n",
      "3     Afghanistan      Asia  1967   34.020  11537966  836.197138\n",
      "4     Afghanistan      Asia  1972   36.088  13079460  739.981106\n",
      "...           ...       ...   ...      ...       ...         ...\n",
      "1699     Zimbabwe    Africa  1987   62.351   9216418  706.157306\n",
      "1700     Zimbabwe    Africa  1992   60.377  10704340  693.420786\n",
      "1701     Zimbabwe    Africa  1997   46.809  11404948  792.449960\n",
      "1702     Zimbabwe    Africa  2002   39.989  11926563  672.038623\n",
      "1703     Zimbabwe    Africa  2007   43.487  12311143  469.709298\n",
      "\n",
      "[1704 rows x 6 columns]\n"
     ]
    }
   ],
   "source": [
    "print(df)"
   ]
  },
  {
   "cell_type": "code",
   "execution_count": 19,
   "id": "86af9520-22c5-4e18-b761-fc14f0fbc59c",
   "metadata": {},
   "outputs": [
    {
     "name": "stdout",
     "output_type": "stream",
     "text": [
      "<class 'pandas.core.frame.DataFrame'>\n"
     ]
    }
   ],
   "source": [
    "print(type(df))"
   ]
  },
  {
   "cell_type": "code",
   "execution_count": 20,
   "id": "9c3cc94c-d833-4eb4-9709-1fe0d4df184b",
   "metadata": {},
   "outputs": [
    {
     "name": "stdout",
     "output_type": "stream",
     "text": [
      "(1704, 6)\n"
     ]
    }
   ],
   "source": [
    "print(df.shape)"
   ]
  },
  {
   "cell_type": "code",
   "execution_count": 21,
   "id": "2252dca7-bd47-45f9-8f0c-15c87e34a173",
   "metadata": {},
   "outputs": [
    {
     "name": "stdout",
     "output_type": "stream",
     "text": [
      "Index(['country', 'continent', 'year', 'lifeExp', 'pop', 'gdpPercap'], dtype='object')\n"
     ]
    }
   ],
   "source": [
    "print(df.columns)"
   ]
  },
  {
   "cell_type": "code",
   "execution_count": 22,
   "id": "0705a5dd-b102-4033-8147-d37a7d2e616b",
   "metadata": {},
   "outputs": [
    {
     "name": "stdout",
     "output_type": "stream",
     "text": [
      "<class 'pandas.core.frame.DataFrame'>\n",
      "RangeIndex: 1704 entries, 0 to 1703\n",
      "Data columns (total 6 columns):\n",
      " #   Column     Non-Null Count  Dtype  \n",
      "---  ------     --------------  -----  \n",
      " 0   country    1704 non-null   object \n",
      " 1   continent  1704 non-null   object \n",
      " 2   year       1704 non-null   int64  \n",
      " 3   lifeExp    1704 non-null   float64\n",
      " 4   pop        1704 non-null   int64  \n",
      " 5   gdpPercap  1704 non-null   float64\n",
      "dtypes: float64(2), int64(2), object(2)\n",
      "memory usage: 80.0+ KB\n",
      "None\n"
     ]
    }
   ],
   "source": [
    "print(df.info())"
   ]
  },
  {
   "cell_type": "code",
   "execution_count": 23,
   "id": "ae6cd1af-1a53-44b2-8d35-d81c9d7c5efc",
   "metadata": {},
   "outputs": [
    {
     "name": "stdout",
     "output_type": "stream",
     "text": [
      "       country continent  year  lifeExp       pop   gdpPercap\n",
      "0  Afghanistan      Asia  1952   28.801   8425333  779.445314\n",
      "1  Afghanistan      Asia  1957   30.332   9240934  820.853030\n",
      "2  Afghanistan      Asia  1962   31.997  10267083  853.100710\n",
      "3  Afghanistan      Asia  1967   34.020  11537966  836.197138\n",
      "4  Afghanistan      Asia  1972   36.088  13079460  739.981106\n"
     ]
    }
   ],
   "source": [
    "print(df.head())"
   ]
  },
  {
   "cell_type": "code",
   "execution_count": 26,
   "id": "a4dc2d40-6c22-4ea5-9d31-9c8abc8d4c17",
   "metadata": {},
   "outputs": [],
   "source": [
    "country_df=df['country']"
   ]
  },
  {
   "cell_type": "code",
   "execution_count": 27,
   "id": "034dbc2a-25e0-4d4b-973f-cf29789fa559",
   "metadata": {},
   "outputs": [
    {
     "name": "stdout",
     "output_type": "stream",
     "text": [
      "0    Afghanistan\n",
      "1    Afghanistan\n",
      "2    Afghanistan\n",
      "3    Afghanistan\n",
      "4    Afghanistan\n",
      "Name: country, dtype: object\n"
     ]
    }
   ],
   "source": [
    "print(country_df.head())"
   ]
  },
  {
   "cell_type": "code",
   "execution_count": 28,
   "id": "33e21efc-8093-4ff7-b071-0b26e257474b",
   "metadata": {},
   "outputs": [
    {
     "name": "stdout",
     "output_type": "stream",
     "text": [
      "       country continent  year  lifeExp       pop   gdpPercap\n",
      "1699  Zimbabwe    Africa  1987   62.351   9216418  706.157306\n",
      "1700  Zimbabwe    Africa  1992   60.377  10704340  693.420786\n",
      "1701  Zimbabwe    Africa  1997   46.809  11404948  792.449960\n",
      "1702  Zimbabwe    Africa  2002   39.989  11926563  672.038623\n",
      "1703  Zimbabwe    Africa  2007   43.487  12311143  469.709298\n"
     ]
    }
   ],
   "source": [
    "print(df.tail())"
   ]
  },
  {
   "cell_type": "code",
   "execution_count": null,
   "id": "91c3034c-bbf9-4dc1-ba03-9c5ac0e5c03e",
   "metadata": {},
   "outputs": [
    {
     "name": "stdout",
     "output_type": "stream",
     "text": [
      "1699    Zimbabwe\n",
      "1700    Zimbabwe\n",
      "1701    Zimbabwe\n",
      "1702    Zimbabwe\n",
      "1703    Zimbabwe\n",
      "Name: country, dtype: object\n"
     ]
    }
   ],
   "source": [
    "print(country_df.tail())"
   ]
  },
  {
   "cell_type": "code",
   "execution_count": 30,
   "id": "0f27a8f0-ff0d-4155-87b5-4a665d6df312",
   "metadata": {},
   "outputs": [],
   "source": [
    "subject=df[['country','continent','year']]"
   ]
  },
  {
   "cell_type": "code",
   "execution_count": 31,
   "id": "d7b7b172-d63a-497f-9503-1b250fe72006",
   "metadata": {},
   "outputs": [
    {
     "name": "stdout",
     "output_type": "stream",
     "text": [
      "          country continent  year\n",
      "0     Afghanistan      Asia  1952\n",
      "1     Afghanistan      Asia  1957\n",
      "2     Afghanistan      Asia  1962\n",
      "3     Afghanistan      Asia  1967\n",
      "4     Afghanistan      Asia  1972\n",
      "...           ...       ...   ...\n",
      "1699     Zimbabwe    Africa  1987\n",
      "1700     Zimbabwe    Africa  1992\n",
      "1701     Zimbabwe    Africa  1997\n",
      "1702     Zimbabwe    Africa  2002\n",
      "1703     Zimbabwe    Africa  2007\n",
      "\n",
      "[1704 rows x 3 columns]\n"
     ]
    }
   ],
   "source": [
    "print(subject)"
   ]
  },
  {
   "cell_type": "code",
   "execution_count": 32,
   "id": "dca267ca-72c7-41c9-bc7e-1113dbf6abb5",
   "metadata": {},
   "outputs": [
    {
     "name": "stdout",
     "output_type": "stream",
     "text": [
      "0       Afghanistan\n",
      "1       Afghanistan\n",
      "2       Afghanistan\n",
      "3       Afghanistan\n",
      "4       Afghanistan\n",
      "           ...     \n",
      "1699       Zimbabwe\n",
      "1700       Zimbabwe\n",
      "1701       Zimbabwe\n",
      "1702       Zimbabwe\n",
      "1703       Zimbabwe\n",
      "Name: country, Length: 1704, dtype: object\n"
     ]
    }
   ],
   "source": [
    "print(country_df)"
   ]
  },
  {
   "cell_type": "code",
   "execution_count": 33,
   "id": "b186fda7-072b-4887-8d7d-1e1575c3cd20",
   "metadata": {},
   "outputs": [],
   "source": [
    "country_df_list=df[['country']]"
   ]
  },
  {
   "cell_type": "code",
   "execution_count": 34,
   "id": "89be3ccf-d4c7-4b1b-a3b3-53796bc1615f",
   "metadata": {},
   "outputs": [
    {
     "name": "stdout",
     "output_type": "stream",
     "text": [
      "<class 'pandas.core.frame.DataFrame'>\n"
     ]
    }
   ],
   "source": [
    "print(type(country_df_list))"
   ]
  },
  {
   "cell_type": "code",
   "execution_count": 35,
   "id": "c222045d-05c9-4a35-bf0e-2019fa4495ae",
   "metadata": {},
   "outputs": [
    {
     "name": "stdout",
     "output_type": "stream",
     "text": [
      "          country\n",
      "0     Afghanistan\n",
      "1     Afghanistan\n",
      "2     Afghanistan\n",
      "3     Afghanistan\n",
      "4     Afghanistan\n",
      "...           ...\n",
      "1699     Zimbabwe\n",
      "1700     Zimbabwe\n",
      "1701     Zimbabwe\n",
      "1702     Zimbabwe\n",
      "1703     Zimbabwe\n",
      "\n",
      "[1704 rows x 1 columns]\n"
     ]
    }
   ],
   "source": [
    "print(country_df_list)"
   ]
  },
  {
   "cell_type": "code",
   "execution_count": 36,
   "id": "6620cfe7-00e1-4b33-b575-0116dfc5a4dd",
   "metadata": {},
   "outputs": [
    {
     "name": "stdout",
     "output_type": "stream",
     "text": [
      "country      Afghanistan\n",
      "continent           Asia\n",
      "year                1952\n",
      "lifeExp           28.801\n",
      "pop              8425333\n",
      "gdpPercap     779.445314\n",
      "Name: 0, dtype: object\n"
     ]
    }
   ],
   "source": [
    "print(df.loc[0])"
   ]
  },
  {
   "cell_type": "code",
   "execution_count": 37,
   "id": "d2b82917-5488-4970-8386-9f15727e4002",
   "metadata": {},
   "outputs": [
    {
     "name": "stdout",
     "output_type": "stream",
     "text": [
      "country      Bangladesh\n",
      "continent          Asia\n",
      "year               1967\n",
      "lifeExp          43.453\n",
      "pop            62821884\n",
      "gdpPercap    721.186086\n",
      "Name: 99, dtype: object\n"
     ]
    }
   ],
   "source": [
    "print(df.loc[99])"
   ]
  },
  {
   "cell_type": "code",
   "execution_count": 39,
   "id": "df7912ce-627f-4287-b867-89edf4ea7693",
   "metadata": {},
   "outputs": [
    {
     "name": "stdout",
     "output_type": "stream",
     "text": [
      "country        Zimbabwe\n",
      "continent        Africa\n",
      "year               2007\n",
      "lifeExp          43.487\n",
      "pop            12311143\n",
      "gdpPercap    469.709298\n",
      "Name: 1703, dtype: object\n"
     ]
    }
   ],
   "source": [
    "print(df.iloc[-1])"
   ]
  },
  {
   "cell_type": "code",
   "execution_count": 43,
   "id": "3f63e767-4517-43a6-a270-f6fc9b841262",
   "metadata": {},
   "outputs": [
    {
     "name": "stdout",
     "output_type": "stream",
     "text": [
      "         country continent  year  lifeExp       pop    gdpPercap\n",
      "1    Afghanistan      Asia  1957   30.332   9240934   820.853030\n",
      "99    Bangladesh      Asia  1967   43.453  62821884   721.186086\n",
      "999     Mongolia      Asia  1967   51.253   1149500  1226.041130\n"
     ]
    }
   ],
   "source": [
    "print(df.loc[[1,99,999]])"
   ]
  },
  {
   "cell_type": "code",
   "execution_count": 42,
   "id": "4f7153b6-4d9a-43ca-abd7-22c85f9e5da6",
   "metadata": {},
   "outputs": [
    {
     "name": "stdout",
     "output_type": "stream",
     "text": [
      "country      Afghanistan\n",
      "continent           Asia\n",
      "year                1957\n",
      "lifeExp           30.332\n",
      "pop              9240934\n",
      "gdpPercap      820.85303\n",
      "Name: 1, dtype: object\n"
     ]
    }
   ],
   "source": [
    "print(df.iloc[1])"
   ]
  },
  {
   "cell_type": "code",
   "execution_count": 44,
   "id": "fbc8d6df-16e9-4e60-9c3d-885dc9b5f5fe",
   "metadata": {},
   "outputs": [
    {
     "name": "stdout",
     "output_type": "stream",
     "text": [
      "      year       pop\n",
      "0     1952   8425333\n",
      "1     1957   9240934\n",
      "2     1962  10267083\n",
      "3     1967  11537966\n",
      "4     1972  13079460\n",
      "...    ...       ...\n",
      "1699  1987   9216418\n",
      "1700  1992  10704340\n",
      "1701  1997  11404948\n",
      "1702  2002  11926563\n",
      "1703  2007  12311143\n",
      "\n",
      "[1704 rows x 2 columns]\n"
     ]
    }
   ],
   "source": [
    "subset=df.loc[:,['year','pop']]\n",
    "print(subset)"
   ]
  },
  {
   "cell_type": "code",
   "execution_count": 51,
   "id": "0114be37-75d2-4cc1-88d5-22921a7ba6bb",
   "metadata": {},
   "outputs": [
    {
     "name": "stdout",
     "output_type": "stream",
     "text": [
      "      year       pop\n",
      "0     1952   8425333\n",
      "1     1957   9240934\n",
      "2     1962  10267083\n",
      "3     1967  11537966\n",
      "4     1972  13079460\n",
      "...    ...       ...\n",
      "1699  1987   9216418\n",
      "1700  1992  10704340\n",
      "1701  1997  11404948\n",
      "1702  2002  11926563\n",
      "1703  2007  12311143\n",
      "\n",
      "[1704 rows x 2 columns]\n"
     ]
    }
   ],
   "source": [
    "subset=df.iloc[:,[2,4]]\n",
    "print(subset)"
   ]
  },
  {
   "cell_type": "code",
   "execution_count": 52,
   "id": "c0264e73-d44a-4526-a559-6094570fe54f",
   "metadata": {},
   "outputs": [],
   "source": [
    "small_range=list(range(5))"
   ]
  },
  {
   "cell_type": "code",
   "execution_count": 53,
   "id": "197dd5a8-1eae-4d31-8be3-1203bb40bc6f",
   "metadata": {},
   "outputs": [
    {
     "name": "stdout",
     "output_type": "stream",
     "text": [
      "[0, 1, 2, 3, 4]\n"
     ]
    }
   ],
   "source": [
    "print(small_range)"
   ]
  },
  {
   "cell_type": "code",
   "execution_count": 54,
   "id": "545ec54b-4706-46c2-a844-ab0ed5ae76f9",
   "metadata": {},
   "outputs": [
    {
     "name": "stdout",
     "output_type": "stream",
     "text": [
      "          country continent  year  lifeExp       pop\n",
      "0     Afghanistan      Asia  1952   28.801   8425333\n",
      "1     Afghanistan      Asia  1957   30.332   9240934\n",
      "2     Afghanistan      Asia  1962   31.997  10267083\n",
      "3     Afghanistan      Asia  1967   34.020  11537966\n",
      "4     Afghanistan      Asia  1972   36.088  13079460\n",
      "...           ...       ...   ...      ...       ...\n",
      "1699     Zimbabwe    Africa  1987   62.351   9216418\n",
      "1700     Zimbabwe    Africa  1992   60.377  10704340\n",
      "1701     Zimbabwe    Africa  1997   46.809  11404948\n",
      "1702     Zimbabwe    Africa  2002   39.989  11926563\n",
      "1703     Zimbabwe    Africa  2007   43.487  12311143\n",
      "\n",
      "[1704 rows x 5 columns]\n"
     ]
    }
   ],
   "source": [
    "subset=df.iloc[:,small_range]\n",
    "print(subset)"
   ]
  },
  {
   "cell_type": "code",
   "execution_count": 55,
   "id": "b1ae2139-1f15-4818-9c8f-132e4c611763",
   "metadata": {},
   "outputs": [],
   "source": [
    "small_range=list(range(3,6))"
   ]
  },
  {
   "cell_type": "code",
   "execution_count": 56,
   "id": "1cb14146-2af7-4bff-8276-ce41ef4835b8",
   "metadata": {},
   "outputs": [
    {
     "name": "stdout",
     "output_type": "stream",
     "text": [
      "[3, 4, 5]\n"
     ]
    }
   ],
   "source": [
    "print(small_range)"
   ]
  },
  {
   "cell_type": "code",
   "execution_count": 63,
   "id": "766f5627-e0ce-49ce-a40e-4add5ba4a5f4",
   "metadata": {},
   "outputs": [],
   "source": [
    "small_range=list(range(0,6,3))"
   ]
  },
  {
   "cell_type": "code",
   "execution_count": 64,
   "id": "29c7db1e-c049-4d79-99d4-e4f3b74b348b",
   "metadata": {},
   "outputs": [],
   "source": [
    "subset=df.iloc[:,small_range]"
   ]
  },
  {
   "cell_type": "code",
   "execution_count": 65,
   "id": "01543d81-e22d-42d3-9398-d54cf373a9b5",
   "metadata": {},
   "outputs": [
    {
     "name": "stdout",
     "output_type": "stream",
     "text": [
      "          country  lifeExp\n",
      "0     Afghanistan   28.801\n",
      "1     Afghanistan   30.332\n",
      "2     Afghanistan   31.997\n",
      "3     Afghanistan   34.020\n",
      "4     Afghanistan   36.088\n",
      "...           ...      ...\n",
      "1699     Zimbabwe   62.351\n",
      "1700     Zimbabwe   60.377\n",
      "1701     Zimbabwe   46.809\n",
      "1702     Zimbabwe   39.989\n",
      "1703     Zimbabwe   43.487\n",
      "\n",
      "[1704 rows x 2 columns]\n"
     ]
    }
   ],
   "source": [
    "print(subset)"
   ]
  },
  {
   "cell_type": "code",
   "execution_count": 68,
   "id": "7e07d5bd-c563-4400-a8c3-109e3bc747d3",
   "metadata": {},
   "outputs": [],
   "source": [
    "subset=df.iloc[:3,:3]"
   ]
  },
  {
   "cell_type": "code",
   "execution_count": 69,
   "id": "c0d80149-d26a-4619-b74f-6927e93f8731",
   "metadata": {},
   "outputs": [
    {
     "name": "stdout",
     "output_type": "stream",
     "text": [
      "       country continent  year\n",
      "0  Afghanistan      Asia  1952\n",
      "1  Afghanistan      Asia  1957\n",
      "2  Afghanistan      Asia  1962\n"
     ]
    }
   ],
   "source": [
    "print(subset)"
   ]
  },
  {
   "cell_type": "code",
   "execution_count": 105,
   "id": "102e4f00-7207-4c86-9b7e-768023fa6400",
   "metadata": {},
   "outputs": [],
   "source": [
    "small_range=list(range(0,6,6))"
   ]
  },
  {
   "cell_type": "code",
   "execution_count": 106,
   "id": "6cb54a9c-48f7-43cd-aa95-334bcddd8091",
   "metadata": {},
   "outputs": [],
   "source": [
    "subset=df.iloc[:,small_range]"
   ]
  },
  {
   "cell_type": "code",
   "execution_count": 107,
   "id": "032de597-3788-41c0-ab7c-d996c2ee3e17",
   "metadata": {},
   "outputs": [
    {
     "name": "stdout",
     "output_type": "stream",
     "text": [
      "          country\n",
      "0     Afghanistan\n",
      "1     Afghanistan\n",
      "2     Afghanistan\n",
      "3     Afghanistan\n",
      "4     Afghanistan\n",
      "...           ...\n",
      "1699     Zimbabwe\n",
      "1700     Zimbabwe\n",
      "1701     Zimbabwe\n",
      "1702     Zimbabwe\n",
      "1703     Zimbabwe\n",
      "\n",
      "[1704 rows x 1 columns]\n"
     ]
    }
   ],
   "source": [
    "print(subset)"
   ]
  },
  {
   "cell_type": "code",
   "execution_count": 108,
   "id": "7d856825-3b02-453d-a059-fec5296072d9",
   "metadata": {},
   "outputs": [
    {
     "name": "stdout",
     "output_type": "stream",
     "text": [
      "Canada\n"
     ]
    }
   ],
   "source": [
    "print(df.iloc[240,0])"
   ]
  },
  {
   "cell_type": "code",
   "execution_count": 109,
   "id": "c717c5b9-8e75-4303-bcf4-82511b5e3800",
   "metadata": {},
   "outputs": [
    {
     "name": "stdout",
     "output_type": "stream",
     "text": [
      "          country continent  year  lifeExp       pop   gdpPercap\n",
      "0     Afghanistan      Asia  1952   28.801   8425333  779.445314\n",
      "1     Afghanistan      Asia  1957   30.332   9240934  820.853030\n",
      "2     Afghanistan      Asia  1962   31.997  10267083  853.100710\n",
      "3     Afghanistan      Asia  1967   34.020  11537966  836.197138\n",
      "4     Afghanistan      Asia  1972   36.088  13079460  739.981106\n",
      "...           ...       ...   ...      ...       ...         ...\n",
      "1699     Zimbabwe    Africa  1987   62.351   9216418  706.157306\n",
      "1700     Zimbabwe    Africa  1992   60.377  10704340  693.420786\n",
      "1701     Zimbabwe    Africa  1997   46.809  11404948  792.449960\n",
      "1702     Zimbabwe    Africa  2002   39.989  11926563  672.038623\n",
      "1703     Zimbabwe    Africa  2007   43.487  12311143  469.709298\n",
      "\n",
      "[1704 rows x 6 columns]\n"
     ]
    }
   ],
   "source": [
    "print(df)"
   ]
  },
  {
   "cell_type": "code",
   "execution_count": 120,
   "id": "302d944f-d380-49b5-a67a-0b62daef66de",
   "metadata": {},
   "outputs": [
    {
     "name": "stdout",
     "output_type": "stream",
     "text": [
      "year  country           \n",
      "1952  Afghanistan           28.801\n",
      "      Albania               55.230\n",
      "      Algeria               43.077\n",
      "      Angola                30.015\n",
      "      Argentina             62.485\n",
      "                             ...  \n",
      "2007  Vietnam               74.249\n",
      "      West Bank and Gaza    73.422\n",
      "      Yemen, Rep.           62.698\n",
      "      Zambia                42.384\n",
      "      Zimbabwe              43.487\n",
      "Name: lifeExp, Length: 1704, dtype: float64\n"
     ]
    }
   ],
   "source": [
    "print(df.groupby(['year','country'])['lifeExp'].mean())"
   ]
  },
  {
   "cell_type": "code",
   "execution_count": 121,
   "id": "d4cd1f88-6177-41a7-a5f7-43661ac44732",
   "metadata": {},
   "outputs": [],
   "source": [
    "multi_group_var=df.groupby(['year','country'])['lifeExp'].mean()"
   ]
  },
  {
   "cell_type": "code",
   "execution_count": 125,
   "id": "f76aede7-d600-4eb2-84c2-168f793f4e17",
   "metadata": {},
   "outputs": [
    {
     "name": "stdout",
     "output_type": "stream",
     "text": [
      "year  country           \n",
      "1952  Afghanistan           28.801\n",
      "      Albania               55.230\n",
      "      Algeria               43.077\n",
      "      Angola                30.015\n",
      "      Argentina             62.485\n",
      "                             ...  \n",
      "2007  Vietnam               74.249\n",
      "      West Bank and Gaza    73.422\n",
      "      Yemen, Rep.           62.698\n",
      "      Zambia                42.384\n",
      "      Zimbabwe              43.487\n",
      "Name: lifeExp, Length: 1704, dtype: float64\n"
     ]
    }
   ],
   "source": [
    "print(multi_group_var)"
   ]
  },
  {
   "cell_type": "code",
   "execution_count": 126,
   "id": "44893199-d81f-4cb3-9452-7ed6de75b2d2",
   "metadata": {},
   "outputs": [],
   "source": [
    "flat=multi_group_var.reset_index()"
   ]
  },
  {
   "cell_type": "code",
   "execution_count": 127,
   "id": "ef4efddf-5026-4bb3-9b52-db9a8674fa2c",
   "metadata": {},
   "outputs": [
    {
     "name": "stdout",
     "output_type": "stream",
     "text": [
      "      year             country  lifeExp\n",
      "0     1952         Afghanistan   28.801\n",
      "1     1952             Albania   55.230\n",
      "2     1952             Algeria   43.077\n",
      "3     1952              Angola   30.015\n",
      "4     1952           Argentina   62.485\n",
      "...    ...                 ...      ...\n",
      "1699  2007             Vietnam   74.249\n",
      "1700  2007  West Bank and Gaza   73.422\n",
      "1701  2007         Yemen, Rep.   62.698\n",
      "1702  2007              Zambia   42.384\n",
      "1703  2007            Zimbabwe   43.487\n",
      "\n",
      "[1704 rows x 3 columns]\n"
     ]
    }
   ],
   "source": [
    "print(flat)"
   ]
  },
  {
   "cell_type": "code",
   "execution_count": 128,
   "id": "2f798de8-250f-4971-b8ca-49a20c550ca6",
   "metadata": {},
   "outputs": [
    {
     "name": "stdout",
     "output_type": "stream",
     "text": [
      "continent\n",
      "Africa      52\n",
      "Americas    25\n",
      "Asia        33\n",
      "Europe      30\n",
      "Oceania      2\n",
      "Name: country, dtype: int64\n"
     ]
    }
   ],
   "source": [
    "print(df.groupby('continent')['country'].nunique())"
   ]
  },
  {
   "cell_type": "code",
   "execution_count": 142,
   "id": "c170887c-d85a-4cd0-ac85-cf9e8eefdf53",
   "metadata": {},
   "outputs": [],
   "source": [
    "asia_df=df[df['continent']=='Asia'][['continent','country']]"
   ]
  },
  {
   "cell_type": "code",
   "execution_count": 143,
   "id": "9e5a49a1-6113-4c24-bb37-6722524ed5d8",
   "metadata": {},
   "outputs": [
    {
     "name": "stdout",
     "output_type": "stream",
     "text": [
      "     continent      country\n",
      "0         Asia  Afghanistan\n",
      "1         Asia  Afghanistan\n",
      "2         Asia  Afghanistan\n",
      "3         Asia  Afghanistan\n",
      "4         Asia  Afghanistan\n",
      "...        ...          ...\n",
      "1675      Asia  Yemen, Rep.\n",
      "1676      Asia  Yemen, Rep.\n",
      "1677      Asia  Yemen, Rep.\n",
      "1678      Asia  Yemen, Rep.\n",
      "1679      Asia  Yemen, Rep.\n",
      "\n",
      "[396 rows x 2 columns]\n"
     ]
    }
   ],
   "source": [
    "print(asia_df)"
   ]
  },
  {
   "cell_type": "code",
   "execution_count": 1,
   "id": "cfaeed0c-7acc-4e7f-94f1-ce7080e9d230",
   "metadata": {},
   "outputs": [],
   "source": [
    "import pandas as pd"
   ]
  },
  {
   "cell_type": "code",
   "execution_count": 2,
   "id": "ef0cf357-2ca7-4eb4-8851-b06e10496c22",
   "metadata": {},
   "outputs": [
    {
     "name": "stdout",
     "output_type": "stream",
     "text": [
      "    A   B   C   D\n",
      "0  a0  b0  c0  d0\n",
      "1  a1  b1  c1  d1\n",
      "2  a2  b2  c2  d2\n",
      "3  a3  b3  c3  d3\n"
     ]
    }
   ],
   "source": [
    "df1 = pd.read_csv(\"C:/Users/asia/Desktop/codes/data/concat_1.csv\")\n",
    "df2 = pd.read_csv(\"C:/Users/asia/Desktop/codes/data/concat_2.csv\")\n",
    "df3 = pd.read_csv(\"C:/Users/asia/Desktop/codes/data/concat_3.csv\")\n",
    "print(df1)"
   ]
  },
  {
   "cell_type": "code",
   "execution_count": 3,
   "id": "4d4cb00a-66b7-4482-bf11-fbb33a6b0797",
   "metadata": {},
   "outputs": [
    {
     "name": "stdout",
     "output_type": "stream",
     "text": [
      "    A   B   C   D\n",
      "0  a4  b4  c4  d4\n",
      "1  a5  b5  c5  d5\n",
      "2  a6  b6  c6  d6\n",
      "3  a7  b7  c7  d7\n"
     ]
    }
   ],
   "source": [
    "print(df2)"
   ]
  },
  {
   "cell_type": "code",
   "execution_count": 4,
   "id": "f11bd550-4af7-4d1d-a077-83bb6b930984",
   "metadata": {},
   "outputs": [
    {
     "name": "stdout",
     "output_type": "stream",
     "text": [
      "     A    B    C    D\n",
      "0   a8   b8   c8   d8\n",
      "1   a9   b9   c9   d9\n",
      "2  a10  b10  c10  d10\n",
      "3  a11  b11  c11  d11\n"
     ]
    }
   ],
   "source": [
    "print(df3)"
   ]
  },
  {
   "cell_type": "code",
   "execution_count": 5,
   "id": "fe9a7c33-951c-40af-a3be-b3c656c1992e",
   "metadata": {},
   "outputs": [
    {
     "name": "stdout",
     "output_type": "stream",
     "text": [
      "RangeIndex(start=0, stop=4, step=1)\n"
     ]
    }
   ],
   "source": [
    "print(df1.index)"
   ]
  },
  {
   "cell_type": "code",
   "execution_count": 6,
   "id": "70a5eb6b-ca66-446c-839b-7c60d70b1a90",
   "metadata": {},
   "outputs": [
    {
     "name": "stdout",
     "output_type": "stream",
     "text": [
      "     A    B    C    D\n",
      "0   a0   b0   c0   d0\n",
      "1   a1   b1   c1   d1\n",
      "2   a2   b2   c2   d2\n",
      "3   a3   b3   c3   d3\n",
      "0   a4   b4   c4   d4\n",
      "1   a5   b5   c5   d5\n",
      "2   a6   b6   c6   d6\n",
      "3   a7   b7   c7   d7\n",
      "0   a8   b8   c8   d8\n",
      "1   a9   b9   c9   d9\n",
      "2  a10  b10  c10  d10\n",
      "3  a11  b11  c11  d11\n"
     ]
    }
   ],
   "source": [
    "row_concat = pd.concat([df1,df2,df3])\n",
    "print(row_concat)"
   ]
  },
  {
   "cell_type": "code",
   "execution_count": 10,
   "id": "85f1fde4-265a-4b86-95ec-e357119dea7d",
   "metadata": {},
   "outputs": [
    {
     "name": "stdout",
     "output_type": "stream",
     "text": [
      "A    a3\n",
      "B    b3\n",
      "C    c3\n",
      "D    d3\n",
      "Name: 3, dtype: object\n"
     ]
    }
   ],
   "source": [
    "print(row_concat.iloc[3,:])"
   ]
  },
  {
   "cell_type": "code",
   "execution_count": 11,
   "id": "db570459-7fe9-41d0-afb5-fcf08e609066",
   "metadata": {},
   "outputs": [
    {
     "name": "stdout",
     "output_type": "stream",
     "text": [
      "0    n1\n",
      "1    n2\n",
      "2    n3\n",
      "3    n4\n",
      "dtype: object\n"
     ]
    }
   ],
   "source": [
    "new_row_series = pd.Series(['n1','n2','n3','n4'])\n",
    "print(new_row_series)"
   ]
  },
  {
   "cell_type": "code",
   "execution_count": 12,
   "id": "ef5360f9-a6d7-4422-9753-3866ddebce15",
   "metadata": {},
   "outputs": [
    {
     "name": "stdout",
     "output_type": "stream",
     "text": [
      "     A    B    C    D    0\n",
      "0   a0   b0   c0   d0  NaN\n",
      "1   a1   b1   c1   d1  NaN\n",
      "2   a2   b2   c2   d2  NaN\n",
      "3   a3   b3   c3   d3  NaN\n",
      "0  NaN  NaN  NaN  NaN   n1\n",
      "1  NaN  NaN  NaN  NaN   n2\n",
      "2  NaN  NaN  NaN  NaN   n3\n",
      "3  NaN  NaN  NaN  NaN   n4\n"
     ]
    }
   ],
   "source": [
    "print(pd.concat([df1,new_row_series]))"
   ]
  },
  {
   "cell_type": "code",
   "execution_count": 16,
   "id": "836a2967-6d72-4ade-850f-5303d86824de",
   "metadata": {},
   "outputs": [
    {
     "name": "stdout",
     "output_type": "stream",
     "text": [
      "    A   B   C   D\n",
      "0  n1  n2  n3  n4\n"
     ]
    }
   ],
   "source": [
    "new_row_df=pd.DataFrame(\n",
    "    data=[['n1','n2','n3','n4']],\n",
    "    columns=['A','B','C','D'],)\n",
    "print(new_row_df)"
   ]
  },
  {
   "cell_type": "code",
   "execution_count": 18,
   "id": "6b408c80-f8cd-4b76-ae05-7df5c7ded2c5",
   "metadata": {},
   "outputs": [
    {
     "name": "stdout",
     "output_type": "stream",
     "text": [
      "    A   B   C   D\n",
      "0  a0  b0  c0  d0\n",
      "1  a1  b1  c1  d1\n",
      "2  a2  b2  c2  d2\n",
      "3  a3  b3  c3  d3\n",
      "0  n1  n2  n3  n4\n"
     ]
    }
   ],
   "source": [
    "print(pd.concat([df1,new_row_df]))"
   ]
  },
  {
   "cell_type": "code",
   "execution_count": 19,
   "id": "c51bc27a-6624-4dce-ac8c-4fe5a8639080",
   "metadata": {},
   "outputs": [
    {
     "name": "stdout",
     "output_type": "stream",
     "text": [
      "      A    B    C    D\n",
      "0    a0   b0   c0   d0\n",
      "1    a1   b1   c1   d1\n",
      "2    a2   b2   c2   d2\n",
      "3    a3   b3   c3   d3\n",
      "4    a4   b4   c4   d4\n",
      "5    a5   b5   c5   d5\n",
      "6    a6   b6   c6   d6\n",
      "7    a7   b7   c7   d7\n",
      "8    a8   b8   c8   d8\n",
      "9    a9   b9   c9   d9\n",
      "10  a10  b10  c10  d10\n",
      "11  a11  b11  c11  d11\n"
     ]
    }
   ],
   "source": [
    "row_concat_i = pd.concat([df1, df2, df3], ignore_index=True)\n",
    "print(row_concat_i)"
   ]
  },
  {
   "cell_type": "code",
   "execution_count": 20,
   "id": "11508eec-8f03-49c6-aadb-a0cc374a8d6d",
   "metadata": {},
   "outputs": [
    {
     "name": "stdout",
     "output_type": "stream",
     "text": [
      "    A   B   C   D   A   B   C   D    A    B    C    D\n",
      "0  a0  b0  c0  d0  a4  b4  c4  d4   a8   b8   c8   d8\n",
      "1  a1  b1  c1  d1  a5  b5  c5  d5   a9   b9   c9   d9\n",
      "2  a2  b2  c2  d2  a6  b6  c6  d6  a10  b10  c10  d10\n",
      "3  a3  b3  c3  d3  a7  b7  c7  d7  a11  b11  c11  d11\n"
     ]
    }
   ],
   "source": [
    "col_concat = pd.concat([df1, df2, df3], axis=\"columns\")\n",
    "print(col_concat)"
   ]
  },
  {
   "cell_type": "code",
   "execution_count": 21,
   "id": "ffc15410-22c1-4c00-a29f-fed28fe18a98",
   "metadata": {},
   "outputs": [
    {
     "name": "stdout",
     "output_type": "stream",
     "text": [
      "    A   B   C   D   A   B   C   D    A    B    C    D new_collll\n",
      "0  a0  b0  c0  d0  a4  b4  c4  d4   a8   b8   c8   d8         n1\n",
      "1  a1  b1  c1  d1  a5  b5  c5  d5   a9   b9   c9   d9         n2\n",
      "2  a2  b2  c2  d2  a6  b6  c6  d6  a10  b10  c10  d10         n3\n",
      "3  a3  b3  c3  d3  a7  b7  c7  d7  a11  b11  c11  d11         n4\n"
     ]
    }
   ],
   "source": [
    "col_concat['new_collll']=['n1','n2','n3','n4']\n",
    "print(col_concat)"
   ]
  },
  {
   "cell_type": "code",
   "execution_count": 23,
   "id": "948182a6-528a-470b-84ce-3401ccca67ce",
   "metadata": {},
   "outputs": [
    {
     "name": "stdout",
     "output_type": "stream",
     "text": [
      "   0   1   2   3   4   5   6   7    8    9    10   11\n",
      "0  a0  b0  c0  d0  a4  b4  c4  d4   a8   b8   c8   d8\n",
      "1  a1  b1  c1  d1  a5  b5  c5  d5   a9   b9   c9   d9\n",
      "2  a2  b2  c2  d2  a6  b6  c6  d6  a10  b10  c10  d10\n",
      "3  a3  b3  c3  d3  a7  b7  c7  d7  a11  b11  c11  d11\n"
     ]
    }
   ],
   "source": [
    "col_concat = pd.concat([df1, df2, df3], axis=\"columns\",ignore_index=True)\n",
    "print(col_concat)"
   ]
  },
  {
   "cell_type": "code",
   "execution_count": 24,
   "id": "f8bb681e-1bad-4ed2-a0b8-9bd04e42b852",
   "metadata": {},
   "outputs": [],
   "source": [
    "df1.columns=['a','b','c','d']\n",
    "df2.columns=['e','f','g','h']\n",
    "df3.columns=['a','c','f','h']"
   ]
  },
  {
   "cell_type": "code",
   "execution_count": 25,
   "id": "c3f618a0-180e-40f2-a513-03a742563360",
   "metadata": {},
   "outputs": [
    {
     "name": "stdout",
     "output_type": "stream",
     "text": [
      "     a    b    c    d    e    f    g    h\n",
      "0   a0   b0   c0   d0  NaN  NaN  NaN  NaN\n",
      "1   a1   b1   c1   d1  NaN  NaN  NaN  NaN\n",
      "2   a2   b2   c2   d2  NaN  NaN  NaN  NaN\n",
      "3   a3   b3   c3   d3  NaN  NaN  NaN  NaN\n",
      "0  NaN  NaN  NaN  NaN   a4   b4   c4   d4\n",
      "1  NaN  NaN  NaN  NaN   a5   b5   c5   d5\n",
      "2  NaN  NaN  NaN  NaN   a6   b6   c6   d6\n",
      "3  NaN  NaN  NaN  NaN   a7   b7   c7   d7\n",
      "0   a8  NaN   b8  NaN  NaN   c8  NaN   d8\n",
      "1   a9  NaN   b9  NaN  NaN   c9  NaN   d9\n",
      "2  a10  NaN  b10  NaN  NaN  c10  NaN  d10\n",
      "3  a11  NaN  b11  NaN  NaN  c11  NaN  d11\n"
     ]
    }
   ],
   "source": [
    "row_concat=pd.concat([df1,df2,df3])\n",
    "print(row_concat)"
   ]
  },
  {
   "cell_type": "code",
   "execution_count": 26,
   "id": "6111d54d-4ccc-4ea8-9f96-aaec6251333e",
   "metadata": {},
   "outputs": [
    {
     "name": "stdout",
     "output_type": "stream",
     "text": [
      "Empty DataFrame\n",
      "Columns: []\n",
      "Index: [0, 1, 2, 3, 0, 1, 2, 3, 0, 1, 2, 3]\n"
     ]
    }
   ],
   "source": [
    "print(pd.concat([df1,df2,df3],join='inner'))"
   ]
  },
  {
   "cell_type": "code",
   "execution_count": 29,
   "id": "adbadefe-631b-4afa-8407-2b46bd838159",
   "metadata": {},
   "outputs": [
    {
     "name": "stdout",
     "output_type": "stream",
     "text": [
      "     f    h\n",
      "0   c8   d8\n",
      "1   c9   d9\n",
      "2  c10  d10\n",
      "3  c11  d11\n",
      "0   b4   d4\n",
      "1   b5   d5\n",
      "2   b6   d6\n",
      "3   b7   d7\n"
     ]
    }
   ],
   "source": [
    "print(pd.concat([df3,df2],join='inner'))"
   ]
  },
  {
   "cell_type": "code",
   "execution_count": 32,
   "id": "3db92291-1fe4-42e5-bfbd-02cb1b799c74",
   "metadata": {},
   "outputs": [
    {
     "name": "stdout",
     "output_type": "stream",
     "text": [
      "    a   b   c   d   e   f   g   h    a    c    f    h\n",
      "0  a0  b0  c0  d0  a4  b4  c4  d4   a8   b8   c8   d8\n",
      "1  a1  b1  c1  d1  a5  b5  c5  d5   a9   b9   c9   d9\n",
      "2  a2  b2  c2  d2  a6  b6  c6  d6  a10  b10  c10  d10\n",
      "3  a3  b3  c3  d3  a7  b7  c7  d7  a11  b11  c11  d11\n"
     ]
    }
   ],
   "source": [
    "print(pd.concat([df1,df2,df3],axis='columns'))"
   ]
  },
  {
   "cell_type": "code",
   "execution_count": 65,
   "id": "23ccbfd9-3aa5-4784-903c-ab55c2c57358",
   "metadata": {},
   "outputs": [],
   "source": [
    "from pathlib import Path"
   ]
  },
  {
   "cell_type": "code",
   "execution_count": 78,
   "id": "e4e85090-9aa4-4a05-a87e-26803a936453",
   "metadata": {},
   "outputs": [
    {
     "name": "stdout",
     "output_type": "stream",
     "text": [
      "[WindowsPath('C:/Users/asia/Desktop/codes/data/billboard-by_week/billboard-01.csv'), WindowsPath('C:/Users/asia/Desktop/codes/data/billboard-by_week/billboard-02.csv'), WindowsPath('C:/Users/asia/Desktop/codes/data/billboard-by_week/billboard-03.csv'), WindowsPath('C:/Users/asia/Desktop/codes/data/billboard-by_week/billboard-04.csv'), WindowsPath('C:/Users/asia/Desktop/codes/data/billboard-by_week/billboard-05.csv'), WindowsPath('C:/Users/asia/Desktop/codes/data/billboard-by_week/billboard-06.csv'), WindowsPath('C:/Users/asia/Desktop/codes/data/billboard-by_week/billboard-07.csv'), WindowsPath('C:/Users/asia/Desktop/codes/data/billboard-by_week/billboard-08.csv'), WindowsPath('C:/Users/asia/Desktop/codes/data/billboard-by_week/billboard-09.csv'), WindowsPath('C:/Users/asia/Desktop/codes/data/billboard-by_week/billboard-10.csv'), WindowsPath('C:/Users/asia/Desktop/codes/data/billboard-by_week/billboard-11.csv'), WindowsPath('C:/Users/asia/Desktop/codes/data/billboard-by_week/billboard-12.csv'), WindowsPath('C:/Users/asia/Desktop/codes/data/billboard-by_week/billboard-13.csv'), WindowsPath('C:/Users/asia/Desktop/codes/data/billboard-by_week/billboard-14.csv'), WindowsPath('C:/Users/asia/Desktop/codes/data/billboard-by_week/billboard-15.csv'), WindowsPath('C:/Users/asia/Desktop/codes/data/billboard-by_week/billboard-16.csv'), WindowsPath('C:/Users/asia/Desktop/codes/data/billboard-by_week/billboard-17.csv'), WindowsPath('C:/Users/asia/Desktop/codes/data/billboard-by_week/billboard-18.csv'), WindowsPath('C:/Users/asia/Desktop/codes/data/billboard-by_week/billboard-19.csv'), WindowsPath('C:/Users/asia/Desktop/codes/data/billboard-by_week/billboard-20.csv'), WindowsPath('C:/Users/asia/Desktop/codes/data/billboard-by_week/billboard-21.csv'), WindowsPath('C:/Users/asia/Desktop/codes/data/billboard-by_week/billboard-22.csv'), WindowsPath('C:/Users/asia/Desktop/codes/data/billboard-by_week/billboard-23.csv'), WindowsPath('C:/Users/asia/Desktop/codes/data/billboard-by_week/billboard-24.csv'), WindowsPath('C:/Users/asia/Desktop/codes/data/billboard-by_week/billboard-25.csv'), WindowsPath('C:/Users/asia/Desktop/codes/data/billboard-by_week/billboard-26.csv'), WindowsPath('C:/Users/asia/Desktop/codes/data/billboard-by_week/billboard-27.csv'), WindowsPath('C:/Users/asia/Desktop/codes/data/billboard-by_week/billboard-28.csv'), WindowsPath('C:/Users/asia/Desktop/codes/data/billboard-by_week/billboard-29.csv'), WindowsPath('C:/Users/asia/Desktop/codes/data/billboard-by_week/billboard-30.csv'), WindowsPath('C:/Users/asia/Desktop/codes/data/billboard-by_week/billboard-31.csv'), WindowsPath('C:/Users/asia/Desktop/codes/data/billboard-by_week/billboard-32.csv'), WindowsPath('C:/Users/asia/Desktop/codes/data/billboard-by_week/billboard-33.csv'), WindowsPath('C:/Users/asia/Desktop/codes/data/billboard-by_week/billboard-34.csv'), WindowsPath('C:/Users/asia/Desktop/codes/data/billboard-by_week/billboard-35.csv'), WindowsPath('C:/Users/asia/Desktop/codes/data/billboard-by_week/billboard-36.csv'), WindowsPath('C:/Users/asia/Desktop/codes/data/billboard-by_week/billboard-37.csv'), WindowsPath('C:/Users/asia/Desktop/codes/data/billboard-by_week/billboard-38.csv'), WindowsPath('C:/Users/asia/Desktop/codes/data/billboard-by_week/billboard-39.csv'), WindowsPath('C:/Users/asia/Desktop/codes/data/billboard-by_week/billboard-40.csv'), WindowsPath('C:/Users/asia/Desktop/codes/data/billboard-by_week/billboard-41.csv'), WindowsPath('C:/Users/asia/Desktop/codes/data/billboard-by_week/billboard-42.csv'), WindowsPath('C:/Users/asia/Desktop/codes/data/billboard-by_week/billboard-43.csv'), WindowsPath('C:/Users/asia/Desktop/codes/data/billboard-by_week/billboard-44.csv'), WindowsPath('C:/Users/asia/Desktop/codes/data/billboard-by_week/billboard-45.csv'), WindowsPath('C:/Users/asia/Desktop/codes/data/billboard-by_week/billboard-46.csv'), WindowsPath('C:/Users/asia/Desktop/codes/data/billboard-by_week/billboard-47.csv'), WindowsPath('C:/Users/asia/Desktop/codes/data/billboard-by_week/billboard-48.csv'), WindowsPath('C:/Users/asia/Desktop/codes/data/billboard-by_week/billboard-49.csv'), WindowsPath('C:/Users/asia/Desktop/codes/data/billboard-by_week/billboard-50.csv'), WindowsPath('C:/Users/asia/Desktop/codes/data/billboard-by_week/billboard-51.csv'), WindowsPath('C:/Users/asia/Desktop/codes/data/billboard-by_week/billboard-52.csv'), WindowsPath('C:/Users/asia/Desktop/codes/data/billboard-by_week/billboard-53.csv'), WindowsPath('C:/Users/asia/Desktop/codes/data/billboard-by_week/billboard-54.csv'), WindowsPath('C:/Users/asia/Desktop/codes/data/billboard-by_week/billboard-55.csv'), WindowsPath('C:/Users/asia/Desktop/codes/data/billboard-by_week/billboard-56.csv'), WindowsPath('C:/Users/asia/Desktop/codes/data/billboard-by_week/billboard-57.csv'), WindowsPath('C:/Users/asia/Desktop/codes/data/billboard-by_week/billboard-58.csv'), WindowsPath('C:/Users/asia/Desktop/codes/data/billboard-by_week/billboard-59.csv'), WindowsPath('C:/Users/asia/Desktop/codes/data/billboard-by_week/billboard-60.csv'), WindowsPath('C:/Users/asia/Desktop/codes/data/billboard-by_week/billboard-61.csv'), WindowsPath('C:/Users/asia/Desktop/codes/data/billboard-by_week/billboard-62.csv'), WindowsPath('C:/Users/asia/Desktop/codes/data/billboard-by_week/billboard-63.csv'), WindowsPath('C:/Users/asia/Desktop/codes/data/billboard-by_week/billboard-64.csv'), WindowsPath('C:/Users/asia/Desktop/codes/data/billboard-by_week/billboard-65.csv'), WindowsPath('C:/Users/asia/Desktop/codes/data/billboard-by_week/billboard-66.csv'), WindowsPath('C:/Users/asia/Desktop/codes/data/billboard-by_week/billboard-67.csv'), WindowsPath('C:/Users/asia/Desktop/codes/data/billboard-by_week/billboard-68.csv'), WindowsPath('C:/Users/asia/Desktop/codes/data/billboard-by_week/billboard-69.csv'), WindowsPath('C:/Users/asia/Desktop/codes/data/billboard-by_week/billboard-70.csv'), WindowsPath('C:/Users/asia/Desktop/codes/data/billboard-by_week/billboard-71.csv'), WindowsPath('C:/Users/asia/Desktop/codes/data/billboard-by_week/billboard-72.csv'), WindowsPath('C:/Users/asia/Desktop/codes/data/billboard-by_week/billboard-73.csv'), WindowsPath('C:/Users/asia/Desktop/codes/data/billboard-by_week/billboard-74.csv'), WindowsPath('C:/Users/asia/Desktop/codes/data/billboard-by_week/billboard-75.csv'), WindowsPath('C:/Users/asia/Desktop/codes/data/billboard-by_week/billboard-76.csv')]\n"
     ]
    }
   ],
   "source": [
    "from pathlib import Path\n",
    "\n",
    "billboard_data_files = (\n",
    "    Path(\"C:/Users/asia/Desktop/codes/data/billboard-by_week\")\n",
    "    .glob(\"billboard-*.csv\")\n",
    ")\n",
    "\n",
    "billboard_data_files = sorted(list(billboard_data_files))\n",
    "print(billboard_data_files)"
   ]
  },
  {
   "cell_type": "code",
   "execution_count": 79,
   "id": "fb78334d-0d7a-4f6b-b499-07a3edce38bd",
   "metadata": {},
   "outputs": [],
   "source": [
    "billbillboard_data_files = list(billboard_data_files)"
   ]
  },
  {
   "cell_type": "code",
   "execution_count": 80,
   "id": "10ab8921-a721-44b4-8dfe-d8f263bcf327",
   "metadata": {},
   "outputs": [],
   "source": [
    "billboard_data_files = list(billboard_data_files)"
   ]
  },
  {
   "cell_type": "code",
   "execution_count": 81,
   "id": "f262cf58-7683-45c2-851a-cb5fd0d2fd99",
   "metadata": {},
   "outputs": [
    {
     "name": "stdout",
     "output_type": "stream",
     "text": [
      "     year            artist                    track  time date.entered week  \\\n",
      "0    2000             2 Pac  Baby Don't Cry (Keep...  4:22   2000-02-26  wk1   \n",
      "1    2000           2Ge+her  The Hardest Part Of ...  3:15   2000-09-02  wk1   \n",
      "2    2000      3 Doors Down               Kryptonite  3:53   2000-04-08  wk1   \n",
      "3    2000      3 Doors Down                    Loser  4:24   2000-10-21  wk1   \n",
      "4    2000          504 Boyz            Wobble Wobble  3:35   2000-04-15  wk1   \n",
      "..    ...               ...                      ...   ...          ...  ...   \n",
      "312  2000       Yankee Grey     Another Nine Minutes  3:10   2000-04-29  wk1   \n",
      "313  2000  Yearwood, Trisha          Real Live Woman  3:55   2000-04-01  wk1   \n",
      "314  2000   Ying Yang Twins  Whistle While You Tw...  4:19   2000-03-18  wk1   \n",
      "315  2000     Zombie Nation            Kernkraft 400  3:30   2000-09-02  wk1   \n",
      "316  2000   matchbox twenty                     Bent  4:12   2000-04-29  wk1   \n",
      "\n",
      "     rating  \n",
      "0      87.0  \n",
      "1      91.0  \n",
      "2      81.0  \n",
      "3      76.0  \n",
      "4      57.0  \n",
      "..      ...  \n",
      "312    86.0  \n",
      "313    85.0  \n",
      "314    95.0  \n",
      "315    99.0  \n",
      "316    60.0  \n",
      "\n",
      "[317 rows x 7 columns]\n"
     ]
    }
   ],
   "source": [
    "billboard01 = pd.read_csv(billboard_data_files[0])\n",
    "billboard02 = pd.read_csv(billboard_data_files[1])\n",
    "billboard03 = pd.read_csv(billboard_data_files[2])\n",
    "print(billboard01)"
   ]
  },
  {
   "cell_type": "code",
   "execution_count": 70,
   "id": "555ad24b-6ef7-4b53-bef6-654171fa00ec",
   "metadata": {},
   "outputs": [
    {
     "ename": "NameError",
     "evalue": "name 'billboard01' is not defined",
     "output_type": "error",
     "traceback": [
      "\u001b[1;31m---------------------------------------------------------------------------\u001b[0m",
      "\u001b[1;31mNameError\u001b[0m                                 Traceback (most recent call last)",
      "Cell \u001b[1;32mIn[70], line 1\u001b[0m\n\u001b[1;32m----> 1\u001b[0m billboard \u001b[38;5;241m=\u001b[39m pd\u001b[38;5;241m.\u001b[39mconcat([billboard01, billboard02, billboard03])\n\u001b[0;32m      2\u001b[0m \u001b[38;5;28mprint\u001b[39m(billboard\u001b[38;5;241m.\u001b[39mshape)\n",
      "\u001b[1;31mNameError\u001b[0m: name 'billboard01' is not defined"
     ]
    }
   ],
   "source": [
    "billboard = pd.concat([billboard01, billboard02, billboard03])\n",
    "print(billboard.shape)"
   ]
  },
  {
   "cell_type": "code",
   "execution_count": 71,
   "id": "f94ba0b2-04fd-440e-9d2b-3ee2b8886d31",
   "metadata": {},
   "outputs": [],
   "source": [
    "from pathlib import Path"
   ]
  },
  {
   "cell_type": "code",
   "execution_count": 77,
   "id": "bb735fba-e37e-4cf7-9daa-c567443334a9",
   "metadata": {},
   "outputs": [
    {
     "name": "stdout",
     "output_type": "stream",
     "text": [
      "76\n"
     ]
    }
   ],
   "source": [
    "billboard_data_files = (\n",
    "    Path(\"C:/Users/asia/Desktop/codes/data/billboard-by_week\")\n",
    "    .glob(\"billboard-*.csv\")\n",
    ")\n",
    "list_billboard_df=[]\n",
    "for csv_filename in billboard_data_files:\n",
    "    df = pd.read_csv(csv_filename)\n",
    "    list_billboard_df.append(df)\n",
    "print(len(list_billboard_df))"
   ]
  },
  {
   "cell_type": "code",
   "execution_count": 82,
   "id": "e0b967ea-16eb-4dad-bd09-8858def1aed6",
   "metadata": {},
   "outputs": [
    {
     "name": "stdout",
     "output_type": "stream",
     "text": [
      "      ident   personal    family\n",
      "0      dyer    William      Dyer\n",
      "1        pb      Frank   Pabodie\n",
      "2      lake   Anderson      Lake\n",
      "3       roe  Valentina   Roerich\n",
      "4  danforth      Frank  Danforth\n"
     ]
    }
   ],
   "source": [
    "person=pd.read_csv(\"C:/Users/asia/Desktop/codes/data/survey_person.csv\")\n",
    "site=pd.read_csv(\"C:/Users/asia/Desktop/codes/data/survey_site.csv\")\n",
    "survey=pd.read_csv(\"C:/Users/asia/Desktop/codes/data/survey_survey.csv\")\n",
    "visited=pd.read_csv(\"C:/Users/asia/Desktop/codes/data/survey_visited.csv\")\n",
    "print(person)"
   ]
  },
  {
   "cell_type": "code",
   "execution_count": 83,
   "id": "8aec09dd-860a-4cbd-804a-2bd6bb4e4165",
   "metadata": {},
   "outputs": [
    {
     "name": "stdout",
     "output_type": "stream",
     "text": [
      "    name    lat    long\n",
      "0   DR-1 -49.85 -128.57\n",
      "1   DR-3 -47.15 -126.72\n",
      "2  MSK-4 -48.87 -123.40\n"
     ]
    }
   ],
   "source": [
    "print(site)"
   ]
  },
  {
   "cell_type": "code",
   "execution_count": 84,
   "id": "48ba972a-2277-430b-bd11-53d59d5665fb",
   "metadata": {},
   "outputs": [
    {
     "name": "stdout",
     "output_type": "stream",
     "text": [
      "   ident   site       dated\n",
      "0    619   DR-1  1927-02-08\n",
      "1    622   DR-1  1927-02-10\n",
      "2    734   DR-3  1939-01-07\n",
      "3    735   DR-3  1930-01-12\n",
      "4    751   DR-3  1930-02-26\n",
      "5    752   DR-3         NaN\n",
      "6    837  MSK-4  1932-01-14\n",
      "7    844   DR-1  1932-03-22\n"
     ]
    }
   ],
   "source": [
    "print(visited)"
   ]
  },
  {
   "cell_type": "code",
   "execution_count": 85,
   "id": "5c68c728-1841-493e-97fe-c6f710c93505",
   "metadata": {},
   "outputs": [
    {
     "name": "stdout",
     "output_type": "stream",
     "text": [
      "    taken person quant  reading\n",
      "0     619   dyer   rad     9.82\n",
      "1     619   dyer   sal     0.13\n",
      "2     622   dyer   rad     7.80\n",
      "3     622   dyer   sal     0.09\n",
      "4     734     pb   rad     8.41\n",
      "5     734   lake   sal     0.05\n",
      "6     734     pb  temp   -21.50\n",
      "7     735     pb   rad     7.22\n",
      "8     735    NaN   sal     0.06\n",
      "9     735    NaN  temp   -26.00\n",
      "10    751     pb   rad     4.35\n",
      "11    751     pb  temp   -18.50\n",
      "12    751   lake   sal     0.10\n",
      "13    752   lake   rad     2.19\n",
      "14    752   lake   sal     0.09\n",
      "15    752   lake  temp   -16.00\n",
      "16    752    roe   sal    41.60\n",
      "17    837   lake   rad     1.46\n",
      "18    837   lake   sal     0.21\n",
      "19    837    roe   sal    22.50\n",
      "20    844    roe   rad    11.25\n"
     ]
    }
   ],
   "source": [
    "print(survey)"
   ]
  },
  {
   "cell_type": "code",
   "execution_count": 86,
   "id": "9f5d0e13-3a2b-4dd0-84b7-9365269ed3df",
   "metadata": {},
   "outputs": [
    {
     "name": "stdout",
     "output_type": "stream",
     "text": [
      "   ident   site       dated\n",
      "0    619   DR-1  1927-02-08\n",
      "2    734   DR-3  1939-01-07\n",
      "6    837  MSK-4  1932-01-14\n"
     ]
    }
   ],
   "source": [
    "visited_subset=visited.loc[[0,2,6],:]\n",
    "print(visited_subset)"
   ]
  },
  {
   "cell_type": "code",
   "execution_count": 91,
   "id": "121a70b3-4e63-4fc7-b3f1-dd3c693b728b",
   "metadata": {},
   "outputs": [
    {
     "name": "stdout",
     "output_type": "stream",
     "text": [
      "    name    lat    long  ident   site       dated\n",
      "0   DR-1 -49.85 -128.57    619   DR-1  1927-02-08\n",
      "1   DR-3 -47.15 -126.72    734   DR-3  1939-01-07\n",
      "2  MSK-4 -48.87 -123.40    837  MSK-4  1932-01-14\n"
     ]
    }
   ],
   "source": [
    "o2o_merge=site.merge(visited_subset, left_on=\"name\", right_on=\"site\")\n",
    "print(o2o_merge)"
   ]
  },
  {
   "cell_type": "code",
   "execution_count": null,
   "id": "977978f3-287f-425a-840b-9b7e9205e6b4",
   "metadata": {},
   "outputs": [],
   "source": []
  }
 ],
 "metadata": {
  "kernelspec": {
   "display_name": "Python 3 (ipykernel)",
   "language": "python",
   "name": "python3"
  },
  "language_info": {
   "codemirror_mode": {
    "name": "ipython",
    "version": 3
   },
   "file_extension": ".py",
   "mimetype": "text/x-python",
   "name": "python",
   "nbconvert_exporter": "python",
   "pygments_lexer": "ipython3",
   "version": "3.12.9"
  }
 },
 "nbformat": 4,
 "nbformat_minor": 5
}
