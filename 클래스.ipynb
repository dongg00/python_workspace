{
 "cells": [
  {
   "cell_type": "code",
   "execution_count": 6,
   "id": "da4dedd1-a98b-401c-87db-b8a5216001b4",
   "metadata": {},
   "outputs": [],
   "source": [
    "def add(a,b):\n",
    "    return a+b"
   ]
  },
  {
   "cell_type": "code",
   "execution_count": 7,
   "id": "a6fe2d01-93b4-4354-b5b2-e76f5828182f",
   "metadata": {},
   "outputs": [
    {
     "name": "stdout",
     "output_type": "stream",
     "text": [
      "3\n"
     ]
    }
   ],
   "source": [
    "result = add(1,2)\n",
    "print(result)"
   ]
  },
  {
   "cell_type": "code",
   "execution_count": 8,
   "id": "c585af79-c508-44a3-ba85-3f9e00f21091",
   "metadata": {},
   "outputs": [
    {
     "name": "stdout",
     "output_type": "stream",
     "text": [
      "15\n"
     ]
    }
   ],
   "source": [
    "c=5\n",
    "d=10\n",
    "result=add(c,d)\n",
    "print(result)"
   ]
  },
  {
   "cell_type": "code",
   "execution_count": 12,
   "id": "da72becf-410f-4195-b5de-80fed2b7171d",
   "metadata": {},
   "outputs": [],
   "source": [
    "class Cookie:\n",
    "    pass"
   ]
  },
  {
   "cell_type": "code",
   "execution_count": 13,
   "id": "9fbdcfe6-d938-4f27-8d63-a3d3aecd25cb",
   "metadata": {},
   "outputs": [],
   "source": [
    "a=Cookie()"
   ]
  },
  {
   "cell_type": "code",
   "execution_count": 14,
   "id": "ab6da85c-9c92-4d4f-b26a-c46bed749034",
   "metadata": {},
   "outputs": [
    {
     "name": "stdout",
     "output_type": "stream",
     "text": [
      "<__main__.Cookie object at 0x000001E00851D6A0>\n"
     ]
    }
   ],
   "source": [
    "print(a)"
   ]
  },
  {
   "cell_type": "code",
   "execution_count": 34,
   "id": "2e09ed79-ff1b-4338-ad91-8c1667a2c07d",
   "metadata": {},
   "outputs": [],
   "source": [
    "class ForCal:\n",
    "    def setData(self,first,second):\n",
    "        self.first=first\n",
    "        self.second=second\n",
    "    def add(self):\n",
    "        return self.first + self.second\n",
    "    def sub(self):\n",
    "        return self.first - self.second\n",
    "    def mul(self):\n",
    "        return self.first * self.second\n",
    "    def div(self):\n",
    "        return self.first / self.second"
   ]
  },
  {
   "cell_type": "code",
   "execution_count": 35,
   "id": "a1bf5c5e-89b8-42a2-ab26-4d35f9396ab6",
   "metadata": {},
   "outputs": [
    {
     "name": "stdout",
     "output_type": "stream",
     "text": [
      "<__main__.ForCal object at 0x000001E009F269F0>\n"
     ]
    }
   ],
   "source": [
    "a=ForCal()\n",
    "print(a)"
   ]
  },
  {
   "cell_type": "code",
   "execution_count": 36,
   "id": "6e1cfc55-1e5d-4c51-b20b-a4880ce6d343",
   "metadata": {},
   "outputs": [],
   "source": [
    "a.setData(1,2)"
   ]
  },
  {
   "cell_type": "code",
   "execution_count": 37,
   "id": "5f4315dd-40a7-456b-804b-b197d991c760",
   "metadata": {},
   "outputs": [
    {
     "name": "stdout",
     "output_type": "stream",
     "text": [
      "1\n"
     ]
    }
   ],
   "source": [
    "print(a.first)"
   ]
  },
  {
   "cell_type": "code",
   "execution_count": 38,
   "id": "5c80a112-a0ce-4781-99ba-ba14308fe805",
   "metadata": {},
   "outputs": [
    {
     "name": "stdout",
     "output_type": "stream",
     "text": [
      "2\n"
     ]
    }
   ],
   "source": [
    "print(a.second)"
   ]
  },
  {
   "cell_type": "code",
   "execution_count": 39,
   "id": "af59dd59-1e04-46dc-a3d9-3317dd11e87b",
   "metadata": {},
   "outputs": [
    {
     "data": {
      "text/plain": [
       "3"
      ]
     },
     "execution_count": 39,
     "metadata": {},
     "output_type": "execute_result"
    }
   ],
   "source": [
    "a.add()"
   ]
  },
  {
   "cell_type": "code",
   "execution_count": 40,
   "id": "30526784-7b5b-4910-a070-61e2f6a599fd",
   "metadata": {},
   "outputs": [
    {
     "data": {
      "text/plain": [
       "0.5"
      ]
     },
     "execution_count": 40,
     "metadata": {},
     "output_type": "execute_result"
    }
   ],
   "source": [
    "a.div()"
   ]
  },
  {
   "cell_type": "code",
   "execution_count": 41,
   "id": "fff4e9ba-57de-46ac-ab76-8ae64892ec2a",
   "metadata": {},
   "outputs": [
    {
     "data": {
      "text/plain": [
       "2"
      ]
     },
     "execution_count": 41,
     "metadata": {},
     "output_type": "execute_result"
    }
   ],
   "source": [
    "a.mul()"
   ]
  },
  {
   "cell_type": "code",
   "execution_count": 42,
   "id": "a740b0e0-6476-408e-a74d-82b8b99f6e1e",
   "metadata": {},
   "outputs": [],
   "source": [
    "b=ForCal()"
   ]
  },
  {
   "cell_type": "code",
   "execution_count": 43,
   "id": "edf85df8-e6c1-4288-b3f5-66d9c9f5e4d1",
   "metadata": {},
   "outputs": [],
   "source": [
    "b.setData(5,3)"
   ]
  },
  {
   "cell_type": "code",
   "execution_count": 44,
   "id": "b253e880-5348-4627-9010-19fc2c91d9fb",
   "metadata": {},
   "outputs": [
    {
     "data": {
      "text/plain": [
       "5"
      ]
     },
     "execution_count": 44,
     "metadata": {},
     "output_type": "execute_result"
    }
   ],
   "source": [
    "b.first"
   ]
  },
  {
   "cell_type": "code",
   "execution_count": 45,
   "id": "f5c3a902-97bd-4654-ac16-01a4992be510",
   "metadata": {},
   "outputs": [
    {
     "data": {
      "text/plain": [
       "3"
      ]
     },
     "execution_count": 45,
     "metadata": {},
     "output_type": "execute_result"
    }
   ],
   "source": [
    "b.second"
   ]
  },
  {
   "cell_type": "code",
   "execution_count": 46,
   "id": "a9dfe59c-a72b-4e21-81bf-3f1f5d69ee2d",
   "metadata": {},
   "outputs": [
    {
     "data": {
      "text/plain": [
       "8"
      ]
     },
     "execution_count": 46,
     "metadata": {},
     "output_type": "execute_result"
    }
   ],
   "source": [
    "b.add()"
   ]
  },
  {
   "cell_type": "code",
   "execution_count": 47,
   "id": "fc794a99-1a72-4ec7-85c0-984bc23cd496",
   "metadata": {},
   "outputs": [
    {
     "data": {
      "text/plain": [
       "1.6666666666666667"
      ]
     },
     "execution_count": 47,
     "metadata": {},
     "output_type": "execute_result"
    }
   ],
   "source": [
    "b.div()"
   ]
  },
  {
   "cell_type": "code",
   "execution_count": 53,
   "id": "aee5d1aa-7c58-4f1a-b8a0-01ee6a99297e",
   "metadata": {},
   "outputs": [],
   "source": [
    "class FourCal:   #초기화\n",
    "    def __init__(self,first,second):    #생성자 메소드\n",
    "        print(\"생성자 매소드가 변수를 초기화 하였습니다.\")\n",
    "        self.first=first\n",
    "        self.second=second\n",
    "    def add(self):\n",
    "        return self.first + self.second\n",
    "    def sub(self):\n",
    "        return self.first - self.second\n",
    "    def mul(self):\n",
    "        return self.first * self.second\n",
    "    def div(self):\n",
    "        return self.first / self.second"
   ]
  },
  {
   "cell_type": "code",
   "execution_count": 54,
   "id": "a23dbe20-a933-49dd-aa9c-99698eb28b94",
   "metadata": {},
   "outputs": [
    {
     "name": "stdout",
     "output_type": "stream",
     "text": [
      "생성자 매소드가 변수를 초기화 하였습니다.\n"
     ]
    }
   ],
   "source": [
    "a=FourCal(1,2)"
   ]
  },
  {
   "cell_type": "code",
   "execution_count": 55,
   "id": "5e5700a5-59e2-4306-bfcb-7b65071a412f",
   "metadata": {},
   "outputs": [
    {
     "data": {
      "text/plain": [
       "3"
      ]
     },
     "execution_count": 55,
     "metadata": {},
     "output_type": "execute_result"
    }
   ],
   "source": [
    "a.add()"
   ]
  },
  {
   "cell_type": "code",
   "execution_count": 69,
   "id": "764cbbda-8ba1-448c-aeac-af7eed5a8ad0",
   "metadata": {},
   "outputs": [],
   "source": [
    "class MoreFourCal(FourCal):\n",
    "    def pow(self):\n",
    "        return self.first ** self.second\n",
    "    def div(self):\n",
    "        if self.second == 0:\n",
    "            return 0\n",
    "        else :\n",
    "            return self.first / self.second"
   ]
  },
  {
   "cell_type": "code",
   "execution_count": 70,
   "id": "1a6331e1-00fa-4c8c-a660-8a08294db7ca",
   "metadata": {},
   "outputs": [
    {
     "name": "stdout",
     "output_type": "stream",
     "text": [
      "생성자 매소드가 변수를 초기화 하였습니다.\n"
     ]
    }
   ],
   "source": [
    "c=MoreFourCal(5,0)"
   ]
  },
  {
   "cell_type": "code",
   "execution_count": 71,
   "id": "54f0d31b-6530-49d8-b214-34b3ac750ab9",
   "metadata": {},
   "outputs": [
    {
     "data": {
      "text/plain": [
       "0"
      ]
     },
     "execution_count": 71,
     "metadata": {},
     "output_type": "execute_result"
    }
   ],
   "source": [
    "c.div()"
   ]
  },
  {
   "cell_type": "markdown",
   "id": "8cab3fe3-5e94-4f49-bbc4-81e0796c22ac",
   "metadata": {},
   "source": [
    "## 클래스 변수"
   ]
  },
  {
   "cell_type": "code",
   "execution_count": 72,
   "id": "b13832bb-46e5-496e-a4cf-e2acf8f299a0",
   "metadata": {},
   "outputs": [],
   "source": [
    "class Family:\n",
    "    lastname='kim'"
   ]
  },
  {
   "cell_type": "code",
   "execution_count": 73,
   "id": "96f35449-2563-420a-885a-a777f30b3b75",
   "metadata": {},
   "outputs": [
    {
     "data": {
      "text/plain": [
       "'kim'"
      ]
     },
     "execution_count": 73,
     "metadata": {},
     "output_type": "execute_result"
    }
   ],
   "source": [
    "Family.lastname"
   ]
  },
  {
   "cell_type": "code",
   "execution_count": 74,
   "id": "0844eb37-9903-49b5-8341-7fd672fd6c33",
   "metadata": {},
   "outputs": [
    {
     "data": {
      "text/plain": [
       "'kim'"
      ]
     },
     "execution_count": 74,
     "metadata": {},
     "output_type": "execute_result"
    }
   ],
   "source": [
    "a=Family()\n",
    "a.lastname"
   ]
  },
  {
   "cell_type": "code",
   "execution_count": 75,
   "id": "2ace274c-1fdf-4ee1-a2e1-e86148b934ce",
   "metadata": {},
   "outputs": [
    {
     "data": {
      "text/plain": [
       "'kim'"
      ]
     },
     "execution_count": 75,
     "metadata": {},
     "output_type": "execute_result"
    }
   ],
   "source": [
    "b=Family()\n",
    "b.lastname"
   ]
  },
  {
   "cell_type": "code",
   "execution_count": 76,
   "id": "812e7148-7ac2-49fa-888a-c024a1e88ea5",
   "metadata": {},
   "outputs": [],
   "source": [
    "Family.lastname='park'"
   ]
  },
  {
   "cell_type": "code",
   "execution_count": 78,
   "id": "26292ba5-622f-489f-91de-c74e244bbcaa",
   "metadata": {},
   "outputs": [
    {
     "name": "stdout",
     "output_type": "stream",
     "text": [
      "park\n",
      "park\n"
     ]
    }
   ],
   "source": [
    "print(a.lastname)\n",
    "print(b.lastname)"
   ]
  },
  {
   "cell_type": "markdown",
   "id": "ca63ce7f-bcb4-45e9-9830-22118d2b731c",
   "metadata": {},
   "source": [
    "#모듈과 패키지"
   ]
  },
  {
   "cell_type": "code",
   "execution_count": 79,
   "id": "ad98a981-a739-4f23-ad10-d2356372c800",
   "metadata": {},
   "outputs": [],
   "source": [
    "import mode1 #mode1이라는 객체로 함수 add와 sub 불러옴"
   ]
  },
  {
   "cell_type": "code",
   "execution_count": 80,
   "id": "70d3e4da-0727-4d32-892e-d11a9f7ebe07",
   "metadata": {},
   "outputs": [
    {
     "data": {
      "text/plain": [
       "3"
      ]
     },
     "execution_count": 80,
     "metadata": {},
     "output_type": "execute_result"
    }
   ],
   "source": [
    "mode1.add(1,2)"
   ]
  },
  {
   "cell_type": "code",
   "execution_count": 83,
   "id": "3040fd9f-f89f-4cc1-8c53-1264d4fbcb84",
   "metadata": {},
   "outputs": [
    {
     "data": {
      "text/plain": [
       "1"
      ]
     },
     "execution_count": 83,
     "metadata": {},
     "output_type": "execute_result"
    }
   ],
   "source": [
    "mode1.sub(3,2)"
   ]
  },
  {
   "cell_type": "code",
   "execution_count": 84,
   "id": "297641f4-d20f-4e75-a55e-5361eba0d2ed",
   "metadata": {},
   "outputs": [],
   "source": [
    "del mode1"
   ]
  },
  {
   "cell_type": "code",
   "execution_count": 87,
   "id": "45bb7e5e-b12f-40d8-8a71-e71a41b83764",
   "metadata": {},
   "outputs": [
    {
     "data": {
      "text/plain": [
       "7"
      ]
     },
     "execution_count": 87,
     "metadata": {},
     "output_type": "execute_result"
    }
   ],
   "source": [
    "from mode1 import add ,sub #모듈 mode1 에서 함수 add, sub 불러옴\n",
    "add(3,4)"
   ]
  },
  {
   "cell_type": "code",
   "execution_count": 88,
   "id": "ff074f24-9cf7-41f4-9ea8-ae3fe05a2da1",
   "metadata": {},
   "outputs": [
    {
     "data": {
      "text/plain": [
       "-1"
      ]
     },
     "execution_count": 88,
     "metadata": {},
     "output_type": "execute_result"
    }
   ],
   "source": [
    "sub(3,4)"
   ]
  },
  {
   "cell_type": "code",
   "execution_count": 89,
   "id": "5f9b5ef6-10d3-4088-9408-0a79a13aed52",
   "metadata": {},
   "outputs": [],
   "source": [
    "del add, sub"
   ]
  },
  {
   "cell_type": "code",
   "execution_count": 90,
   "id": "a17e4e23-607f-45c4-aa3b-7b23cf880298",
   "metadata": {},
   "outputs": [],
   "source": [
    "from mode1 import add as adds #add 별명으로 adds부여"
   ]
  },
  {
   "cell_type": "code",
   "execution_count": 92,
   "id": "213dbf7c-ecc2-4f4d-86f8-c15b8e901686",
   "metadata": {},
   "outputs": [
    {
     "data": {
      "text/plain": [
       "7"
      ]
     },
     "execution_count": 92,
     "metadata": {},
     "output_type": "execute_result"
    }
   ],
   "source": [
    "adds(3,4)"
   ]
  },
  {
   "cell_type": "code",
   "execution_count": 93,
   "id": "02dcc4a6-7fcb-4adc-9592-e1767c4127a1",
   "metadata": {},
   "outputs": [],
   "source": [
    "del adds"
   ]
  },
  {
   "cell_type": "code",
   "execution_count": 94,
   "id": "351afff5-d49e-4a40-bfde-860516554ec2",
   "metadata": {},
   "outputs": [],
   "source": [
    "from mode1 import * #모듈 mode1에 있는 함수 모두를 불러옴"
   ]
  },
  {
   "cell_type": "code",
   "execution_count": 95,
   "id": "2cff2eef-d5d3-47c5-afc3-dfd4275c22f4",
   "metadata": {},
   "outputs": [
    {
     "data": {
      "text/plain": [
       "5"
      ]
     },
     "execution_count": 95,
     "metadata": {},
     "output_type": "execute_result"
    }
   ],
   "source": [
    "add(2,3)"
   ]
  },
  {
   "cell_type": "code",
   "execution_count": 96,
   "id": "81d7be9b-3517-4123-a691-aa8d85448fa2",
   "metadata": {},
   "outputs": [
    {
     "data": {
      "text/plain": [
       "-1"
      ]
     },
     "execution_count": 96,
     "metadata": {},
     "output_type": "execute_result"
    }
   ],
   "source": [
    "sub(4,5)"
   ]
  },
  {
   "cell_type": "code",
   "execution_count": 98,
   "id": "446099c7-57b4-4fdd-8f83-54d7eeb5ff87",
   "metadata": {},
   "outputs": [
    {
     "name": "stdout",
     "output_type": "stream",
     "text": [
      "5\n",
      "2\n"
     ]
    }
   ],
   "source": [
    "import mode2"
   ]
  },
  {
   "cell_type": "code",
   "execution_count": 99,
   "id": "87229494-cbc5-4fd4-b9e5-8c27d4d483ca",
   "metadata": {},
   "outputs": [
    {
     "data": {
      "text/plain": [
       "'D:\\\\python_workspace'"
      ]
     },
     "execution_count": 99,
     "metadata": {},
     "output_type": "execute_result"
    }
   ],
   "source": [
    "import os\n",
    "os.getcwd()"
   ]
  },
  {
   "cell_type": "code",
   "execution_count": null,
   "id": "4d75be88-8992-4154-bc2b-64eca642a9f9",
   "metadata": {},
   "outputs": [],
   "source": []
  }
 ],
 "metadata": {
  "kernelspec": {
   "display_name": "Python 3 (ipykernel)",
   "language": "python",
   "name": "python3"
  },
  "language_info": {
   "codemirror_mode": {
    "name": "ipython",
    "version": 3
   },
   "file_extension": ".py",
   "mimetype": "text/x-python",
   "name": "python",
   "nbconvert_exporter": "python",
   "pygments_lexer": "ipython3",
   "version": "3.12.9"
  }
 },
 "nbformat": 4,
 "nbformat_minor": 5
}
