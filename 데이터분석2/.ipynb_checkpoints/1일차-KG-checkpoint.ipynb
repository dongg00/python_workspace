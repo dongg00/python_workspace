{
 "cells": [
  {
   "cell_type": "markdown",
   "id": "3577a44f-387f-44de-8572-79957411928c",
   "metadata": {},
   "source": [
    "# 학습 내용 요약"
   ]
  },
  {
   "cell_type": "markdown",
   "id": "10c19dc9-2f58-4f82-b85e-0adcd3997e72",
   "metadata": {},
   "source": [
    "| 주제                               | 주요 학습 내용                                                                                              |\n",
    "|------------------------------------|-----------------------------------------------------------------------------------------------------------|\n",
    "| **[1주차] 머신러닝 적용 사례기반 도메인 이해 및 대용량 데이터 핸들링** | - 데이터 사이언스 LIFE-CYCLE<br>- PANDAS API, DATAFRAME<br>- SKLEARN 사용법 - 머신러닝 알고리즘 소개 (DECISION TREE)<br>- 기초 예측 모델 구축 - 자전거 대여 예제<br>- 시각화 라이브러리 - MATPLOTLIB, SEABORN |\n",
    "| **[1주차] 데이터 핸들링, 파생 변수 생성, 외부 데이터 활용법**          | - 데이터 프레임의 JOIN, CONCAT, BOOLEAN INDEXING, AGG<br>- 날씨가 사람에 미치는 영향으로 파생변수 생성 (주중, 일자 등)  |\n",
    "| **[2주차] 다양한 알고리즘 소개 및 적용 (목적, 의미)**                  | - 선형 / 비선형 알고리즘 소개, 차이점 학습<br>- LINEAR REGRESSION, LASSO, RIDGE, RANDOM FOREST 등<br>- 회귀 모델의 성능을 평가하는 방법 - R2, RMSE 등 |\n",
    "| **[2주차] 예측모델 성능 개선방법, 변수 중요도와 선택방법**             | - 예측변수의 중요도 (기여도)를 알아보는 방법<br>- 전진 / 후진 제거<br>- HYPER PARAMETER TUNING 구현                      |\n",
    "| **[3주차] 정보를 얻는 (공부하는) 방법, 분류 데이터의 예측모델 구축**   | - HOTEL BOOKING DATASET 논문 기반 학습<br>- 예약 취소사유를 호텔 지정/년도 별 시각화<br>- 논문에서 다루는 데이터 해석법을 구현  |\n",
    "| **[3주차] 분류모델의 성능 평가지표**                                  | - CONFUSION MATRIX 소개 및 도출되는 평가지표 소개 및 구현<br>- 분류모델에서 ROC/AUC 곡선 사용 및 해석                   |\n",
    "| **[4주차] 군집분석 목적, 모델링 데이터가 많을 경우 대처법**            | - CLUSTER MEANS를 통한 단계 마케팅 분야 소개<br>- K-MEANS 알고리즘 소개 및 적용<br>- 데이터 샘플링 개념 소개 및 구현      |\n",
    "| **[4주차] 지도/비지도 학습의 차이, 주요 분석법**                      | - 지도/비지도 학습 용어 소개 및 차이점<br>- 차원 축소 알고리즘 (PCA, PLS)<br>- 군집분석 알고리즘 특징 및 결과 해석방법<br>- 수업에서 다루지 못한 부가분석 (추천 시스템 등) 소개 |"
   ]
  },
  {
   "cell_type": "markdown",
   "id": "0d837afc-f648-441b-ae7b-31616a8de98e",
   "metadata": {},
   "source": [
    "# 기본 연산"
   ]
  },
  {
   "cell_type": "code",
   "execution_count": 12,
   "id": "f60a5f64-de11-4f4f-8514-a08ae483d15b",
   "metadata": {},
   "outputs": [
    {
     "name": "stdout",
     "output_type": "stream",
     "text": [
      "0.5\n"
     ]
    }
   ],
   "source": [
    "print(100 / 200)   # +, -, / , * , %"
   ]
  },
  {
   "cell_type": "code",
   "execution_count": 5,
   "id": "38d1855c-86ae-43fb-ab93-5321709a9510",
   "metadata": {},
   "outputs": [
    {
     "name": "stdout",
     "output_type": "stream",
     "text": [
      "200\n"
     ]
    }
   ],
   "source": [
    "print() # 정수는 표현에 제한이 없음 "
   ]
  },
  {
   "cell_type": "code",
   "execution_count": 16,
   "id": "b0e4e6ed-cb9c-4bce-ad33-69c11d57fbf6",
   "metadata": {},
   "outputs": [
    {
     "data": {
      "text/plain": [
       "281474976710656"
      ]
     },
     "execution_count": 16,
     "metadata": {},
     "output_type": "execute_result"
    }
   ],
   "source": [
    "2 ** 48   # 표현의 한계  ( 4 byte )   - C, C++. JAVA "
   ]
  },
  {
   "cell_type": "code",
   "execution_count": 17,
   "id": "bc6a5a32-4a34-48f5-956b-a1bc9edea671",
   "metadata": {},
   "outputs": [
    {
     "data": {
      "text/plain": [
       "1234567890123456789012345678901234567891"
      ]
     },
     "execution_count": 17,
     "metadata": {},
     "output_type": "execute_result"
    }
   ],
   "source": [
    "1234567890123456789012345678901234567890 + 1"
   ]
  },
  {
   "cell_type": "code",
   "execution_count": 18,
   "id": "5df84962-82cf-4578-b6f8-49c469fff012",
   "metadata": {},
   "outputs": [
    {
     "data": {
      "text/plain": [
       "int"
      ]
     },
     "execution_count": 18,
     "metadata": {},
     "output_type": "execute_result"
    }
   ],
   "source": [
    "a = 1\n",
    "type(a)"
   ]
  },
  {
   "cell_type": "code",
   "execution_count": 19,
   "id": "ce405f4c-58eb-4b37-9b91-eacee6355d0b",
   "metadata": {},
   "outputs": [
    {
     "data": {
      "text/plain": [
       "str"
      ]
     },
     "execution_count": 19,
     "metadata": {},
     "output_type": "execute_result"
    }
   ],
   "source": [
    "a = \"a\"\n",
    "type(a)"
   ]
  },
  {
   "cell_type": "code",
   "execution_count": 20,
   "id": "847819a7-6ae8-41a4-8c4d-17fd3b104034",
   "metadata": {},
   "outputs": [
    {
     "data": {
      "text/plain": [
       "float"
      ]
     },
     "execution_count": 20,
     "metadata": {},
     "output_type": "execute_result"
    }
   ],
   "source": [
    "a = 1.1 \n",
    "type(a)"
   ]
  },
  {
   "cell_type": "code",
   "execution_count": 21,
   "id": "b95becef-bce9-41f8-8523-7b188c26286d",
   "metadata": {},
   "outputs": [
    {
     "data": {
      "text/plain": [
       "bool"
      ]
     },
     "execution_count": 21,
     "metadata": {},
     "output_type": "execute_result"
    }
   ],
   "source": [
    "a = True\n",
    "type(a)"
   ]
  },
  {
   "cell_type": "code",
   "execution_count": 22,
   "id": "8a190a53-cf00-4bc4-83a5-81d2b5c293ad",
   "metadata": {},
   "outputs": [
    {
     "name": "stdout",
     "output_type": "stream",
     "text": [
      "110\n"
     ]
    }
   ],
   "source": [
    "print( 100 + 10 )"
   ]
  },
  {
   "cell_type": "code",
   "execution_count": 23,
   "id": "386bba07-348f-4746-a663-ae01fba44d99",
   "metadata": {},
   "outputs": [
    {
     "name": "stdout",
     "output_type": "stream",
     "text": [
      "90\n"
     ]
    }
   ],
   "source": [
    "print( 100 - 10 )"
   ]
  },
  {
   "cell_type": "code",
   "execution_count": 24,
   "id": "12c9c496-6719-474d-865d-4e7703976fcc",
   "metadata": {},
   "outputs": [
    {
     "name": "stdout",
     "output_type": "stream",
     "text": [
      "10.0\n"
     ]
    }
   ],
   "source": [
    "print( 100 / 10 )"
   ]
  },
  {
   "cell_type": "code",
   "execution_count": 25,
   "id": "605530bf-e306-40d8-a594-02658dca7651",
   "metadata": {},
   "outputs": [
    {
     "name": "stdout",
     "output_type": "stream",
     "text": [
      "1000\n"
     ]
    }
   ],
   "source": [
    "print( 100 * 10 )"
   ]
  },
  {
   "cell_type": "code",
   "execution_count": 27,
   "id": "cc215b3e-24da-4d08-9b31-9f32e572bead",
   "metadata": {},
   "outputs": [
    {
     "name": "stdout",
     "output_type": "stream",
     "text": [
      "33\n"
     ]
    }
   ],
   "source": [
    "print( 100 // 3 )   # 몫"
   ]
  },
  {
   "cell_type": "code",
   "execution_count": 28,
   "id": "90d03930-2b60-476e-b1f3-9138db646f28",
   "metadata": {},
   "outputs": [
    {
     "name": "stdout",
     "output_type": "stream",
     "text": [
      "1\n"
     ]
    }
   ],
   "source": [
    "print( 100 % 3 )    # 나머지"
   ]
  },
  {
   "cell_type": "code",
   "execution_count": 29,
   "id": "ae0989b2-a86e-4734-bc8e-9166200bedef",
   "metadata": {},
   "outputs": [
    {
     "name": "stdout",
     "output_type": "stream",
     "text": [
      "100000000000000000000\n"
     ]
    }
   ],
   "source": [
    "print( 100 ** 10 )  # 제곱"
   ]
  },
  {
   "cell_type": "code",
   "execution_count": 30,
   "id": "b710f41c-32c9-4d78-8167-90c36ef0240b",
   "metadata": {},
   "outputs": [
    {
     "data": {
      "text/plain": [
       "110"
      ]
     },
     "execution_count": 30,
     "metadata": {},
     "output_type": "execute_result"
    }
   ],
   "source": [
    "a = 100 + 10\n",
    "a"
   ]
  },
  {
   "cell_type": "code",
   "execution_count": 31,
   "id": "1d6c846d-e2fe-486c-9cc4-04670ee9229e",
   "metadata": {},
   "outputs": [
    {
     "name": "stdout",
     "output_type": "stream",
     "text": [
      "True\n",
      "False\n",
      "False\n",
      "False\n"
     ]
    }
   ],
   "source": [
    "# 논리 연산( and, or )\n",
    "print( True and True )        #   a == 1\n",
    "print( True and False )\n",
    "print( False and True )\n",
    "print( False and False )"
   ]
  },
  {
   "cell_type": "code",
   "execution_count": 32,
   "id": "04f7409c-d10b-4370-a09a-6e02f11c7e01",
   "metadata": {},
   "outputs": [
    {
     "name": "stdout",
     "output_type": "stream",
     "text": [
      "True\n",
      "True\n",
      "True\n",
      "False\n"
     ]
    }
   ],
   "source": [
    "print( True or True )\n",
    "print( True or False )\n",
    "print( False or True )\n",
    "print( False or False )"
   ]
  },
  {
   "cell_type": "code",
   "execution_count": 33,
   "id": "c2632e0b-26d9-4425-86c2-9bfd0eb8493a",
   "metadata": {},
   "outputs": [
    {
     "name": "stdout",
     "output_type": "stream",
     "text": [
      "False\n",
      "True\n"
     ]
    }
   ],
   "source": [
    "print(not True)\n",
    "print(not False)"
   ]
  },
  {
   "cell_type": "markdown",
   "id": "a098bf7f-9365-4a13-a09c-8fb4545e5e93",
   "metadata": {},
   "source": [
    "# 비교 연산 "
   ]
  },
  {
   "cell_type": "code",
   "execution_count": 34,
   "id": "ddd71bf4-49d4-46e0-94ba-23d3dc3f0ae2",
   "metadata": {},
   "outputs": [
    {
     "name": "stdout",
     "output_type": "stream",
     "text": [
      "True\n"
     ]
    }
   ],
   "source": [
    "# 비교 판단\n",
    "print( 5 > 3 )"
   ]
  },
  {
   "cell_type": "code",
   "execution_count": 35,
   "id": "da3c1171-f2f0-4d9e-849e-9947145e8059",
   "metadata": {},
   "outputs": [
    {
     "name": "stdout",
     "output_type": "stream",
     "text": [
      "True\n"
     ]
    }
   ],
   "source": [
    "# 숫자 비교 \n",
    "print( 7 == 7 )"
   ]
  },
  {
   "cell_type": "code",
   "execution_count": 36,
   "id": "a9e995eb-a3c8-428c-b3e7-86e2dc310020",
   "metadata": {},
   "outputs": [
    {
     "name": "stdout",
     "output_type": "stream",
     "text": [
      "True\n"
     ]
    }
   ],
   "source": [
    "a = 7\n",
    "b = 7\n",
    "print( a == b )"
   ]
  },
  {
   "cell_type": "code",
   "execution_count": 37,
   "id": "8d5e6763-5778-4fd4-9c32-855910f2dcfc",
   "metadata": {},
   "outputs": [
    {
     "name": "stdout",
     "output_type": "stream",
     "text": [
      "False\n"
     ]
    }
   ],
   "source": [
    "print( 7 != 7 )   # 7과 7은 다른가 ?"
   ]
  },
  {
   "cell_type": "code",
   "execution_count": 38,
   "id": "979663f1-d92f-46ec-8a43-9cbc6a88d6a6",
   "metadata": {},
   "outputs": [
    {
     "name": "stdout",
     "output_type": "stream",
     "text": [
      "True\n",
      "False\n",
      "True\n"
     ]
    }
   ],
   "source": [
    "# 문자 비교\n",
    "print('Hello' == 'Hello')\n",
    "print('Hello' == 'hello')\n",
    "print('Hello' != 'hello')"
   ]
  },
  {
   "cell_type": "code",
   "execution_count": 39,
   "id": "2a09a1e7-509c-44ab-ab2a-537894aeb567",
   "metadata": {},
   "outputs": [
    {
     "name": "stdout",
     "output_type": "stream",
     "text": [
      "False\n",
      "False\n",
      "False\n",
      "True\n"
     ]
    }
   ],
   "source": [
    "# 부동호 비교 \n",
    "print( 1 > 2 )\n",
    "print( 1 > 2 )\n",
    "print( 1 >= 2 )\n",
    "print( 1 <= 2 )"
   ]
  },
  {
   "cell_type": "code",
   "execution_count": 41,
   "id": "7e47849c-d108-4d58-aefc-60b4bd99d827",
   "metadata": {},
   "outputs": [
    {
     "name": "stdout",
     "output_type": "stream",
     "text": [
      "True\n",
      "False\n",
      "True\n"
     ]
    },
    {
     "name": "stderr",
     "output_type": "stream",
     "text": [
      "<>:3: SyntaxWarning: \"is\" with 'int' literal. Did you mean \"==\"?\n",
      "<>:4: SyntaxWarning: \"is not\" with 'int' literal. Did you mean \"!=\"?\n",
      "<>:3: SyntaxWarning: \"is\" with 'int' literal. Did you mean \"==\"?\n",
      "<>:4: SyntaxWarning: \"is not\" with 'int' literal. Did you mean \"!=\"?\n",
      "C:\\Users\\KGITBANK.DESKTOP-9ITP31A\\AppData\\Local\\Temp\\ipykernel_7808\\3465238908.py:3: SyntaxWarning: \"is\" with 'int' literal. Did you mean \"==\"?\n",
      "  print(1 is 1.0)\n",
      "C:\\Users\\KGITBANK.DESKTOP-9ITP31A\\AppData\\Local\\Temp\\ipykernel_7808\\3465238908.py:4: SyntaxWarning: \"is not\" with 'int' literal. Did you mean \"!=\"?\n",
      "  print(1 is not 1.0)\n"
     ]
    }
   ],
   "source": [
    "# 개체의 비교\n",
    "print(1 == 1.0)\n",
    "print(1 is 1.0)\n",
    "print(1 is not 1.0)"
   ]
  },
  {
   "cell_type": "markdown",
   "id": "4f09e93b-d8d7-4b73-ac88-5b0af7c5c552",
   "metadata": {},
   "source": [
    "# 2. 변수와 자료형\n"
   ]
  },
  {
   "cell_type": "markdown",
   "id": "d1fbcfe0-83a0-417f-822e-8bec221c14b0",
   "metadata": {},
   "source": [
    "## 변수"
   ]
  },
  {
   "cell_type": "code",
   "execution_count": 42,
   "id": "a26052a0-4430-4382-a6b7-82bdb5bad62a",
   "metadata": {},
   "outputs": [
    {
     "name": "stdout",
     "output_type": "stream",
     "text": [
      "100\n"
     ]
    }
   ],
   "source": [
    "# 변수 만들기\n",
    "x = 100\n",
    "print(x)"
   ]
  },
  {
   "cell_type": "code",
   "execution_count": 43,
   "id": "4e73a66e-f97e-4b70-a549-9352b45cae99",
   "metadata": {},
   "outputs": [
    {
     "name": "stdout",
     "output_type": "stream",
     "text": [
      "Hello, world\n"
     ]
    }
   ],
   "source": [
    "x = 'Hello, world'\n",
    "print(x)"
   ]
  },
  {
   "cell_type": "code",
   "execution_count": 44,
   "id": "51695e66-0cbe-462d-a565-8824e6eb5d3b",
   "metadata": {},
   "outputs": [
    {
     "name": "stdout",
     "output_type": "stream",
     "text": [
      "100\n",
      "200\n",
      "300\n"
     ]
    }
   ],
   "source": [
    "# 여러개의 변수를 차리 가능\n",
    "x, y, z = 100, 200, 300\n",
    "print(x)\n",
    "print(y)\n",
    "print(z)"
   ]
  },
  {
   "cell_type": "code",
   "execution_count": 45,
   "id": "726c3d15-04ff-410d-b37f-8519e24a1ea9",
   "metadata": {},
   "outputs": [
    {
     "name": "stdout",
     "output_type": "stream",
     "text": [
      "1 10\n"
     ]
    },
    {
     "ename": "NameError",
     "evalue": "name 'x' is not defined",
     "output_type": "error",
     "traceback": [
      "\u001b[1;31m---------------------------------------------------------------------------\u001b[0m",
      "\u001b[1;31mNameError\u001b[0m                                 Traceback (most recent call last)",
      "Cell \u001b[1;32mIn[45], line 5\u001b[0m\n\u001b[0;32m      3\u001b[0m \u001b[38;5;28mprint\u001b[39m(\u001b[38;5;124m'\u001b[39m\u001b[38;5;124m1\u001b[39m\u001b[38;5;124m'\u001b[39m, x)\n\u001b[0;32m      4\u001b[0m \u001b[38;5;28;01mdel\u001b[39;00m x\n\u001b[1;32m----> 5\u001b[0m \u001b[38;5;28mprint\u001b[39m(\u001b[38;5;124m'\u001b[39m\u001b[38;5;124m2\u001b[39m\u001b[38;5;124m'\u001b[39m, \u001b[43mx\u001b[49m)\n",
      "\u001b[1;31mNameError\u001b[0m: name 'x' is not defined"
     ]
    }
   ],
   "source": [
    "# 변수를 생성, 삭제 가능\n",
    "x = 10\n",
    "print('1', x)\n",
    "del x\n",
    "print('2', x)"
   ]
  },
  {
   "cell_type": "code",
   "execution_count": 46,
   "id": "954dadb7-1544-47c6-9f3c-4db8a96ed2b0",
   "metadata": {},
   "outputs": [
    {
     "ename": "SyntaxError",
     "evalue": "invalid decimal literal (482919702.py, line 1)",
     "output_type": "error",
     "traceback": [
      "\u001b[1;36m  Cell \u001b[1;32mIn[46], line 1\u001b[1;36m\u001b[0m\n\u001b[1;33m    1a = 10\u001b[0m\n\u001b[1;37m    ^\u001b[0m\n\u001b[1;31mSyntaxError\u001b[0m\u001b[1;31m:\u001b[0m invalid decimal literal\n"
     ]
    }
   ],
   "source": [
    "1a = 10  # 변수는 영문으로 시작 , 특정한 특수문자"
   ]
  },
  {
   "cell_type": "markdown",
   "id": "dd892fd3-9cec-47e9-b655-7be8b417790e",
   "metadata": {},
   "source": [
    "## 자료형 \n",
    "\n",
    "1) Numbers"
   ]
  },
  {
   "cell_type": "code",
   "execution_count": 47,
   "id": "5023523e-4d5b-4fef-bf12-b290b5244e0b",
   "metadata": {},
   "outputs": [
    {
     "name": "stdout",
     "output_type": "stream",
     "text": [
      "1\n"
     ]
    }
   ],
   "source": [
    "int_val = 1\n",
    "print(int_val)"
   ]
  },
  {
   "cell_type": "code",
   "execution_count": 48,
   "id": "ace2faf4-7261-40d1-aa1c-0a6410274145",
   "metadata": {},
   "outputs": [
    {
     "name": "stdout",
     "output_type": "stream",
     "text": [
      "-10\n"
     ]
    }
   ],
   "source": [
    "int_val2 = -10\n",
    "print(int_val2)"
   ]
  },
  {
   "cell_type": "code",
   "execution_count": 49,
   "id": "057068c5-77e4-40fc-b891-f40ddf26054a",
   "metadata": {},
   "outputs": [
    {
     "name": "stdout",
     "output_type": "stream",
     "text": [
      "11.1\n"
     ]
    }
   ],
   "source": [
    "float_val1 = 11.1 \n",
    "print(float_val1)"
   ]
  },
  {
   "cell_type": "code",
   "execution_count": 51,
   "id": "f7b65baa-4fa3-41a2-b073-85bd0dc72744",
   "metadata": {},
   "outputs": [
    {
     "name": "stdout",
     "output_type": "stream",
     "text": [
      "1000000000010.5\n"
     ]
    }
   ],
   "source": [
    "float_val2 = 10.5 + 1E12   # 1000000000000 ( 0 * 12 )\n",
    "print(float_val2)"
   ]
  },
  {
   "cell_type": "code",
   "execution_count": 52,
   "id": "27a16787-15e8-4e65-a489-314b4f6ee023",
   "metadata": {},
   "outputs": [
    {
     "name": "stdout",
     "output_type": "stream",
     "text": [
      "3.14j\n"
     ]
    }
   ],
   "source": [
    "complex_val1 = 3.14j\n",
    "print(complex_val1)"
   ]
  },
  {
   "cell_type": "code",
   "execution_count": 53,
   "id": "05d2ebe9-7f12-41a2-bd38-7c5103254d01",
   "metadata": {},
   "outputs": [
    {
     "name": "stdout",
     "output_type": "stream",
     "text": [
      "(21.2-7j)\n"
     ]
    }
   ],
   "source": [
    "complex_val2 = 2.12e1 - 7j\n",
    "print(complex_val2)"
   ]
  },
  {
   "cell_type": "markdown",
   "id": "659a7db6-d02a-49d7-999f-f75f5542778c",
   "metadata": {},
   "source": [
    "2) String"
   ]
  },
  {
   "cell_type": "code",
   "execution_count": 55,
   "id": "dfcdc9ee-1bbc-46eb-8138-3c646ad418ed",
   "metadata": {},
   "outputs": [
    {
     "name": "stdout",
     "output_type": "stream",
     "text": [
      "Hello world\n"
     ]
    }
   ],
   "source": [
    "str = 'Hello world'\n",
    "print(str)"
   ]
  },
  {
   "cell_type": "code",
   "execution_count": 56,
   "id": "c18ac003-b2cb-483d-8f21-02033beac134",
   "metadata": {},
   "outputs": [
    {
     "name": "stdout",
     "output_type": "stream",
     "text": [
      "H\n"
     ]
    }
   ],
   "source": [
    "print(str[0])"
   ]
  },
  {
   "cell_type": "code",
   "execution_count": 57,
   "id": "54cf24f1-f5e1-4a71-ab37-a1b5177ac5be",
   "metadata": {},
   "outputs": [
    {
     "name": "stdout",
     "output_type": "stream",
     "text": [
      "llo\n"
     ]
    }
   ],
   "source": [
    "print(str[2:5])"
   ]
  },
  {
   "cell_type": "code",
   "execution_count": 58,
   "id": "071d5ba0-6f33-45b8-84a2-1b74cfbdc27e",
   "metadata": {},
   "outputs": [
    {
     "name": "stdout",
     "output_type": "stream",
     "text": [
      "llo world\n"
     ]
    }
   ],
   "source": [
    "print(str[2:])"
   ]
  },
  {
   "cell_type": "code",
   "execution_count": 59,
   "id": "ecdf3076-4962-4225-a123-f1e156ac953c",
   "metadata": {},
   "outputs": [
    {
     "name": "stdout",
     "output_type": "stream",
     "text": [
      "Hello worldHello worldHello worldHello worldHello world\n"
     ]
    }
   ],
   "source": [
    "print(str * 5)"
   ]
  },
  {
   "cell_type": "code",
   "execution_count": 60,
   "id": "5886aff0-6954-4331-95ed-730af7c652df",
   "metadata": {},
   "outputs": [
    {
     "name": "stdout",
     "output_type": "stream",
     "text": [
      "Hello world text add \n"
     ]
    }
   ],
   "source": [
    "print(str + ' text add ')"
   ]
  },
  {
   "cell_type": "markdown",
   "id": "ef98fd32-539b-4a4d-ba9e-c0dd405d0864",
   "metadata": {},
   "source": [
    "3) List"
   ]
  },
  {
   "cell_type": "code",
   "execution_count": 61,
   "id": "f14a73d1-5fc5-4fab-9333-a98950f73cd5",
   "metadata": {},
   "outputs": [
    {
     "name": "stdout",
     "output_type": "stream",
     "text": [
      "['abcd', 567, 2.34, 'kim', 70.5]\n"
     ]
    }
   ],
   "source": [
    "list = [ 'abcd', 567, 2.34, 'kim', 70.5 ]\n",
    "print(list)"
   ]
  },
  {
   "cell_type": "code",
   "execution_count": 64,
   "id": "8a52531c-97b5-4968-a7a8-74d94cb6ff3c",
   "metadata": {},
   "outputs": [
    {
     "name": "stdout",
     "output_type": "stream",
     "text": [
      "b\n"
     ]
    }
   ],
   "source": [
    "print(list[0][1])"
   ]
  },
  {
   "cell_type": "code",
   "execution_count": 63,
   "id": "5a16b342-3265-40be-8c93-775da77594a2",
   "metadata": {},
   "outputs": [
    {
     "name": "stdout",
     "output_type": "stream",
     "text": [
      "[567, 2.34]\n"
     ]
    }
   ],
   "source": [
    "print(list[1:3])"
   ]
  },
  {
   "cell_type": "code",
   "execution_count": 66,
   "id": "91d7c421-35f1-4297-b0d1-22a5416e7604",
   "metadata": {},
   "outputs": [
    {
     "name": "stdout",
     "output_type": "stream",
     "text": [
      "['abcd', 'xxx', 2.34, 'kim', 70.5]\n"
     ]
    }
   ],
   "source": [
    "list[1] = 'xxx'\n",
    "print(list)"
   ]
  },
  {
   "cell_type": "markdown",
   "id": "bf3a2358-dcb2-4e8e-8b77-4e414767b3fb",
   "metadata": {},
   "source": [
    "4) Tupple"
   ]
  },
  {
   "cell_type": "code",
   "execution_count": 67,
   "id": "c68c27c4-ae25-4d74-8e76-05e127330d3a",
   "metadata": {},
   "outputs": [
    {
     "name": "stdout",
     "output_type": "stream",
     "text": [
      "(1, 'abvc', 2.5)\n"
     ]
    }
   ],
   "source": [
    "tup = (1, 'abvc', 2.5)\n",
    "print(tup)"
   ]
  },
  {
   "cell_type": "code",
   "execution_count": 69,
   "id": "fdb688ff-40b0-490a-858b-f2c1ed567e77",
   "metadata": {},
   "outputs": [
    {
     "name": "stdout",
     "output_type": "stream",
     "text": [
      "abvc\n"
     ]
    }
   ],
   "source": [
    "print(tup[1])"
   ]
  },
  {
   "cell_type": "code",
   "execution_count": 70,
   "id": "01458d8a-85e8-4761-8e2e-5a00602cfe78",
   "metadata": {},
   "outputs": [
    {
     "ename": "TypeError",
     "evalue": "'tuple' object does not support item assignment",
     "output_type": "error",
     "traceback": [
      "\u001b[1;31m---------------------------------------------------------------------------\u001b[0m",
      "\u001b[1;31mTypeError\u001b[0m                                 Traceback (most recent call last)",
      "Cell \u001b[1;32mIn[70], line 1\u001b[0m\n\u001b[1;32m----> 1\u001b[0m \u001b[43mtup\u001b[49m\u001b[43m[\u001b[49m\u001b[38;5;241;43m1\u001b[39;49m\u001b[43m]\u001b[49m \u001b[38;5;241m=\u001b[39m \u001b[38;5;124m'\u001b[39m\u001b[38;5;124mxyz\u001b[39m\u001b[38;5;124m'\u001b[39m\n",
      "\u001b[1;31mTypeError\u001b[0m: 'tuple' object does not support item assignment"
     ]
    }
   ],
   "source": [
    "tup[1] = 'xyz'"
   ]
  },
  {
   "cell_type": "markdown",
   "id": "33ed9337-72fe-4c26-aa97-809b149483c7",
   "metadata": {},
   "source": [
    "5) 함수"
   ]
  },
  {
   "cell_type": "code",
   "execution_count": 72,
   "id": "5c6a5d00-ab78-4562-8118-70322b4eb87b",
   "metadata": {},
   "outputs": [
    {
     "data": {
      "text/plain": [
       "5"
      ]
     },
     "execution_count": 72,
     "metadata": {},
     "output_type": "execute_result"
    }
   ],
   "source": [
    "max(1, 2, 3, 5, 4)"
   ]
  },
  {
   "cell_type": "code",
   "execution_count": 73,
   "id": "5c0be2a1-c6a9-4fce-855a-1d771a5e42ab",
   "metadata": {},
   "outputs": [
    {
     "data": {
      "text/plain": [
       "5"
      ]
     },
     "execution_count": 73,
     "metadata": {},
     "output_type": "execute_result"
    }
   ],
   "source": [
    "a = (1, 2, 3, 5, 4)\n",
    "max(a)"
   ]
  },
  {
   "cell_type": "code",
   "execution_count": 74,
   "id": "859305d2-1f24-4110-b2ac-eb4d44f457b0",
   "metadata": {},
   "outputs": [
    {
     "name": "stdout",
     "output_type": "stream",
     "text": [
      "8\n"
     ]
    }
   ],
   "source": [
    "def add(a, b):\n",
    "    return a + b\n",
    "\n",
    "a = 3\n",
    "b = 5\n",
    "\n",
    "c = add(a, b)\n",
    "print(c)"
   ]
  },
  {
   "cell_type": "markdown",
   "id": "44453e1f-54f8-4210-921c-025aee572d68",
   "metadata": {},
   "source": [
    "6. 모듈"
   ]
  },
  {
   "cell_type": "raw",
   "id": "46562a01-673b-4175-9b7e-b9e95bb81185",
   "metadata": {},
   "source": [
    "$ mo1.py  모듈 생성 \n",
    "\n",
    "def add(a, b):\n",
    "    return a + b\n",
    "\n",
    "def sub(a, b):\n",
    "    return a + b"
   ]
  },
  {
   "cell_type": "code",
   "execution_count": 78,
   "id": "574ec1c0-da66-4b65-a54a-c294b73d4d8d",
   "metadata": {},
   "outputs": [
    {
     "data": {
      "text/plain": [
       "7"
      ]
     },
     "execution_count": 78,
     "metadata": {},
     "output_type": "execute_result"
    }
   ],
   "source": [
    "from mo1 import add, sub\n",
    "add(5, 2)"
   ]
  },
  {
   "cell_type": "markdown",
   "id": "c8716f52-e4b5-4946-a1b0-184eea715932",
   "metadata": {},
   "source": [
    "# 데이터 이해"
   ]
  },
  {
   "cell_type": "markdown",
   "id": "71d79ba1-3fdd-41b1-a138-9eb064c0a7cd",
   "metadata": {},
   "source": [
    "## CSV 불러오기"
   ]
  },
  {
   "cell_type": "code",
   "execution_count": 80,
   "id": "de8d06a3-8e68-444b-9dfb-eaee91b5d0ae",
   "metadata": {},
   "outputs": [
    {
     "data": {
      "text/plain": [
       "'d:\\\\python-workspace'"
      ]
     },
     "execution_count": 80,
     "metadata": {},
     "output_type": "execute_result"
    }
   ],
   "source": [
    "import os\n",
    "os.getcwd()     # 현재 나의 위치"
   ]
  },
  {
   "cell_type": "code",
   "execution_count": 81,
   "id": "3e3a2941-b244-4e6f-a7a6-433cd9ba2783",
   "metadata": {},
   "outputs": [
    {
     "name": "stdout",
     "output_type": "stream",
     "text": [
      " D 드라이브의 볼륨에는 이름이 없습니다.\n",
      " 볼륨 일련 번호: 5A74-F2DC\n",
      "\n",
      " d:\\python-workspace 디렉터리\n",
      "\n",
      "2025-03-08  오후 12:09    <DIR>          .\n",
      "2025-03-08  오후 12:09    <DIR>          ..\n",
      "2025-03-08  오전 09:54    <DIR>          .ipynb_checkpoints\n",
      "2025-03-08  오후 12:09            27,205 1일차.ipynb\n",
      "2025-03-08  오후 12:06    <DIR>          data\n",
      "2025-03-08  오전 11:48                68 mo1.py\n",
      "2025-03-08  오전 11:47    <DIR>          __pycache__\n",
      "2025-03-08  오전 10:02    <DIR>          데이터분석\n",
      "2025-03-08  오전 10:23    <DIR>          빅데이터분석과머신러닝_강의자료\n",
      "               2개 파일              27,273 바이트\n",
      "               7개 디렉터리  490,988,265,472 바이트 남음\n"
     ]
    }
   ],
   "source": [
    "!dir"
   ]
  },
  {
   "cell_type": "code",
   "execution_count": 82,
   "id": "e10bda3f-c149-4a89-a124-725d88887893",
   "metadata": {},
   "outputs": [
    {
     "name": "stdout",
     "output_type": "stream",
     "text": [
      " D 드라이브의 볼륨에는 이름이 없습니다.\n",
      " 볼륨 일련 번호: 5A74-F2DC\n",
      "\n",
      " d:\\python-workspace\\data 디렉터리\n",
      "\n",
      "2025-03-08  오후 12:06    <DIR>          .\n",
      "2025-03-08  오후 12:06    <DIR>          ..\n",
      "2025-03-07  오후 10:53            42,782 bicycle.csv\n",
      "2025-03-07  오후 10:53            45,945 bicycle.xlsx\n",
      "2020-01-27  오후 09:17               574 read.json\n",
      "               3개 파일              89,301 바이트\n",
      "               2개 디렉터리  490,988,265,472 바이트 남음\n"
     ]
    }
   ],
   "source": [
    "!dir data"
   ]
  },
  {
   "cell_type": "code",
   "execution_count": 94,
   "id": "b267c5cb-9e81-477f-8398-23458c42f18b",
   "metadata": {},
   "outputs": [],
   "source": [
    "import pandas as pd"
   ]
  },
  {
   "cell_type": "code",
   "execution_count": 95,
   "id": "88c26ce5-07b8-4561-8912-cf11f06ff927",
   "metadata": {},
   "outputs": [
    {
     "name": "stdout",
     "output_type": "stream",
     "text": [
      "./data/bicycle.csv\n"
     ]
    }
   ],
   "source": [
    "# 파일 경로를 찾고 변수 file_path에 파일명을 저장\n",
    "file_path = './data/bicycle.csv'\n",
    "print(file_path)"
   ]
  },
  {
   "cell_type": "code",
   "execution_count": 96,
   "id": "05ed6285-75d1-4fe4-9be1-fc39a91d09bc",
   "metadata": {},
   "outputs": [],
   "source": [
    "import time"
   ]
  },
  {
   "cell_type": "code",
   "execution_count": 99,
   "id": "b9bbb51f-49c5-4f6d-abd7-65365af04a95",
   "metadata": {},
   "outputs": [
    {
     "name": "stdout",
     "output_type": "stream",
     "text": [
      "0.005924224853515625\n"
     ]
    },
    {
     "data": {
      "text/html": [
       "<div>\n",
       "<style scoped>\n",
       "    .dataframe tbody tr th:only-of-type {\n",
       "        vertical-align: middle;\n",
       "    }\n",
       "\n",
       "    .dataframe tbody tr th {\n",
       "        vertical-align: top;\n",
       "    }\n",
       "\n",
       "    .dataframe thead th {\n",
       "        text-align: right;\n",
       "    }\n",
       "</style>\n",
       "<table border=\"1\" class=\"dataframe\">\n",
       "  <thead>\n",
       "    <tr style=\"text-align: right;\">\n",
       "      <th></th>\n",
       "      <th>자전거번호</th>\n",
       "      <th>대여일시</th>\n",
       "      <th>대여소번호</th>\n",
       "      <th>대여소명</th>\n",
       "      <th>대여거치대</th>\n",
       "      <th>반납일시</th>\n",
       "      <th>반납대여소번호</th>\n",
       "      <th>반납대여소명</th>\n",
       "      <th>반납거치대</th>\n",
       "      <th>이용시간</th>\n",
       "      <th>이용거리</th>\n",
       "    </tr>\n",
       "  </thead>\n",
       "  <tbody>\n",
       "    <tr>\n",
       "      <th>0</th>\n",
       "      <td>SPB-23220</td>\n",
       "      <td>2024-11-01 8:48</td>\n",
       "      <td>646</td>\n",
       "      <td>장한평역 1번출구 (국민은행앞)</td>\n",
       "      <td>3.0</td>\n",
       "      <td>2024-11-01 9:01</td>\n",
       "      <td>3</td>\n",
       "      <td>중랑센터</td>\n",
       "      <td>7.0</td>\n",
       "      <td>12.0</td>\n",
       "      <td>1100.0</td>\n",
       "    </tr>\n",
       "    <tr>\n",
       "      <th>1</th>\n",
       "      <td>SPB-16216</td>\n",
       "      <td>2024-11-04 8:38</td>\n",
       "      <td>646</td>\n",
       "      <td>장한평역 1번출구 (국민은행앞)</td>\n",
       "      <td>2.0</td>\n",
       "      <td>2024-11-04 8:56</td>\n",
       "      <td>3</td>\n",
       "      <td>중랑센터</td>\n",
       "      <td>2.0</td>\n",
       "      <td>7.0</td>\n",
       "      <td>1420.0</td>\n",
       "    </tr>\n",
       "    <tr>\n",
       "      <th>2</th>\n",
       "      <td>SPB-21097</td>\n",
       "      <td>2024-11-04 8:46</td>\n",
       "      <td>646</td>\n",
       "      <td>장한평역 1번출구 (국민은행앞)</td>\n",
       "      <td>1.0</td>\n",
       "      <td>2024-11-04 8:57</td>\n",
       "      <td>3</td>\n",
       "      <td>중랑센터</td>\n",
       "      <td>7.0</td>\n",
       "      <td>10.0</td>\n",
       "      <td>NaN</td>\n",
       "    </tr>\n",
       "    <tr>\n",
       "      <th>3</th>\n",
       "      <td>SPB-22292</td>\n",
       "      <td>2024-11-05 8:34</td>\n",
       "      <td>646</td>\n",
       "      <td>장한평역 1번출구 (국민은행앞)</td>\n",
       "      <td>1.0</td>\n",
       "      <td>2024-11-05 8:45</td>\n",
       "      <td>3</td>\n",
       "      <td>중랑센터</td>\n",
       "      <td>NaN</td>\n",
       "      <td>10.0</td>\n",
       "      <td>1380.0</td>\n",
       "    </tr>\n",
       "    <tr>\n",
       "      <th>4</th>\n",
       "      <td>SPB-07935</td>\n",
       "      <td>2024-11-05 12:29</td>\n",
       "      <td>512</td>\n",
       "      <td>뚝섬역 1번 출구 옆</td>\n",
       "      <td>11.0</td>\n",
       "      <td>2024-11-05 12:39</td>\n",
       "      <td>3</td>\n",
       "      <td>중랑센터</td>\n",
       "      <td>7.0</td>\n",
       "      <td>10.0</td>\n",
       "      <td>1650.0</td>\n",
       "    </tr>\n",
       "    <tr>\n",
       "      <th>...</th>\n",
       "      <td>...</td>\n",
       "      <td>...</td>\n",
       "      <td>...</td>\n",
       "      <td>...</td>\n",
       "      <td>...</td>\n",
       "      <td>...</td>\n",
       "      <td>...</td>\n",
       "      <td>...</td>\n",
       "      <td>...</td>\n",
       "      <td>...</td>\n",
       "      <td>...</td>\n",
       "    </tr>\n",
       "    <tr>\n",
       "      <th>415</th>\n",
       "      <td>SPB-12116</td>\n",
       "      <td>2024-11-15 4:22</td>\n",
       "      <td>112</td>\n",
       "      <td>극동방송국 앞</td>\n",
       "      <td>5.0</td>\n",
       "      <td>2024-11-15 4:33</td>\n",
       "      <td>101</td>\n",
       "      <td>(구)합정동 주민센터</td>\n",
       "      <td>1.0</td>\n",
       "      <td>11.0</td>\n",
       "      <td>2200.0</td>\n",
       "    </tr>\n",
       "    <tr>\n",
       "      <th>416</th>\n",
       "      <td>SPB-17768</td>\n",
       "      <td>2024-11-15 9:31</td>\n",
       "      <td>103</td>\n",
       "      <td>망원역 2번출구 앞</td>\n",
       "      <td>14.0</td>\n",
       "      <td>2024-11-15 9:37</td>\n",
       "      <td>101</td>\n",
       "      <td>(구)합정동 주민센터</td>\n",
       "      <td>NaN</td>\n",
       "      <td>5.0</td>\n",
       "      <td>NaN</td>\n",
       "    </tr>\n",
       "    <tr>\n",
       "      <th>417</th>\n",
       "      <td>SPB-18841</td>\n",
       "      <td>2024-11-15 20:40</td>\n",
       "      <td>113</td>\n",
       "      <td>홍대입구역 2번출구 앞</td>\n",
       "      <td>24.0</td>\n",
       "      <td>2024-11-15 20:53</td>\n",
       "      <td>101</td>\n",
       "      <td>(구)합정동 주민센터</td>\n",
       "      <td>1.0</td>\n",
       "      <td>12.0</td>\n",
       "      <td>2280.0</td>\n",
       "    </tr>\n",
       "    <tr>\n",
       "      <th>418</th>\n",
       "      <td>SPB-24467</td>\n",
       "      <td>2024-11-15 21:55</td>\n",
       "      <td>152</td>\n",
       "      <td>마포구민체육센터 앞</td>\n",
       "      <td>18.0</td>\n",
       "      <td>2024-11-15 22:05</td>\n",
       "      <td>101</td>\n",
       "      <td>(구)합정동 주민센터</td>\n",
       "      <td>1.0</td>\n",
       "      <td>10.0</td>\n",
       "      <td>1180.0</td>\n",
       "    </tr>\n",
       "    <tr>\n",
       "      <th>419</th>\n",
       "      <td>SPB-17570</td>\n",
       "      <td>2024-11-15 22:16</td>\n",
       "      <td>391</td>\n",
       "      <td>정동길입구</td>\n",
       "      <td>7.0</td>\n",
       "      <td>2024-11-15 23:04</td>\n",
       "      <td>101</td>\n",
       "      <td>(구)합정동 주민센터</td>\n",
       "      <td>5.0</td>\n",
       "      <td>48.0</td>\n",
       "      <td>8100.0</td>\n",
       "    </tr>\n",
       "  </tbody>\n",
       "</table>\n",
       "<p>420 rows × 11 columns</p>\n",
       "</div>"
      ],
      "text/plain": [
       "         자전거번호              대여일시  대여소번호               대여소명  대여거치대  \\\n",
       "0    SPB-23220   2024-11-01 8:48    646  장한평역 1번출구 (국민은행앞)    3.0   \n",
       "1    SPB-16216   2024-11-04 8:38    646  장한평역 1번출구 (국민은행앞)    2.0   \n",
       "2    SPB-21097   2024-11-04 8:46    646  장한평역 1번출구 (국민은행앞)    1.0   \n",
       "3    SPB-22292   2024-11-05 8:34    646  장한평역 1번출구 (국민은행앞)    1.0   \n",
       "4    SPB-07935  2024-11-05 12:29    512        뚝섬역 1번 출구 옆   11.0   \n",
       "..         ...               ...    ...                ...    ...   \n",
       "415  SPB-12116   2024-11-15 4:22    112            극동방송국 앞    5.0   \n",
       "416  SPB-17768   2024-11-15 9:31    103         망원역 2번출구 앞   14.0   \n",
       "417  SPB-18841  2024-11-15 20:40    113       홍대입구역 2번출구 앞   24.0   \n",
       "418  SPB-24467  2024-11-15 21:55    152         마포구민체육센터 앞   18.0   \n",
       "419  SPB-17570  2024-11-15 22:16    391              정동길입구    7.0   \n",
       "\n",
       "                 반납일시  반납대여소번호       반납대여소명  반납거치대  이용시간    이용거리  \n",
       "0     2024-11-01 9:01        3         중랑센터    7.0  12.0  1100.0  \n",
       "1     2024-11-04 8:56        3         중랑센터    2.0   7.0  1420.0  \n",
       "2     2024-11-04 8:57        3         중랑센터    7.0  10.0     NaN  \n",
       "3     2024-11-05 8:45        3         중랑센터    NaN  10.0  1380.0  \n",
       "4    2024-11-05 12:39        3         중랑센터    7.0  10.0  1650.0  \n",
       "..                ...      ...          ...    ...   ...     ...  \n",
       "415   2024-11-15 4:33      101  (구)합정동 주민센터    1.0  11.0  2200.0  \n",
       "416   2024-11-15 9:37      101  (구)합정동 주민센터    NaN   5.0     NaN  \n",
       "417  2024-11-15 20:53      101  (구)합정동 주민센터    1.0  12.0  2280.0  \n",
       "418  2024-11-15 22:05      101  (구)합정동 주민센터    1.0  10.0  1180.0  \n",
       "419  2024-11-15 23:04      101  (구)합정동 주민센터    5.0  48.0  8100.0  \n",
       "\n",
       "[420 rows x 11 columns]"
      ]
     },
     "execution_count": 99,
     "metadata": {},
     "output_type": "execute_result"
    }
   ],
   "source": [
    "# read CSV()함수로 데이터프레임 변환\n",
    "start_time = time.time()\n",
    "df1 = pd.read_csv(file_path, encoding='cp949')\n",
    "\n",
    "end_time = time.time()\n",
    "print(end_time - start_time)\n",
    "df1"
   ]
  },
  {
   "cell_type": "markdown",
   "id": "28bd95d7-f87d-498f-b67a-551b4ffd425e",
   "metadata": {},
   "source": [
    "## excel 불러오기"
   ]
  },
  {
   "cell_type": "code",
   "execution_count": 104,
   "id": "93e9bcaf-2a56-4565-93c9-8e3f454c5e56",
   "metadata": {},
   "outputs": [
    {
     "name": "stdout",
     "output_type": "stream",
     "text": [
      "./data/bicycle.xlsx\n"
     ]
    }
   ],
   "source": [
    "# 파일 경로를 찾고 변수 file_path에 파일명을 저장\n",
    "file_path = './data/bicycle.xlsx'\n",
    "print(file_path)"
   ]
  },
  {
   "cell_type": "code",
   "execution_count": 103,
   "id": "34da73a3-0baf-4608-9f25-50ebd681d719",
   "metadata": {},
   "outputs": [
    {
     "data": {
      "text/plain": [
       "21.548293625241467"
      ]
     },
     "execution_count": 103,
     "metadata": {},
     "output_type": "execute_result"
    }
   ],
   "source": [
    "0.1276569366455078 / 0.005924224853515625"
   ]
  },
  {
   "cell_type": "code",
   "execution_count": 102,
   "id": "31c1e23b-4cc3-481a-a108-c57ba6ef4c2e",
   "metadata": {},
   "outputs": [
    {
     "name": "stdout",
     "output_type": "stream",
     "text": [
      "0.1276569366455078\n"
     ]
    },
    {
     "data": {
      "text/html": [
       "<div>\n",
       "<style scoped>\n",
       "    .dataframe tbody tr th:only-of-type {\n",
       "        vertical-align: middle;\n",
       "    }\n",
       "\n",
       "    .dataframe tbody tr th {\n",
       "        vertical-align: top;\n",
       "    }\n",
       "\n",
       "    .dataframe thead th {\n",
       "        text-align: right;\n",
       "    }\n",
       "</style>\n",
       "<table border=\"1\" class=\"dataframe\">\n",
       "  <thead>\n",
       "    <tr style=\"text-align: right;\">\n",
       "      <th></th>\n",
       "      <th>자전거번호</th>\n",
       "      <th>대여일시</th>\n",
       "      <th>대여소번호</th>\n",
       "      <th>대여소명</th>\n",
       "      <th>대여거치대</th>\n",
       "      <th>반납일시</th>\n",
       "      <th>반납대여소번호</th>\n",
       "      <th>반납대여소명</th>\n",
       "      <th>반납거치대</th>\n",
       "      <th>이용시간</th>\n",
       "      <th>이용거리</th>\n",
       "    </tr>\n",
       "  </thead>\n",
       "  <tbody>\n",
       "    <tr>\n",
       "      <th>0</th>\n",
       "      <td>SPB-23220</td>\n",
       "      <td>2019-11-01 08:48:31</td>\n",
       "      <td>646</td>\n",
       "      <td>장한평역 1번출구 (국민은행앞)</td>\n",
       "      <td>3.0</td>\n",
       "      <td>2024--11-01  9:01:24 AM</td>\n",
       "      <td>3</td>\n",
       "      <td>중랑센터</td>\n",
       "      <td>7.0</td>\n",
       "      <td>12.0</td>\n",
       "      <td>1100.0</td>\n",
       "    </tr>\n",
       "    <tr>\n",
       "      <th>1</th>\n",
       "      <td>SPB-16216</td>\n",
       "      <td>2019-11-04 08:38:39</td>\n",
       "      <td>646</td>\n",
       "      <td>장한평역 1번출구 (국민은행앞)</td>\n",
       "      <td>2.0</td>\n",
       "      <td>2024--11-04  8:56:33 AM</td>\n",
       "      <td>3</td>\n",
       "      <td>중랑센터</td>\n",
       "      <td>2.0</td>\n",
       "      <td>7.0</td>\n",
       "      <td>1420.0</td>\n",
       "    </tr>\n",
       "    <tr>\n",
       "      <th>2</th>\n",
       "      <td>SPB-21097</td>\n",
       "      <td>2019-11-04 08:46:37</td>\n",
       "      <td>646</td>\n",
       "      <td>장한평역 1번출구 (국민은행앞)</td>\n",
       "      <td>1.0</td>\n",
       "      <td>2024--11-04  8:57:35 AM</td>\n",
       "      <td>3</td>\n",
       "      <td>중랑센터</td>\n",
       "      <td>7.0</td>\n",
       "      <td>10.0</td>\n",
       "      <td>NaN</td>\n",
       "    </tr>\n",
       "    <tr>\n",
       "      <th>3</th>\n",
       "      <td>SPB-22292</td>\n",
       "      <td>2019-11-05 08:34:59</td>\n",
       "      <td>646</td>\n",
       "      <td>장한평역 1번출구 (국민은행앞)</td>\n",
       "      <td>1.0</td>\n",
       "      <td>2024--11-05  8:45:45 AM</td>\n",
       "      <td>3</td>\n",
       "      <td>중랑센터</td>\n",
       "      <td>NaN</td>\n",
       "      <td>10.0</td>\n",
       "      <td>1380.0</td>\n",
       "    </tr>\n",
       "    <tr>\n",
       "      <th>4</th>\n",
       "      <td>SPB-07935</td>\n",
       "      <td>2019-11-05 12:29:00</td>\n",
       "      <td>512</td>\n",
       "      <td>뚝섬역 1번 출구 옆</td>\n",
       "      <td>11.0</td>\n",
       "      <td>2024--11-05  12:39:37 PM</td>\n",
       "      <td>3</td>\n",
       "      <td>중랑센터</td>\n",
       "      <td>7.0</td>\n",
       "      <td>10.0</td>\n",
       "      <td>1650.0</td>\n",
       "    </tr>\n",
       "    <tr>\n",
       "      <th>...</th>\n",
       "      <td>...</td>\n",
       "      <td>...</td>\n",
       "      <td>...</td>\n",
       "      <td>...</td>\n",
       "      <td>...</td>\n",
       "      <td>...</td>\n",
       "      <td>...</td>\n",
       "      <td>...</td>\n",
       "      <td>...</td>\n",
       "      <td>...</td>\n",
       "      <td>...</td>\n",
       "    </tr>\n",
       "    <tr>\n",
       "      <th>415</th>\n",
       "      <td>SPB-12116</td>\n",
       "      <td>2019-11-15 04:22:13</td>\n",
       "      <td>112</td>\n",
       "      <td>극동방송국 앞</td>\n",
       "      <td>5.0</td>\n",
       "      <td>2024--11-15  4:33:40 AM</td>\n",
       "      <td>101</td>\n",
       "      <td>(구)합정동 주민센터</td>\n",
       "      <td>1.0</td>\n",
       "      <td>11.0</td>\n",
       "      <td>2200.0</td>\n",
       "    </tr>\n",
       "    <tr>\n",
       "      <th>416</th>\n",
       "      <td>SPB-17768</td>\n",
       "      <td>2019-11-15 09:31:48</td>\n",
       "      <td>103</td>\n",
       "      <td>망원역 2번출구 앞</td>\n",
       "      <td>14.0</td>\n",
       "      <td>2024--11-15  9:37:56 AM</td>\n",
       "      <td>101</td>\n",
       "      <td>(구)합정동 주민센터</td>\n",
       "      <td>NaN</td>\n",
       "      <td>5.0</td>\n",
       "      <td>NaN</td>\n",
       "    </tr>\n",
       "    <tr>\n",
       "      <th>417</th>\n",
       "      <td>SPB-18841</td>\n",
       "      <td>2019-11-15 20:40:40</td>\n",
       "      <td>113</td>\n",
       "      <td>홍대입구역 2번출구 앞</td>\n",
       "      <td>24.0</td>\n",
       "      <td>2024--11-15  8:53:46 PM</td>\n",
       "      <td>101</td>\n",
       "      <td>(구)합정동 주민센터</td>\n",
       "      <td>1.0</td>\n",
       "      <td>12.0</td>\n",
       "      <td>2280.0</td>\n",
       "    </tr>\n",
       "    <tr>\n",
       "      <th>418</th>\n",
       "      <td>SPB-24467</td>\n",
       "      <td>2019-11-15 21:55:13</td>\n",
       "      <td>152</td>\n",
       "      <td>마포구민체육센터 앞</td>\n",
       "      <td>18.0</td>\n",
       "      <td>2024--11-15  10:05:40 PM</td>\n",
       "      <td>101</td>\n",
       "      <td>(구)합정동 주민센터</td>\n",
       "      <td>1.0</td>\n",
       "      <td>10.0</td>\n",
       "      <td>1180.0</td>\n",
       "    </tr>\n",
       "    <tr>\n",
       "      <th>419</th>\n",
       "      <td>SPB-17570</td>\n",
       "      <td>2019-11-15 22:16:08</td>\n",
       "      <td>391</td>\n",
       "      <td>정동길입구</td>\n",
       "      <td>7.0</td>\n",
       "      <td>2024--11-15  11:04:53 PM</td>\n",
       "      <td>101</td>\n",
       "      <td>(구)합정동 주민센터</td>\n",
       "      <td>5.0</td>\n",
       "      <td>48.0</td>\n",
       "      <td>8100.0</td>\n",
       "    </tr>\n",
       "  </tbody>\n",
       "</table>\n",
       "<p>420 rows × 11 columns</p>\n",
       "</div>"
      ],
      "text/plain": [
       "         자전거번호                대여일시  대여소번호               대여소명  대여거치대  \\\n",
       "0    SPB-23220 2019-11-01 08:48:31    646  장한평역 1번출구 (국민은행앞)    3.0   \n",
       "1    SPB-16216 2019-11-04 08:38:39    646  장한평역 1번출구 (국민은행앞)    2.0   \n",
       "2    SPB-21097 2019-11-04 08:46:37    646  장한평역 1번출구 (국민은행앞)    1.0   \n",
       "3    SPB-22292 2019-11-05 08:34:59    646  장한평역 1번출구 (국민은행앞)    1.0   \n",
       "4    SPB-07935 2019-11-05 12:29:00    512        뚝섬역 1번 출구 옆   11.0   \n",
       "..         ...                 ...    ...                ...    ...   \n",
       "415  SPB-12116 2019-11-15 04:22:13    112            극동방송국 앞    5.0   \n",
       "416  SPB-17768 2019-11-15 09:31:48    103         망원역 2번출구 앞   14.0   \n",
       "417  SPB-18841 2019-11-15 20:40:40    113       홍대입구역 2번출구 앞   24.0   \n",
       "418  SPB-24467 2019-11-15 21:55:13    152         마포구민체육센터 앞   18.0   \n",
       "419  SPB-17570 2019-11-15 22:16:08    391              정동길입구    7.0   \n",
       "\n",
       "                         반납일시  반납대여소번호       반납대여소명  반납거치대  이용시간    이용거리  \n",
       "0     2024--11-01  9:01:24 AM        3         중랑센터    7.0  12.0  1100.0  \n",
       "1     2024--11-04  8:56:33 AM        3         중랑센터    2.0   7.0  1420.0  \n",
       "2     2024--11-04  8:57:35 AM        3         중랑센터    7.0  10.0     NaN  \n",
       "3     2024--11-05  8:45:45 AM        3         중랑센터    NaN  10.0  1380.0  \n",
       "4    2024--11-05  12:39:37 PM        3         중랑센터    7.0  10.0  1650.0  \n",
       "..                        ...      ...          ...    ...   ...     ...  \n",
       "415   2024--11-15  4:33:40 AM      101  (구)합정동 주민센터    1.0  11.0  2200.0  \n",
       "416   2024--11-15  9:37:56 AM      101  (구)합정동 주민센터    NaN   5.0     NaN  \n",
       "417   2024--11-15  8:53:46 PM      101  (구)합정동 주민센터    1.0  12.0  2280.0  \n",
       "418  2024--11-15  10:05:40 PM      101  (구)합정동 주민센터    1.0  10.0  1180.0  \n",
       "419  2024--11-15  11:04:53 PM      101  (구)합정동 주민센터    5.0  48.0  8100.0  \n",
       "\n",
       "[420 rows x 11 columns]"
      ]
     },
     "execution_count": 102,
     "metadata": {},
     "output_type": "execute_result"
    }
   ],
   "source": [
    "# read CSV()함수로 데이터프레임 변환\n",
    "start_time = time.time()\n",
    "df2 = pd.read_excel(file_path)\n",
    "end_time = time.time()\n",
    "print(end_time - start_time)\n",
    "df2"
   ]
  },
  {
   "cell_type": "markdown",
   "id": "5b0f154c-b09a-4192-9a57-5cbbd7103286",
   "metadata": {},
   "source": [
    "## JSON 불러오기"
   ]
  },
  {
   "cell_type": "code",
   "execution_count": 105,
   "id": "5069178c-f732-4ef2-98bb-383eed8adcc7",
   "metadata": {},
   "outputs": [
    {
     "name": "stdout",
     "output_type": "stream",
     "text": [
      "./data/read.json\n"
     ]
    }
   ],
   "source": [
    "# 파일 경로를 찾고 변수 file_path에 파일명을 저장\n",
    "file_path = './data/read.json'\n",
    "print(file_path)"
   ]
  },
  {
   "cell_type": "code",
   "execution_count": 106,
   "id": "58dfc47d-0719-4ef4-b9d7-06fff0809d8a",
   "metadata": {},
   "outputs": [
    {
     "name": "stdout",
     "output_type": "stream",
     "text": [
      "0.01894974708557129\n"
     ]
    },
    {
     "data": {
      "text/html": [
       "<div>\n",
       "<style scoped>\n",
       "    .dataframe tbody tr th:only-of-type {\n",
       "        vertical-align: middle;\n",
       "    }\n",
       "\n",
       "    .dataframe tbody tr th {\n",
       "        vertical-align: top;\n",
       "    }\n",
       "\n",
       "    .dataframe thead th {\n",
       "        text-align: right;\n",
       "    }\n",
       "</style>\n",
       "<table border=\"1\" class=\"dataframe\">\n",
       "  <thead>\n",
       "    <tr style=\"text-align: right;\">\n",
       "      <th></th>\n",
       "      <th>1.FirstName</th>\n",
       "      <th>2.LastName</th>\n",
       "      <th>3.Age</th>\n",
       "      <th>4.University</th>\n",
       "      <th>5.Courses</th>\n",
       "    </tr>\n",
       "  </thead>\n",
       "  <tbody>\n",
       "    <tr>\n",
       "      <th>0</th>\n",
       "      <td>Gildong</td>\n",
       "      <td>Hong</td>\n",
       "      <td>20</td>\n",
       "      <td>Gachon University</td>\n",
       "      <td>{'Classes': ['Probability', 'Generalized Linea...</td>\n",
       "    </tr>\n",
       "    <tr>\n",
       "      <th>1</th>\n",
       "      <td>Gildong</td>\n",
       "      <td>Hong</td>\n",
       "      <td>20</td>\n",
       "      <td>Gachon University</td>\n",
       "      <td>{'Classes': ['Data Structure', 'Programming', ...</td>\n",
       "    </tr>\n",
       "  </tbody>\n",
       "</table>\n",
       "</div>"
      ],
      "text/plain": [
       "  1.FirstName 2.LastName  3.Age       4.University  \\\n",
       "0     Gildong       Hong     20  Gachon University   \n",
       "1     Gildong       Hong     20  Gachon University   \n",
       "\n",
       "                                           5.Courses  \n",
       "0  {'Classes': ['Probability', 'Generalized Linea...  \n",
       "1  {'Classes': ['Data Structure', 'Programming', ...  "
      ]
     },
     "execution_count": 106,
     "metadata": {},
     "output_type": "execute_result"
    }
   ],
   "source": [
    "# read json()함수로 데이터프레임 변환\n",
    "start_time = time.time()\n",
    "df3 = pd.read_json(file_path)\n",
    "end_time = time.time()\n",
    "print(end_time - start_time)\n",
    "df3"
   ]
  },
  {
   "cell_type": "markdown",
   "id": "204b97a0-9011-4a50-b107-0d12732a694f",
   "metadata": {},
   "source": [
    "# 데이터 저장하기"
   ]
  },
  {
   "cell_type": "markdown",
   "id": "78c3f2d3-c510-4cbf-9c2c-8041af2ef2dc",
   "metadata": {},
   "source": [
    "##  CSV 파일 저장하기"
   ]
  },
  {
   "cell_type": "code",
   "execution_count": 108,
   "id": "320873e6-25dc-4e61-a835-2ad5d45f8a6a",
   "metadata": {},
   "outputs": [
    {
     "name": "stdout",
     "output_type": "stream",
     "text": [
      "         자전거번호              대여일시  대여소번호               대여소명  대여거치대  \\\n",
      "0    SPB-23220   2024-11-01 8:48    646  장한평역 1번출구 (국민은행앞)    3.0   \n",
      "1    SPB-16216   2024-11-04 8:38    646  장한평역 1번출구 (국민은행앞)    2.0   \n",
      "2    SPB-21097   2024-11-04 8:46    646  장한평역 1번출구 (국민은행앞)    1.0   \n",
      "3    SPB-22292   2024-11-05 8:34    646  장한평역 1번출구 (국민은행앞)    1.0   \n",
      "4    SPB-07935  2024-11-05 12:29    512        뚝섬역 1번 출구 옆   11.0   \n",
      "..         ...               ...    ...                ...    ...   \n",
      "415  SPB-12116   2024-11-15 4:22    112            극동방송국 앞    5.0   \n",
      "416  SPB-17768   2024-11-15 9:31    103         망원역 2번출구 앞   14.0   \n",
      "417  SPB-18841  2024-11-15 20:40    113       홍대입구역 2번출구 앞   24.0   \n",
      "418  SPB-24467  2024-11-15 21:55    152         마포구민체육센터 앞   18.0   \n",
      "419  SPB-17570  2024-11-15 22:16    391              정동길입구    7.0   \n",
      "\n",
      "                 반납일시  반납대여소번호       반납대여소명  반납거치대  이용시간    이용거리  \n",
      "0     2024-11-01 9:01        3         중랑센터    7.0  12.0  1100.0  \n",
      "1     2024-11-04 8:56        3         중랑센터    2.0   7.0  1420.0  \n",
      "2     2024-11-04 8:57        3         중랑센터    7.0  10.0     NaN  \n",
      "3     2024-11-05 8:45        3         중랑센터    NaN  10.0  1380.0  \n",
      "4    2024-11-05 12:39        3         중랑센터    7.0  10.0  1650.0  \n",
      "..                ...      ...          ...    ...   ...     ...  \n",
      "415   2024-11-15 4:33      101  (구)합정동 주민센터    1.0  11.0  2200.0  \n",
      "416   2024-11-15 9:37      101  (구)합정동 주민센터    NaN   5.0     NaN  \n",
      "417  2024-11-15 20:53      101  (구)합정동 주민센터    1.0  12.0  2280.0  \n",
      "418  2024-11-15 22:05      101  (구)합정동 주민센터    1.0  10.0  1180.0  \n",
      "419  2024-11-15 23:04      101  (구)합정동 주민센터    5.0  48.0  8100.0  \n",
      "\n",
      "[420 rows x 11 columns]\n",
      "==================================================\n",
      "         자전거번호              대여일시  대여소번호               대여소명  대여거치대  \\\n",
      "0    SPB-23220   2024-11-01 8:48    646  장한평역 1번출구 (국민은행앞)    3.0   \n",
      "1    SPB-16216   2024-11-04 8:38    646  장한평역 1번출구 (국민은행앞)    2.0   \n",
      "2    SPB-21097   2024-11-04 8:46    646  장한평역 1번출구 (국민은행앞)    1.0   \n",
      "3    SPB-22292   2024-11-05 8:34    646  장한평역 1번출구 (국민은행앞)    1.0   \n",
      "4    SPB-07935  2024-11-05 12:29    512        뚝섬역 1번 출구 옆   11.0   \n",
      "..         ...               ...    ...                ...    ...   \n",
      "415  SPB-12116   2024-11-15 4:22    112            극동방송국 앞    5.0   \n",
      "416  SPB-17768   2024-11-15 9:31    103         망원역 2번출구 앞   14.0   \n",
      "417  SPB-18841  2024-11-15 20:40    113       홍대입구역 2번출구 앞   24.0   \n",
      "418  SPB-24467  2024-11-15 21:55    152         마포구민체육센터 앞   18.0   \n",
      "419  SPB-17570  2024-11-15 22:16    391              정동길입구    7.0   \n",
      "\n",
      "                 반납일시  반납대여소번호       반납대여소명  반납거치대  이용시간    이용거리  \n",
      "0     2024-11-01 9:01        3         중랑센터    7.0  12.0  1100.0  \n",
      "1     2024-11-04 8:56        3         중랑센터    2.0   7.0  1420.0  \n",
      "2     2024-11-04 8:57        3         중랑센터    7.0  10.0     NaN  \n",
      "3     2024-11-05 8:45        3         중랑센터    NaN  10.0  1380.0  \n",
      "4    2024-11-05 12:39        3         중랑센터    7.0  10.0  1650.0  \n",
      "..                ...      ...          ...    ...   ...     ...  \n",
      "415   2024-11-15 4:33      101  (구)합정동 주민센터    1.0  11.0  2200.0  \n",
      "416   2024-11-15 9:37      101  (구)합정동 주민센터    NaN   5.0     NaN  \n",
      "417  2024-11-15 20:53      101  (구)합정동 주민센터    1.0  12.0  2280.0  \n",
      "418  2024-11-15 22:05      101  (구)합정동 주민센터    1.0  10.0  1180.0  \n",
      "419  2024-11-15 23:04      101  (구)합정동 주민센터    5.0  48.0  8100.0  \n",
      "\n",
      "[420 rows x 11 columns]\n"
     ]
    }
   ],
   "source": [
    "# 파일 경로를 찾고 변수 file_path에 파일명을 저장\n",
    "file_path = './data/bicycle.csv'\n",
    "\n",
    "# read CSV()함수로 데이터프레임 변환\n",
    "df1 = pd.read_csv(file_path, encoding='cp949')\n",
    "print(df1)\n",
    "print('=' * 50)\n",
    "\n",
    "# to_CSV 함수를 사용해서 CSV 파일 저장하기 ( 중요 : index=False 반드시 사용 할 것 )\n",
    "df1.to_csv('./data/example_data.csv', index=False)\n",
    "\n",
    "# 저장 파일 확인\n",
    "file_path = './data/example_data.csv'\n",
    "df2 = pd.read_csv(file_path)\n",
    "print(df2)"
   ]
  },
  {
   "cell_type": "markdown",
   "id": "2fccf318-9ef3-4dca-9ead-3c7fbb4b7d8d",
   "metadata": {},
   "source": [
    "## EXCEL 파일 저장하기"
   ]
  },
  {
   "cell_type": "code",
   "execution_count": 110,
   "id": "b33b0cb8-1cac-4d30-b4c6-d7e69c4abee5",
   "metadata": {},
   "outputs": [
    {
     "name": "stdout",
     "output_type": "stream",
     "text": [
      "         자전거번호                대여일시  대여소번호               대여소명  대여거치대  \\\n",
      "0    SPB-23220 2019-11-01 08:48:31    646  장한평역 1번출구 (국민은행앞)    3.0   \n",
      "1    SPB-16216 2019-11-04 08:38:39    646  장한평역 1번출구 (국민은행앞)    2.0   \n",
      "2    SPB-21097 2019-11-04 08:46:37    646  장한평역 1번출구 (국민은행앞)    1.0   \n",
      "3    SPB-22292 2019-11-05 08:34:59    646  장한평역 1번출구 (국민은행앞)    1.0   \n",
      "4    SPB-07935 2019-11-05 12:29:00    512        뚝섬역 1번 출구 옆   11.0   \n",
      "..         ...                 ...    ...                ...    ...   \n",
      "415  SPB-12116 2019-11-15 04:22:13    112            극동방송국 앞    5.0   \n",
      "416  SPB-17768 2019-11-15 09:31:48    103         망원역 2번출구 앞   14.0   \n",
      "417  SPB-18841 2019-11-15 20:40:40    113       홍대입구역 2번출구 앞   24.0   \n",
      "418  SPB-24467 2019-11-15 21:55:13    152         마포구민체육센터 앞   18.0   \n",
      "419  SPB-17570 2019-11-15 22:16:08    391              정동길입구    7.0   \n",
      "\n",
      "                         반납일시  반납대여소번호       반납대여소명  반납거치대  이용시간    이용거리  \n",
      "0     2024--11-01  9:01:24 AM        3         중랑센터    7.0  12.0  1100.0  \n",
      "1     2024--11-04  8:56:33 AM        3         중랑센터    2.0   7.0  1420.0  \n",
      "2     2024--11-04  8:57:35 AM        3         중랑센터    7.0  10.0     NaN  \n",
      "3     2024--11-05  8:45:45 AM        3         중랑센터    NaN  10.0  1380.0  \n",
      "4    2024--11-05  12:39:37 PM        3         중랑센터    7.0  10.0  1650.0  \n",
      "..                        ...      ...          ...    ...   ...     ...  \n",
      "415   2024--11-15  4:33:40 AM      101  (구)합정동 주민센터    1.0  11.0  2200.0  \n",
      "416   2024--11-15  9:37:56 AM      101  (구)합정동 주민센터    NaN   5.0     NaN  \n",
      "417   2024--11-15  8:53:46 PM      101  (구)합정동 주민센터    1.0  12.0  2280.0  \n",
      "418  2024--11-15  10:05:40 PM      101  (구)합정동 주민센터    1.0  10.0  1180.0  \n",
      "419  2024--11-15  11:04:53 PM      101  (구)합정동 주민센터    5.0  48.0  8100.0  \n",
      "\n",
      "[420 rows x 11 columns]\n",
      "==================================================\n",
      "         자전거번호                대여일시  대여소번호               대여소명  대여거치대  \\\n",
      "0    SPB-23220 2019-11-01 08:48:31    646  장한평역 1번출구 (국민은행앞)    3.0   \n",
      "1    SPB-16216 2019-11-04 08:38:39    646  장한평역 1번출구 (국민은행앞)    2.0   \n",
      "2    SPB-21097 2019-11-04 08:46:37    646  장한평역 1번출구 (국민은행앞)    1.0   \n",
      "3    SPB-22292 2019-11-05 08:34:59    646  장한평역 1번출구 (국민은행앞)    1.0   \n",
      "4    SPB-07935 2019-11-05 12:29:00    512        뚝섬역 1번 출구 옆   11.0   \n",
      "..         ...                 ...    ...                ...    ...   \n",
      "415  SPB-12116 2019-11-15 04:22:13    112            극동방송국 앞    5.0   \n",
      "416  SPB-17768 2019-11-15 09:31:48    103         망원역 2번출구 앞   14.0   \n",
      "417  SPB-18841 2019-11-15 20:40:40    113       홍대입구역 2번출구 앞   24.0   \n",
      "418  SPB-24467 2019-11-15 21:55:13    152         마포구민체육센터 앞   18.0   \n",
      "419  SPB-17570 2019-11-15 22:16:08    391              정동길입구    7.0   \n",
      "\n",
      "                         반납일시  반납대여소번호       반납대여소명  반납거치대  이용시간    이용거리  \n",
      "0     2024--11-01  9:01:24 AM        3         중랑센터    7.0  12.0  1100.0  \n",
      "1     2024--11-04  8:56:33 AM        3         중랑센터    2.0   7.0  1420.0  \n",
      "2     2024--11-04  8:57:35 AM        3         중랑센터    7.0  10.0     NaN  \n",
      "3     2024--11-05  8:45:45 AM        3         중랑센터    NaN  10.0  1380.0  \n",
      "4    2024--11-05  12:39:37 PM        3         중랑센터    7.0  10.0  1650.0  \n",
      "..                        ...      ...          ...    ...   ...     ...  \n",
      "415   2024--11-15  4:33:40 AM      101  (구)합정동 주민센터    1.0  11.0  2200.0  \n",
      "416   2024--11-15  9:37:56 AM      101  (구)합정동 주민센터    NaN   5.0     NaN  \n",
      "417   2024--11-15  8:53:46 PM      101  (구)합정동 주민센터    1.0  12.0  2280.0  \n",
      "418  2024--11-15  10:05:40 PM      101  (구)합정동 주민센터    1.0  10.0  1180.0  \n",
      "419  2024--11-15  11:04:53 PM      101  (구)합정동 주민센터    5.0  48.0  8100.0  \n",
      "\n",
      "[420 rows x 11 columns]\n"
     ]
    }
   ],
   "source": [
    "# 파일 경로를 찾고 변수 file_path에 파일명을 저장\n",
    "file_path = './data/bicycle.xlsx'\n",
    "\n",
    "# read excel()함수로 데이터프레임 변환\n",
    "df1 = pd.read_excel(file_path)\n",
    "print(df1)\n",
    "print('=' * 50)\n",
    "\n",
    "# to_excel 함수를 사용해서 excel 파일 저장하기\n",
    "df1.to_excel('./data/example_data.xlsx', index=False)\n",
    "\n",
    "# 저장 파일 확인\n",
    "file_path = './data/example_data.xlsx'\n",
    "df2 = pd.read_excel(file_path)\n",
    "print(df2)"
   ]
  },
  {
   "cell_type": "markdown",
   "id": "123dd6a3-7976-4a57-bccb-5c95e8d05f08",
   "metadata": {},
   "source": [
    "## JSON 파일 저장하기"
   ]
  },
  {
   "cell_type": "code",
   "execution_count": 112,
   "id": "af67e682-cd2b-42f8-b609-a7f0248dcdd0",
   "metadata": {},
   "outputs": [
    {
     "name": "stdout",
     "output_type": "stream",
     "text": [
      "  1.FirstName 2.LastName  3.Age       4.University  \\\n",
      "0     Gildong       Hong     20  Gachon University   \n",
      "1     Gildong       Hong     20  Gachon University   \n",
      "\n",
      "                                           5.Courses  \n",
      "0  {'Classes': ['Probability', 'Generalized Linea...  \n",
      "1  {'Classes': ['Data Structure', 'Programming', ...  \n",
      "==================================================\n",
      "  1.FirstName 2.LastName  3.Age       4.University  \\\n",
      "0     Gildong       Hong     20  Gachon University   \n",
      "1     Gildong       Hong     20  Gachon University   \n",
      "\n",
      "                                           5.Courses  \n",
      "0  {'Classes': ['Probability', 'Generalized Linea...  \n",
      "1  {'Classes': ['Data Structure', 'Programming', ...  \n"
     ]
    }
   ],
   "source": [
    "# 파일 경로를 찾고 변수 file_path에 파일명을 저장\n",
    "file_path = './data/read.json'\n",
    "\n",
    "# read json()함수로 데이터프레임 변환\n",
    "df1 = pd.read_json(file_path)\n",
    "print(df1)\n",
    "print('=' * 50)\n",
    "\n",
    "# to_json 함수를 사용해서 excel 파일 저장하기\n",
    "df1.to_json('./data/example_data.json')\n",
    "\n",
    "# 저장 파일 확인\n",
    "file_path = './data/example_data.json'\n",
    "df2 = pd.read_json(file_path)\n",
    "print(df2)"
   ]
  },
  {
   "cell_type": "markdown",
   "id": "c4c9c71f-ed27-462f-bccf-2c02e2e3ab80",
   "metadata": {},
   "source": [
    "# PANDAS"
   ]
  },
  {
   "cell_type": "markdown",
   "id": "55adab4d-f4ed-4b29-9189-d62c8f460df0",
   "metadata": {},
   "source": [
    "## 시리즈와 데이터 프레임"
   ]
  },
  {
   "cell_type": "code",
   "execution_count": 114,
   "id": "46261590-5cdb-4c02-a818-be62d32c4cbf",
   "metadata": {},
   "outputs": [],
   "source": [
    "import pandas as pd"
   ]
  },
  {
   "cell_type": "code",
   "execution_count": 116,
   "id": "f4cb5557-0e8f-4b0b-b6fb-d55049c2ca70",
   "metadata": {},
   "outputs": [
    {
     "data": {
      "text/plain": [
       "0    멍멍이\n",
       "1    냐옹이\n",
       "2    호랑이\n",
       "3     사자\n",
       "4    원숭이\n",
       "dtype: object"
      ]
     },
     "execution_count": 116,
     "metadata": {},
     "output_type": "execute_result"
    }
   ],
   "source": [
    "sd1 = pd.Series(['멍멍이', '냐옹이', '호랑이', '사자', '원숭이'],\n",
    "         index=['0', '1', '2', '3', '4'])\n",
    "sd1"
   ]
  },
  {
   "cell_type": "code",
   "execution_count": 117,
   "id": "19d8f109-24f1-4f0e-a046-a23f15330cbd",
   "metadata": {},
   "outputs": [
    {
     "data": {
      "text/plain": [
       "a    멍멍이\n",
       "b    냐옹이\n",
       "c    호랑이\n",
       "d     사자\n",
       "e    원숭이\n",
       "dtype: object"
      ]
     },
     "execution_count": 117,
     "metadata": {},
     "output_type": "execute_result"
    }
   ],
   "source": [
    "sd1 = pd.Series(['멍멍이', '냐옹이', '호랑이', '사자', '원숭이'],\n",
    "         index=['a', 'b', 'c', 'd', 'e'])\n",
    "sd1"
   ]
  },
  {
   "cell_type": "code",
   "execution_count": 118,
   "id": "7527aeff-d2e3-49f8-abaf-361f77004a0e",
   "metadata": {},
   "outputs": [],
   "source": [
    "## 시리즈 - 1) 딕셔너리"
   ]
  },
  {
   "cell_type": "code",
   "execution_count": 119,
   "id": "a4592746-08b1-4085-86b7-91dbab06fae7",
   "metadata": {},
   "outputs": [
    {
     "data": {
      "text/plain": [
       "a    멍멍이\n",
       "b    냐옹이\n",
       "c    호랑이\n",
       "d     사자\n",
       "e    원숭이\n",
       "dtype: object"
      ]
     },
     "execution_count": 119,
     "metadata": {},
     "output_type": "execute_result"
    }
   ],
   "source": [
    "dict_data = {'a' : '멍멍이', 'b' : '냐옹이', 'c' : '호랑이', 'd' : '사자', 'e' : '원숭이'}\n",
    "sd2 = pd.Series(dict_data)\n",
    "sd2"
   ]
  },
  {
   "cell_type": "code",
   "execution_count": 121,
   "id": "7653a709-14e3-409c-b860-754f8b1e0933",
   "metadata": {},
   "outputs": [
    {
     "name": "stdout",
     "output_type": "stream",
     "text": [
      "<class 'pandas.core.series.Series'>\n",
      "<class 'pandas.core.series.Series'>\n"
     ]
    }
   ],
   "source": [
    "print(type(sd1))\n",
    "print(type(sd2))"
   ]
  },
  {
   "cell_type": "markdown",
   "id": "99a9200d-b80d-45ac-bb4d-cb84ca47ceef",
   "metadata": {},
   "source": [
    "## 시리즈 - 2) 리스트"
   ]
  },
  {
   "cell_type": "code",
   "execution_count": 126,
   "id": "4c73de8f-74e8-4e7f-8cd8-a98e2689e4ef",
   "metadata": {},
   "outputs": [
    {
     "data": {
      "text/plain": [
       "0    멍멍이\n",
       "1    냐옹이\n",
       "2    호랑이\n",
       "3     사자\n",
       "4    원숭이\n",
       "dtype: object"
      ]
     },
     "execution_count": 126,
     "metadata": {},
     "output_type": "execute_result"
    }
   ],
   "source": [
    "sd1 = pd.Series(['멍멍이', '냐옹이', '호랑이', '사자', '원숭이'],\n",
    "         index=['0', '1', '2', '3', '4'])\n",
    "sd1"
   ]
  },
  {
   "cell_type": "markdown",
   "id": "44d70b6a-0af4-4b4c-9051-e5652a70d80e",
   "metadata": {},
   "source": [
    "## 시리즈 - 3) 튜플"
   ]
  },
  {
   "cell_type": "code",
   "execution_count": 127,
   "id": "6d9c99b2-38d3-49bd-933f-591d869d31c5",
   "metadata": {},
   "outputs": [
    {
     "data": {
      "text/plain": [
       "0    멍멍이\n",
       "1    냐옹이\n",
       "2    호랑이\n",
       "3     사자\n",
       "4    원숭이\n",
       "dtype: object"
      ]
     },
     "execution_count": 127,
     "metadata": {},
     "output_type": "execute_result"
    }
   ],
   "source": [
    "sd2 = pd.Series(('멍멍이', '냐옹이', '호랑이', '사자', '원숭이'),\n",
    "         index=['0', '1', '2', '3', '4'])\n",
    "sd2"
   ]
  },
  {
   "cell_type": "code",
   "execution_count": 131,
   "id": "c556585b-9b0b-4a48-8e00-1028fc05e22c",
   "metadata": {},
   "outputs": [
    {
     "data": {
      "text/plain": [
       "0    물고기\n",
       "1    냐옹이\n",
       "2    호랑이\n",
       "3     사자\n",
       "4    원숭이\n",
       "dtype: object"
      ]
     },
     "execution_count": 131,
     "metadata": {},
     "output_type": "execute_result"
    }
   ],
   "source": [
    "sd2.iloc[0] = '물고기'\n",
    "sd2"
   ]
  },
  {
   "cell_type": "code",
   "execution_count": 133,
   "id": "bc146e5d-c86e-42f9-b3b9-4c3c22c59656",
   "metadata": {},
   "outputs": [
    {
     "data": {
      "text/plain": [
       "0    멍멍이\n",
       "1    냐옹이\n",
       "2    호랑이\n",
       "3     사자\n",
       "4    원숭이\n",
       "dtype: object"
      ]
     },
     "execution_count": 133,
     "metadata": {},
     "output_type": "execute_result"
    }
   ],
   "source": [
    "tup_data = ('멍멍이', '냐옹이', '호랑이', '사자', '원숭이')\n",
    "sd2 = pd.Series(tup_data,index=['0', '1', '2', '3', '4'])\n",
    "sd2"
   ]
  },
  {
   "cell_type": "code",
   "execution_count": 134,
   "id": "cd29c5bc-eeaf-4490-bda1-a6e72ba9d125",
   "metadata": {},
   "outputs": [
    {
     "data": {
      "text/plain": [
       "0    물고기\n",
       "1    냐옹이\n",
       "2    호랑이\n",
       "3     사자\n",
       "4    원숭이\n",
       "dtype: object"
      ]
     },
     "execution_count": 134,
     "metadata": {},
     "output_type": "execute_result"
    }
   ],
   "source": [
    "sd2.iloc[0] = '물고기'\n",
    "sd2"
   ]
  },
  {
   "cell_type": "markdown",
   "id": "89d147bb-53f0-4fdf-ab36-767731381a62",
   "metadata": {},
   "source": [
    "### 데이터 프레임  - 1) 딕셔너리"
   ]
  },
  {
   "cell_type": "code",
   "execution_count": 136,
   "id": "4e50cd36-1207-4563-b6aa-9c957f9a8c98",
   "metadata": {},
   "outputs": [
    {
     "name": "stdout",
     "output_type": "stream",
     "text": [
      "{'동물': ['멍멍이', '냐옹이', '호랑이', '사자', '원숭이'], '나이': [7, 9, 2, 3, 1]}\n"
     ]
    }
   ],
   "source": [
    "dict_data = {'동물' : ['멍멍이', '냐옹이', '호랑이', '사자', '원숭이'], \n",
    "             '나이' : [7, 9, 2, 3, 1]}\n",
    "print(dict_data)"
   ]
  },
  {
   "cell_type": "code",
   "execution_count": 137,
   "id": "739ca417-d176-41bf-9ed1-476ec0588b25",
   "metadata": {},
   "outputs": [
    {
     "data": {
      "text/html": [
       "<div>\n",
       "<style scoped>\n",
       "    .dataframe tbody tr th:only-of-type {\n",
       "        vertical-align: middle;\n",
       "    }\n",
       "\n",
       "    .dataframe tbody tr th {\n",
       "        vertical-align: top;\n",
       "    }\n",
       "\n",
       "    .dataframe thead th {\n",
       "        text-align: right;\n",
       "    }\n",
       "</style>\n",
       "<table border=\"1\" class=\"dataframe\">\n",
       "  <thead>\n",
       "    <tr style=\"text-align: right;\">\n",
       "      <th></th>\n",
       "      <th>동물</th>\n",
       "      <th>나이</th>\n",
       "    </tr>\n",
       "  </thead>\n",
       "  <tbody>\n",
       "    <tr>\n",
       "      <th>0</th>\n",
       "      <td>멍멍이</td>\n",
       "      <td>7</td>\n",
       "    </tr>\n",
       "    <tr>\n",
       "      <th>1</th>\n",
       "      <td>냐옹이</td>\n",
       "      <td>9</td>\n",
       "    </tr>\n",
       "    <tr>\n",
       "      <th>2</th>\n",
       "      <td>호랑이</td>\n",
       "      <td>2</td>\n",
       "    </tr>\n",
       "    <tr>\n",
       "      <th>3</th>\n",
       "      <td>사자</td>\n",
       "      <td>3</td>\n",
       "    </tr>\n",
       "    <tr>\n",
       "      <th>4</th>\n",
       "      <td>원숭이</td>\n",
       "      <td>1</td>\n",
       "    </tr>\n",
       "  </tbody>\n",
       "</table>\n",
       "</div>"
      ],
      "text/plain": [
       "    동물  나이\n",
       "0  멍멍이   7\n",
       "1  냐옹이   9\n",
       "2  호랑이   2\n",
       "3   사자   3\n",
       "4  원숭이   1"
      ]
     },
     "execution_count": 137,
     "metadata": {},
     "output_type": "execute_result"
    }
   ],
   "source": [
    "df1 = pd.DataFrame(dict_data)\n",
    "df1"
   ]
  },
  {
   "cell_type": "markdown",
   "id": "8cfd2d60-dd48-495e-a6dd-9ebf9a42237c",
   "metadata": {},
   "source": [
    "### 데이터 프레임  - 2) 리스트"
   ]
  },
  {
   "cell_type": "code",
   "execution_count": 142,
   "id": "c65a6ade-0d60-40d1-ab6c-cb95863385f3",
   "metadata": {},
   "outputs": [
    {
     "data": {
      "text/html": [
       "<div>\n",
       "<style scoped>\n",
       "    .dataframe tbody tr th:only-of-type {\n",
       "        vertical-align: middle;\n",
       "    }\n",
       "\n",
       "    .dataframe tbody tr th {\n",
       "        vertical-align: top;\n",
       "    }\n",
       "\n",
       "    .dataframe thead th {\n",
       "        text-align: right;\n",
       "    }\n",
       "</style>\n",
       "<table border=\"1\" class=\"dataframe\">\n",
       "  <thead>\n",
       "    <tr style=\"text-align: right;\">\n",
       "      <th></th>\n",
       "      <th>동물</th>\n",
       "      <th>나이</th>\n",
       "    </tr>\n",
       "  </thead>\n",
       "  <tbody>\n",
       "    <tr>\n",
       "      <th>0</th>\n",
       "      <td>멍멍이</td>\n",
       "      <td>7</td>\n",
       "    </tr>\n",
       "    <tr>\n",
       "      <th>1</th>\n",
       "      <td>냐옹이</td>\n",
       "      <td>9</td>\n",
       "    </tr>\n",
       "    <tr>\n",
       "      <th>2</th>\n",
       "      <td>호랑이</td>\n",
       "      <td>2</td>\n",
       "    </tr>\n",
       "    <tr>\n",
       "      <th>3</th>\n",
       "      <td>사자</td>\n",
       "      <td>3</td>\n",
       "    </tr>\n",
       "    <tr>\n",
       "      <th>4</th>\n",
       "      <td>원숭이</td>\n",
       "      <td>1</td>\n",
       "    </tr>\n",
       "  </tbody>\n",
       "</table>\n",
       "</div>"
      ],
      "text/plain": [
       "    동물 나이\n",
       "0  멍멍이  7\n",
       "1  냐옹이  9\n",
       "2  호랑이  2\n",
       "3   사자  3\n",
       "4  원숭이  1"
      ]
     },
     "execution_count": 142,
     "metadata": {},
     "output_type": "execute_result"
    }
   ],
   "source": [
    "data = [ ['멍멍이', '7'], ['냐옹이', '9'], ['호랑이', '2'], ['사자', '3'], ['원숭이', '1']]\n",
    "indexed = ['0', '1', '2', '3', '4']\n",
    "columned = ['동물', '나이']\n",
    "\n",
    "df2 = pd.DataFrame(data, index=indexed, columns=columned)\n",
    "df2"
   ]
  },
  {
   "cell_type": "markdown",
   "id": "ba587070-a512-4931-a3f4-3a0fc91768a4",
   "metadata": {},
   "source": [
    "# 데이터 프레임 조작"
   ]
  },
  {
   "cell_type": "code",
   "execution_count": 143,
   "id": "67452d02-8623-43f5-a550-202de3cf44a0",
   "metadata": {},
   "outputs": [],
   "source": [
    "import pandas as pd\n",
    "import matplotlib as mpl\n",
    "import matplotlib.pyplot as plt\n",
    "import seaborn as sns\n",
    "import numpy as np"
   ]
  },
  {
   "cell_type": "code",
   "execution_count": 144,
   "id": "8daf89b3-ffd2-4626-a9ea-e16975199930",
   "metadata": {},
   "outputs": [
    {
     "data": {
      "text/html": [
       "<div>\n",
       "<style scoped>\n",
       "    .dataframe tbody tr th:only-of-type {\n",
       "        vertical-align: middle;\n",
       "    }\n",
       "\n",
       "    .dataframe tbody tr th {\n",
       "        vertical-align: top;\n",
       "    }\n",
       "\n",
       "    .dataframe thead th {\n",
       "        text-align: right;\n",
       "    }\n",
       "</style>\n",
       "<table border=\"1\" class=\"dataframe\">\n",
       "  <thead>\n",
       "    <tr style=\"text-align: right;\">\n",
       "      <th></th>\n",
       "      <th>total_bill</th>\n",
       "      <th>tip</th>\n",
       "      <th>sex</th>\n",
       "      <th>smoker</th>\n",
       "      <th>day</th>\n",
       "      <th>time</th>\n",
       "      <th>size</th>\n",
       "    </tr>\n",
       "  </thead>\n",
       "  <tbody>\n",
       "    <tr>\n",
       "      <th>0</th>\n",
       "      <td>16.99</td>\n",
       "      <td>1.01</td>\n",
       "      <td>Female</td>\n",
       "      <td>No</td>\n",
       "      <td>Sun</td>\n",
       "      <td>Dinner</td>\n",
       "      <td>2</td>\n",
       "    </tr>\n",
       "    <tr>\n",
       "      <th>1</th>\n",
       "      <td>10.34</td>\n",
       "      <td>1.66</td>\n",
       "      <td>Male</td>\n",
       "      <td>No</td>\n",
       "      <td>Sun</td>\n",
       "      <td>Dinner</td>\n",
       "      <td>3</td>\n",
       "    </tr>\n",
       "    <tr>\n",
       "      <th>2</th>\n",
       "      <td>21.01</td>\n",
       "      <td>3.50</td>\n",
       "      <td>Male</td>\n",
       "      <td>No</td>\n",
       "      <td>Sun</td>\n",
       "      <td>Dinner</td>\n",
       "      <td>3</td>\n",
       "    </tr>\n",
       "    <tr>\n",
       "      <th>3</th>\n",
       "      <td>23.68</td>\n",
       "      <td>3.31</td>\n",
       "      <td>Male</td>\n",
       "      <td>No</td>\n",
       "      <td>Sun</td>\n",
       "      <td>Dinner</td>\n",
       "      <td>2</td>\n",
       "    </tr>\n",
       "    <tr>\n",
       "      <th>4</th>\n",
       "      <td>24.59</td>\n",
       "      <td>3.61</td>\n",
       "      <td>Female</td>\n",
       "      <td>No</td>\n",
       "      <td>Sun</td>\n",
       "      <td>Dinner</td>\n",
       "      <td>4</td>\n",
       "    </tr>\n",
       "    <tr>\n",
       "      <th>...</th>\n",
       "      <td>...</td>\n",
       "      <td>...</td>\n",
       "      <td>...</td>\n",
       "      <td>...</td>\n",
       "      <td>...</td>\n",
       "      <td>...</td>\n",
       "      <td>...</td>\n",
       "    </tr>\n",
       "    <tr>\n",
       "      <th>239</th>\n",
       "      <td>29.03</td>\n",
       "      <td>5.92</td>\n",
       "      <td>Male</td>\n",
       "      <td>No</td>\n",
       "      <td>Sat</td>\n",
       "      <td>Dinner</td>\n",
       "      <td>3</td>\n",
       "    </tr>\n",
       "    <tr>\n",
       "      <th>240</th>\n",
       "      <td>27.18</td>\n",
       "      <td>2.00</td>\n",
       "      <td>Female</td>\n",
       "      <td>Yes</td>\n",
       "      <td>Sat</td>\n",
       "      <td>Dinner</td>\n",
       "      <td>2</td>\n",
       "    </tr>\n",
       "    <tr>\n",
       "      <th>241</th>\n",
       "      <td>22.67</td>\n",
       "      <td>2.00</td>\n",
       "      <td>Male</td>\n",
       "      <td>Yes</td>\n",
       "      <td>Sat</td>\n",
       "      <td>Dinner</td>\n",
       "      <td>2</td>\n",
       "    </tr>\n",
       "    <tr>\n",
       "      <th>242</th>\n",
       "      <td>17.82</td>\n",
       "      <td>1.75</td>\n",
       "      <td>Male</td>\n",
       "      <td>No</td>\n",
       "      <td>Sat</td>\n",
       "      <td>Dinner</td>\n",
       "      <td>2</td>\n",
       "    </tr>\n",
       "    <tr>\n",
       "      <th>243</th>\n",
       "      <td>18.78</td>\n",
       "      <td>3.00</td>\n",
       "      <td>Female</td>\n",
       "      <td>No</td>\n",
       "      <td>Thur</td>\n",
       "      <td>Dinner</td>\n",
       "      <td>2</td>\n",
       "    </tr>\n",
       "  </tbody>\n",
       "</table>\n",
       "<p>244 rows × 7 columns</p>\n",
       "</div>"
      ],
      "text/plain": [
       "     total_bill   tip     sex smoker   day    time  size\n",
       "0         16.99  1.01  Female     No   Sun  Dinner     2\n",
       "1         10.34  1.66    Male     No   Sun  Dinner     3\n",
       "2         21.01  3.50    Male     No   Sun  Dinner     3\n",
       "3         23.68  3.31    Male     No   Sun  Dinner     2\n",
       "4         24.59  3.61  Female     No   Sun  Dinner     4\n",
       "..          ...   ...     ...    ...   ...     ...   ...\n",
       "239       29.03  5.92    Male     No   Sat  Dinner     3\n",
       "240       27.18  2.00  Female    Yes   Sat  Dinner     2\n",
       "241       22.67  2.00    Male    Yes   Sat  Dinner     2\n",
       "242       17.82  1.75    Male     No   Sat  Dinner     2\n",
       "243       18.78  3.00  Female     No  Thur  Dinner     2\n",
       "\n",
       "[244 rows x 7 columns]"
      ]
     },
     "execution_count": 144,
     "metadata": {},
     "output_type": "execute_result"
    }
   ],
   "source": [
    "tips = sns.load_dataset('tips')\n",
    "tips"
   ]
  },
  {
   "cell_type": "code",
   "execution_count": 145,
   "id": "2610d8a5-6aec-46ab-a763-426b03f73a32",
   "metadata": {},
   "outputs": [
    {
     "name": "stdout",
     "output_type": "stream",
     "text": [
      "<class 'pandas.core.frame.DataFrame'>\n",
      "RangeIndex: 244 entries, 0 to 243\n",
      "Data columns (total 7 columns):\n",
      " #   Column      Non-Null Count  Dtype   \n",
      "---  ------      --------------  -----   \n",
      " 0   total_bill  244 non-null    float64 \n",
      " 1   tip         244 non-null    float64 \n",
      " 2   sex         244 non-null    category\n",
      " 3   smoker      244 non-null    category\n",
      " 4   day         244 non-null    category\n",
      " 5   time        244 non-null    category\n",
      " 6   size        244 non-null    int64   \n",
      "dtypes: category(4), float64(2), int64(1)\n",
      "memory usage: 7.4 KB\n"
     ]
    }
   ],
   "source": [
    "tips.info()"
   ]
  },
  {
   "cell_type": "code",
   "execution_count": 146,
   "id": "dbb9cea3-049f-45b7-9c3a-1b57cdfdcc4b",
   "metadata": {},
   "outputs": [
    {
     "data": {
      "text/html": [
       "<div>\n",
       "<style scoped>\n",
       "    .dataframe tbody tr th:only-of-type {\n",
       "        vertical-align: middle;\n",
       "    }\n",
       "\n",
       "    .dataframe tbody tr th {\n",
       "        vertical-align: top;\n",
       "    }\n",
       "\n",
       "    .dataframe thead th {\n",
       "        text-align: right;\n",
       "    }\n",
       "</style>\n",
       "<table border=\"1\" class=\"dataframe\">\n",
       "  <thead>\n",
       "    <tr style=\"text-align: right;\">\n",
       "      <th></th>\n",
       "      <th>total_bill</th>\n",
       "      <th>tip</th>\n",
       "      <th>sex</th>\n",
       "      <th>smoker</th>\n",
       "      <th>day</th>\n",
       "      <th>time</th>\n",
       "      <th>size</th>\n",
       "    </tr>\n",
       "  </thead>\n",
       "  <tbody>\n",
       "    <tr>\n",
       "      <th>0</th>\n",
       "      <td>16.99</td>\n",
       "      <td>1.01</td>\n",
       "      <td>Female</td>\n",
       "      <td>No</td>\n",
       "      <td>Sun</td>\n",
       "      <td>Dinner</td>\n",
       "      <td>2</td>\n",
       "    </tr>\n",
       "    <tr>\n",
       "      <th>1</th>\n",
       "      <td>10.34</td>\n",
       "      <td>1.66</td>\n",
       "      <td>Male</td>\n",
       "      <td>No</td>\n",
       "      <td>Sun</td>\n",
       "      <td>Dinner</td>\n",
       "      <td>3</td>\n",
       "    </tr>\n",
       "    <tr>\n",
       "      <th>2</th>\n",
       "      <td>21.01</td>\n",
       "      <td>3.50</td>\n",
       "      <td>Male</td>\n",
       "      <td>No</td>\n",
       "      <td>Sun</td>\n",
       "      <td>Dinner</td>\n",
       "      <td>3</td>\n",
       "    </tr>\n",
       "    <tr>\n",
       "      <th>3</th>\n",
       "      <td>23.68</td>\n",
       "      <td>3.31</td>\n",
       "      <td>Male</td>\n",
       "      <td>No</td>\n",
       "      <td>Sun</td>\n",
       "      <td>Dinner</td>\n",
       "      <td>2</td>\n",
       "    </tr>\n",
       "    <tr>\n",
       "      <th>4</th>\n",
       "      <td>24.59</td>\n",
       "      <td>3.61</td>\n",
       "      <td>Female</td>\n",
       "      <td>No</td>\n",
       "      <td>Sun</td>\n",
       "      <td>Dinner</td>\n",
       "      <td>4</td>\n",
       "    </tr>\n",
       "  </tbody>\n",
       "</table>\n",
       "</div>"
      ],
      "text/plain": [
       "   total_bill   tip     sex smoker  day    time  size\n",
       "0       16.99  1.01  Female     No  Sun  Dinner     2\n",
       "1       10.34  1.66    Male     No  Sun  Dinner     3\n",
       "2       21.01  3.50    Male     No  Sun  Dinner     3\n",
       "3       23.68  3.31    Male     No  Sun  Dinner     2\n",
       "4       24.59  3.61  Female     No  Sun  Dinner     4"
      ]
     },
     "execution_count": 146,
     "metadata": {},
     "output_type": "execute_result"
    }
   ],
   "source": [
    "tips.head()"
   ]
  },
  {
   "cell_type": "code",
   "execution_count": 147,
   "id": "793927bb-093b-4824-bf32-0dcf06b9e9a2",
   "metadata": {},
   "outputs": [
    {
     "data": {
      "text/html": [
       "<div>\n",
       "<style scoped>\n",
       "    .dataframe tbody tr th:only-of-type {\n",
       "        vertical-align: middle;\n",
       "    }\n",
       "\n",
       "    .dataframe tbody tr th {\n",
       "        vertical-align: top;\n",
       "    }\n",
       "\n",
       "    .dataframe thead th {\n",
       "        text-align: right;\n",
       "    }\n",
       "</style>\n",
       "<table border=\"1\" class=\"dataframe\">\n",
       "  <thead>\n",
       "    <tr style=\"text-align: right;\">\n",
       "      <th></th>\n",
       "      <th>total_bill</th>\n",
       "      <th>tip</th>\n",
       "      <th>sex</th>\n",
       "      <th>smoker</th>\n",
       "      <th>day</th>\n",
       "      <th>time</th>\n",
       "      <th>size</th>\n",
       "    </tr>\n",
       "  </thead>\n",
       "  <tbody>\n",
       "    <tr>\n",
       "      <th>239</th>\n",
       "      <td>29.03</td>\n",
       "      <td>5.92</td>\n",
       "      <td>Male</td>\n",
       "      <td>No</td>\n",
       "      <td>Sat</td>\n",
       "      <td>Dinner</td>\n",
       "      <td>3</td>\n",
       "    </tr>\n",
       "    <tr>\n",
       "      <th>240</th>\n",
       "      <td>27.18</td>\n",
       "      <td>2.00</td>\n",
       "      <td>Female</td>\n",
       "      <td>Yes</td>\n",
       "      <td>Sat</td>\n",
       "      <td>Dinner</td>\n",
       "      <td>2</td>\n",
       "    </tr>\n",
       "    <tr>\n",
       "      <th>241</th>\n",
       "      <td>22.67</td>\n",
       "      <td>2.00</td>\n",
       "      <td>Male</td>\n",
       "      <td>Yes</td>\n",
       "      <td>Sat</td>\n",
       "      <td>Dinner</td>\n",
       "      <td>2</td>\n",
       "    </tr>\n",
       "    <tr>\n",
       "      <th>242</th>\n",
       "      <td>17.82</td>\n",
       "      <td>1.75</td>\n",
       "      <td>Male</td>\n",
       "      <td>No</td>\n",
       "      <td>Sat</td>\n",
       "      <td>Dinner</td>\n",
       "      <td>2</td>\n",
       "    </tr>\n",
       "    <tr>\n",
       "      <th>243</th>\n",
       "      <td>18.78</td>\n",
       "      <td>3.00</td>\n",
       "      <td>Female</td>\n",
       "      <td>No</td>\n",
       "      <td>Thur</td>\n",
       "      <td>Dinner</td>\n",
       "      <td>2</td>\n",
       "    </tr>\n",
       "  </tbody>\n",
       "</table>\n",
       "</div>"
      ],
      "text/plain": [
       "     total_bill   tip     sex smoker   day    time  size\n",
       "239       29.03  5.92    Male     No   Sat  Dinner     3\n",
       "240       27.18  2.00  Female    Yes   Sat  Dinner     2\n",
       "241       22.67  2.00    Male    Yes   Sat  Dinner     2\n",
       "242       17.82  1.75    Male     No   Sat  Dinner     2\n",
       "243       18.78  3.00  Female     No  Thur  Dinner     2"
      ]
     },
     "execution_count": 147,
     "metadata": {},
     "output_type": "execute_result"
    }
   ],
   "source": [
    "tips.tail()"
   ]
  },
  {
   "cell_type": "code",
   "execution_count": 148,
   "id": "5e5ee4f4-8ef6-4268-811e-57455dc16f20",
   "metadata": {},
   "outputs": [
    {
     "data": {
      "text/plain": [
       "{'Female', 'Male'}"
      ]
     },
     "execution_count": 148,
     "metadata": {},
     "output_type": "execute_result"
    }
   ],
   "source": [
    "set(tips['sex'])"
   ]
  },
  {
   "cell_type": "code",
   "execution_count": 149,
   "id": "4e251dd3-10be-4313-86a1-a9aa17770a6c",
   "metadata": {},
   "outputs": [
    {
     "data": {
      "text/plain": [
       "{'Fri', 'Sat', 'Sun', 'Thur'}"
      ]
     },
     "execution_count": 149,
     "metadata": {},
     "output_type": "execute_result"
    }
   ],
   "source": [
    "set(tips['day'])"
   ]
  },
  {
   "cell_type": "code",
   "execution_count": 150,
   "id": "ba5d65ac-8383-4cfa-9dc5-77a1257ef709",
   "metadata": {},
   "outputs": [
    {
     "data": {
      "text/plain": [
       "{'No', 'Yes'}"
      ]
     },
     "execution_count": 150,
     "metadata": {},
     "output_type": "execute_result"
    }
   ],
   "source": [
    "set(tips['smoker'])"
   ]
  },
  {
   "cell_type": "code",
   "execution_count": 151,
   "id": "05cb7bca-3d06-41d4-a809-9f7efd549ac1",
   "metadata": {},
   "outputs": [
    {
     "data": {
      "text/plain": [
       "{'Dinner', 'Lunch'}"
      ]
     },
     "execution_count": 151,
     "metadata": {},
     "output_type": "execute_result"
    }
   ],
   "source": [
    "set(tips['time'])"
   ]
  },
  {
   "cell_type": "code",
   "execution_count": null,
   "id": "0bd08266-14ba-47b0-bbce-6379b891661b",
   "metadata": {},
   "outputs": [],
   "source": []
  }
 ],
 "metadata": {
  "kernelspec": {
   "display_name": "Python 3 (ipykernel)",
   "language": "python",
   "name": "python3"
  },
  "language_info": {
   "codemirror_mode": {
    "name": "ipython",
    "version": 3
   },
   "file_extension": ".py",
   "mimetype": "text/x-python",
   "name": "python",
   "nbconvert_exporter": "python",
   "pygments_lexer": "ipython3",
   "version": "3.12.9"
  }
 },
 "nbformat": 4,
 "nbformat_minor": 5
}
