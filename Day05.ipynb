{
 "cells": [
  {
   "cell_type": "code",
   "execution_count": 7,
   "id": "d1bd5ba4-dec4-42dc-95bc-a1e3c1ea5e23",
   "metadata": {},
   "outputs": [],
   "source": [
    "def avq_2(x,y):\n",
    "    return (x+y)/2"
   ]
  },
  {
   "cell_type": "code",
   "execution_count": 8,
   "id": "53c898be-d8e9-4460-bdd7-518746eaa326",
   "metadata": {},
   "outputs": [],
   "source": [
    "def my_sq(x) :\n",
    "    return x**2"
   ]
  },
  {
   "cell_type": "code",
   "execution_count": 9,
   "id": "f8fd94fc-1d4a-4d07-bff6-2f69cdbc59b3",
   "metadata": {},
   "outputs": [],
   "source": [
    "my_cal=my_sq(4)"
   ]
  },
  {
   "cell_type": "code",
   "execution_count": 10,
   "id": "8c09bdfa-aed8-4884-8de6-04c518bea658",
   "metadata": {},
   "outputs": [
    {
     "name": "stdout",
     "output_type": "stream",
     "text": [
      "16\n"
     ]
    }
   ],
   "source": [
    "print(my_cal)"
   ]
  },
  {
   "cell_type": "code",
   "execution_count": 11,
   "id": "91f37f6b-8c08-4ca7-847f-9cfc4858ae0c",
   "metadata": {},
   "outputs": [],
   "source": [
    "import pandas as pd"
   ]
  },
  {
   "cell_type": "code",
   "execution_count": 13,
   "id": "d50fd552-d597-4705-b2d5-f31a37708a33",
   "metadata": {},
   "outputs": [],
   "source": [
    "df=pd.DataFrame( { \"a\" : [10, 20, 30] , \"b\" : [20, 30, 40] } )"
   ]
  },
  {
   "cell_type": "code",
   "execution_count": 14,
   "id": "59bef718-5630-4fb9-8be4-e5c7237f4dba",
   "metadata": {},
   "outputs": [
    {
     "name": "stdout",
     "output_type": "stream",
     "text": [
      "    a   b\n",
      "0  10  20\n",
      "1  20  30\n",
      "2  30  40\n"
     ]
    }
   ],
   "source": [
    "print(df)"
   ]
  },
  {
   "cell_type": "code",
   "execution_count": 15,
   "id": "e92c954f-97f7-4b08-82d2-a238f05f9e6f",
   "metadata": {},
   "outputs": [
    {
     "name": "stdout",
     "output_type": "stream",
     "text": [
      "0    100\n",
      "1    400\n",
      "2    900\n",
      "Name: a, dtype: int64\n"
     ]
    }
   ],
   "source": [
    "print(df['a']**2)"
   ]
  },
  {
   "cell_type": "code",
   "execution_count": 16,
   "id": "f64f4c6c-023b-4eb1-901f-d0481385f2ec",
   "metadata": {},
   "outputs": [],
   "source": [
    "sq=df['a'].apply(my_sq)"
   ]
  },
  {
   "cell_type": "code",
   "execution_count": 17,
   "id": "0a6b379d-00dc-4ba8-bea6-3bd2c8cb8e7b",
   "metadata": {},
   "outputs": [
    {
     "name": "stdout",
     "output_type": "stream",
     "text": [
      "0    100\n",
      "1    400\n",
      "2    900\n",
      "Name: a, dtype: int64\n"
     ]
    }
   ],
   "source": [
    "print(sq)"
   ]
  },
  {
   "cell_type": "markdown",
   "id": "0f6d8409-f671-42ce-8af2-39283e8b3d7c",
   "metadata": {},
   "source": [
    "데이터"
   ]
  },
  {
   "cell_type": "code",
   "execution_count": 18,
   "id": "97115200-8dfb-4544-b4de-2975e010f0b7",
   "metadata": {},
   "outputs": [],
   "source": [
    "import pandas as pd"
   ]
  },
  {
   "cell_type": "code",
   "execution_count": 20,
   "id": "f9775e15-4e5a-4cda-8876-07dca58c1827",
   "metadata": {},
   "outputs": [],
   "source": [
    "df1 = pd.read_csv(\"C:/Users/asia/Desktop/codes/data/concat_1.csv\")"
   ]
  },
  {
   "cell_type": "code",
   "execution_count": 21,
   "id": "132f5c1e-6427-4f59-827e-675e010c7934",
   "metadata": {},
   "outputs": [],
   "source": [
    "df2 = pd.read_csv(\"C:/Users/asia/Desktop/codes/data/concat_2.csv\")"
   ]
  },
  {
   "cell_type": "code",
   "execution_count": 22,
   "id": "8248c1ab-16c6-4156-8895-d2d091aac0bd",
   "metadata": {},
   "outputs": [],
   "source": [
    "df3 = pd.read_csv(\"C:/Users/asia/Desktop/codes/data/concat_3.csv\")"
   ]
  },
  {
   "cell_type": "code",
   "execution_count": 23,
   "id": "72a8cb29-0038-4cf1-9552-624dfbf8ac1b",
   "metadata": {},
   "outputs": [
    {
     "name": "stdout",
     "output_type": "stream",
     "text": [
      "    A   B   C   D\n",
      "0  a0  b0  c0  d0\n",
      "1  a1  b1  c1  d1\n",
      "2  a2  b2  c2  d2\n",
      "3  a3  b3  c3  d3\n"
     ]
    }
   ],
   "source": [
    "print(df1)"
   ]
  },
  {
   "cell_type": "code",
   "execution_count": 24,
   "id": "f1c5dfd6-e3f2-43ae-86d6-139dc589c8f1",
   "metadata": {},
   "outputs": [
    {
     "name": "stdout",
     "output_type": "stream",
     "text": [
      "    A   B   C   D\n",
      "0  a4  b4  c4  d4\n",
      "1  a5  b5  c5  d5\n",
      "2  a6  b6  c6  d6\n",
      "3  a7  b7  c7  d7\n"
     ]
    }
   ],
   "source": [
    "print(df2)"
   ]
  },
  {
   "cell_type": "code",
   "execution_count": 25,
   "id": "c4a2b153-501e-4b7b-87ca-f97edb90243d",
   "metadata": {},
   "outputs": [
    {
     "name": "stdout",
     "output_type": "stream",
     "text": [
      "     A    B    C    D\n",
      "0   a8   b8   c8   d8\n",
      "1   a9   b9   c9   d9\n",
      "2  a10  b10  c10  d10\n",
      "3  a11  b11  c11  d11\n"
     ]
    }
   ],
   "source": [
    "print(df3)"
   ]
  },
  {
   "cell_type": "code",
   "execution_count": 29,
   "id": "1d2c2537-56b2-42bf-a195-603557082d3e",
   "metadata": {},
   "outputs": [
    {
     "name": "stdout",
     "output_type": "stream",
     "text": [
      "     A    B    C    D\n",
      "0   a0   b0   c0   d0\n",
      "1   a1   b1   c1   d1\n",
      "2   a2   b2   c2   d2\n",
      "3   a3   b3   c3   d3\n",
      "0   a4   b4   c4   d4\n",
      "1   a5   b5   c5   d5\n",
      "2   a6   b6   c6   d6\n",
      "3   a7   b7   c7   d7\n",
      "0   a8   b8   c8   d8\n",
      "1   a9   b9   c9   d9\n",
      "2  a10  b10  c10  d10\n",
      "3  a11  b11  c11  d11\n"
     ]
    }
   ],
   "source": [
    "row_concat = pd.concat( [df1, df2, df3] )\n",
    "print(row_concat)"
   ]
  },
  {
   "cell_type": "code",
   "execution_count": 31,
   "id": "ab33c593-07ca-4d4d-86ba-55bcdc217886",
   "metadata": {},
   "outputs": [
    {
     "name": "stdout",
     "output_type": "stream",
     "text": [
      "A    a5\n",
      "B    b5\n",
      "C    c5\n",
      "D    d5\n",
      "Name: 1, dtype: object\n"
     ]
    }
   ],
   "source": [
    "print(row_concat.iloc[5,:])"
   ]
  },
  {
   "cell_type": "markdown",
   "id": "e3d0e7bf-a4fb-4ba6-a38a-077907f8951a",
   "metadata": {},
   "source": [
    "그래프"
   ]
  },
  {
   "cell_type": "code",
   "execution_count": null,
   "id": "d1e077f7-0b37-454d-81f6-8cd8f1ab16cc",
   "metadata": {},
   "outputs": [],
   "source": []
  }
 ],
 "metadata": {
  "kernelspec": {
   "display_name": "Python 3 (ipykernel)",
   "language": "python",
   "name": "python3"
  },
  "language_info": {
   "codemirror_mode": {
    "name": "ipython",
    "version": 3
   },
   "file_extension": ".py",
   "mimetype": "text/x-python",
   "name": "python",
   "nbconvert_exporter": "python",
   "pygments_lexer": "ipython3",
   "version": "3.12.9"
  }
 },
 "nbformat": 4,
 "nbformat_minor": 5
}
